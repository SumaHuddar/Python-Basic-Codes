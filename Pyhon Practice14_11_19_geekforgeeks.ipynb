{
 "cells": [
  {
   "cell_type": "code",
   "execution_count": 11,
   "metadata": {},
   "outputs": [],
   "source": [
    "# factorial of number\n",
    "\n",
    "def fact(n):\n",
    "    return 1 if (n==1 or n==0) else n* fact(n-1)"
   ]
  },
  {
   "cell_type": "code",
   "execution_count": 14,
   "metadata": {},
   "outputs": [
    {
     "data": {
      "text/plain": [
       "120"
      ]
     },
     "execution_count": 14,
     "metadata": {},
     "output_type": "execute_result"
    }
   ],
   "source": [
    "fact(5)"
   ]
  },
  {
   "cell_type": "code",
   "execution_count": 56,
   "metadata": {},
   "outputs": [],
   "source": [
    "# armstrong number 153=1*1*1+ 5*5*5 +3*3*3\n",
    "\n",
    "def armstrong(num):\n",
    "    n=num\n",
    "    sum1=0\n",
    "    l=len(str(num))\n",
    "    \n",
    "    while n>0:\n",
    "        a=n%10\n",
    "        sum1+=a**l\n",
    "        n=n//10\n",
    "    print('sum1', sum1)\n",
    "    print('given', num)\n",
    "    if sum1==num:\n",
    "        return \"Armstrong\"\n",
    "    else:\n",
    "        return \"not an armstrong\"\n",
    "        "
   ]
  },
  {
   "cell_type": "code",
   "execution_count": 58,
   "metadata": {},
   "outputs": [
    {
     "name": "stdout",
     "output_type": "stream",
     "text": [
      "sum1 1634\n",
      "given 1634\n"
     ]
    },
    {
     "data": {
      "text/plain": [
       "'Armstrong'"
      ]
     },
     "execution_count": 58,
     "metadata": {},
     "output_type": "execute_result"
    }
   ],
   "source": [
    "armstrong(1634)"
   ]
  },
  {
   "cell_type": "code",
   "execution_count": 5,
   "metadata": {},
   "outputs": [],
   "source": [
    "def armstrong1(num):\n",
    "    n1=num\n",
    "    sum1=0\n",
    "    l=len(str(num))\n",
    "    \n",
    "    while n1>0:\n",
    "        n2=n1%10\n",
    "        sum1+=n2**l\n",
    "        n1=n1//10\n",
    "    if num==sum1:\n",
    "        return True\n",
    "    else:\n",
    "        return False"
   ]
  },
  {
   "cell_type": "code",
   "execution_count": 6,
   "metadata": {},
   "outputs": [
    {
     "data": {
      "text/plain": [
       "True"
      ]
     },
     "execution_count": 6,
     "metadata": {},
     "output_type": "execute_result"
    }
   ],
   "source": [
    "armstrong1(153)"
   ]
  },
  {
   "cell_type": "code",
   "execution_count": 8,
   "metadata": {},
   "outputs": [
    {
     "data": {
      "text/plain": [
       "False"
      ]
     },
     "execution_count": 8,
     "metadata": {},
     "output_type": "execute_result"
    }
   ],
   "source": [
    "armstrong1(1632)"
   ]
  },
  {
   "cell_type": "code",
   "execution_count": 9,
   "metadata": {},
   "outputs": [],
   "source": [
    "# area of circle Pi*r2\n",
    "\n",
    "def cir_area(r):\n",
    "    area=3.14*r*r\n",
    "    return area\n",
    "    "
   ]
  },
  {
   "cell_type": "code",
   "execution_count": 10,
   "metadata": {},
   "outputs": [
    {
     "data": {
      "text/plain": [
       "12.56"
      ]
     },
     "execution_count": 10,
     "metadata": {},
     "output_type": "execute_result"
    }
   ],
   "source": [
    "cir_area(2)"
   ]
  },
  {
   "cell_type": "code",
   "execution_count": 37,
   "metadata": {},
   "outputs": [],
   "source": [
    "# print all prime numbers in an interval\n",
    "\n",
    "def prime(a,b):\n",
    "    \n",
    "    prime=[]\n",
    "    \n",
    "    for i in range (a,b+1):\n",
    "        if i>1:\n",
    "            for j in range (2,i):\n",
    "                if i%j==0:\n",
    "                    break\n",
    "            else:\n",
    "                prime.append(i)\n",
    "    print(prime)\n",
    "    return(len(prime))"
   ]
  },
  {
   "cell_type": "code",
   "execution_count": 38,
   "metadata": {},
   "outputs": [
    {
     "name": "stdout",
     "output_type": "stream",
     "text": [
      "[2, 3, 5, 7]\n"
     ]
    },
    {
     "data": {
      "text/plain": [
       "4"
      ]
     },
     "execution_count": 38,
     "metadata": {},
     "output_type": "execute_result"
    }
   ],
   "source": [
    "prime(0,10)"
   ]
  },
  {
   "cell_type": "code",
   "execution_count": 39,
   "metadata": {},
   "outputs": [
    {
     "name": "stdout",
     "output_type": "stream",
     "text": [
      "2\n",
      "3\n",
      "5\n",
      "7\n",
      "11\n",
      "13\n",
      "17\n",
      "19\n",
      "23\n"
     ]
    }
   ],
   "source": [
    "start = 0\n",
    "end = 25\n",
    "  \n",
    "for val in range(start, end + 1): \n",
    "      \n",
    "   # If num is divisible by any number   \n",
    "   # between 2 and val, it is not prime  \n",
    "    if val > 1: \n",
    "        for n in range(2, val): \n",
    "            if (val % n) == 0: \n",
    "                break\n",
    "        else: \n",
    "            print(val) "
   ]
  },
  {
   "cell_type": "code",
   "execution_count": 52,
   "metadata": {},
   "outputs": [],
   "source": [
    "def prime1(n1,n2):\n",
    "    \n",
    "    for n in range (n1,n2+1):\n",
    "        if n>1:\n",
    "            for i in range (2,n):\n",
    "                if n%i==0:\n",
    "                    break\n",
    "            else:\n",
    "                print(n)\n",
    "    "
   ]
  },
  {
   "cell_type": "code",
   "execution_count": 53,
   "metadata": {},
   "outputs": [
    {
     "name": "stdout",
     "output_type": "stream",
     "text": [
      "2\n",
      "3\n",
      "5\n",
      "7\n"
     ]
    }
   ],
   "source": [
    "prime1(0,10)"
   ]
  },
  {
   "cell_type": "code",
   "execution_count": 110,
   "metadata": {},
   "outputs": [],
   "source": [
    "# program to check if a num is prime or not\n",
    "\n",
    "def check_prime(num):\n",
    "    \n",
    "    if num>1:\n",
    "        for i in range (2,num+1):\n",
    "            if num%i==0:\n",
    "                print('{} is not prime divides by {}'.format(num,i))\n",
    "                break\n",
    "                    \n",
    "        else:\n",
    "            print('Given number is prime:',num)\n",
    "            \n",
    "    "
   ]
  },
  {
   "cell_type": "code",
   "execution_count": 111,
   "metadata": {},
   "outputs": [
    {
     "name": "stdout",
     "output_type": "stream",
     "text": [
      "10 is not prime divides by 2\n"
     ]
    }
   ],
   "source": [
    "check_prime(10)"
   ]
  },
  {
   "cell_type": "code",
   "execution_count": 118,
   "metadata": {},
   "outputs": [
    {
     "name": "stdout",
     "output_type": "stream",
     "text": [
      "1\n",
      "3\n",
      "5\n",
      "7\n",
      "9\n",
      "11\n",
      "13\n",
      "15\n"
     ]
    }
   ],
   "source": [
    "# python program for nth fibonaccy number Fn=Fn-1+Fn-2\n",
    "\n",
    "num=9\n",
    "f=0\n",
    "for n in range(0,num+1):\n",
    "    if n>1:\n",
    "        f=n-1+n-2\n",
    "        print(f)\n",
    "    \n",
    "\n"
   ]
  },
  {
   "cell_type": "code",
   "execution_count": 137,
   "metadata": {},
   "outputs": [
    {
     "name": "stdout",
     "output_type": "stream",
     "text": [
      "incorrect input\n"
     ]
    }
   ],
   "source": [
    "# # python program for nth fibonaccy number Fn=Fn-1+Fn-2\n",
    "\n",
    "def fib(n):\n",
    "    \n",
    "    if n<=0:\n",
    "        return ('incorrect input')\n",
    "    elif n==1:\n",
    "        return 0\n",
    "    elif n==2:\n",
    "        return 1\n",
    "    else:\n",
    "        return fib(n-1) + fib(n-2)\n",
    "\n",
    "print(fib(0))"
   ]
  },
  {
   "cell_type": "code",
   "execution_count": 138,
   "metadata": {},
   "outputs": [
    {
     "name": "stdout",
     "output_type": "stream",
     "text": [
      "21\n"
     ]
    }
   ],
   "source": [
    "FibArray = [0,1] \n",
    "  \n",
    "def fibonacci2(n): \n",
    "    if n<0: \n",
    "        print(\"Incorrect input\") \n",
    "    elif n<=len(FibArray): \n",
    "        return FibArray[n-1] \n",
    "    else: \n",
    "        temp_fib = fibonacci2(n-1)+fibonacci2(n-2) \n",
    "        FibArray.append(temp_fib) \n",
    "        return temp_fib \n",
    "  # Driver Program \n",
    "  \n",
    "print(fibonacci2(9)) "
   ]
  },
  {
   "cell_type": "code",
   "execution_count": 152,
   "metadata": {},
   "outputs": [
    {
     "name": "stdout",
     "output_type": "stream",
     "text": [
      "[0, 1, 1]\n",
      "[0, 1, 2]\n",
      "[0, 1, 1]\n",
      "[0, 1, 3]\n",
      "[0, 1, 1]\n",
      "[0, 1, 2]\n",
      "[0, 1, 5]\n",
      "[0, 1, 1]\n",
      "[0, 1, 2]\n",
      "[0, 1, 1]\n",
      "[0, 1, 3]\n",
      "[0, 1, 8]\n",
      "[0, 1, 1]\n",
      "[0, 1, 2]\n",
      "[0, 1, 1]\n",
      "[0, 1, 3]\n",
      "[0, 1, 1]\n",
      "[0, 1, 2]\n",
      "[0, 1, 5]\n",
      "[0, 1, 13]\n",
      "[0, 1, 1]\n",
      "[0, 1, 2]\n",
      "[0, 1, 1]\n",
      "[0, 1, 3]\n",
      "[0, 1, 1]\n",
      "[0, 1, 2]\n",
      "[0, 1, 5]\n",
      "[0, 1, 1]\n",
      "[0, 1, 2]\n",
      "[0, 1, 1]\n",
      "[0, 1, 3]\n",
      "[0, 1, 8]\n",
      "[0, 1, 21]\n",
      "21\n"
     ]
    }
   ],
   "source": [
    "def fibonacci2(n):\n",
    "    FibArray=[0,1]\n",
    "    \n",
    "    if n<=0:\n",
    "        return ('incorrect input')\n",
    "    elif n<=1:\n",
    "        return FibArray[n-1] \n",
    "    elif n==2:\n",
    "        return 1\n",
    "    else:\n",
    "        temp_fib = fibonacci2(n-1)+fibonacci2(n-2) \n",
    "        FibArray.append(temp_fib) \n",
    "    print(FibArray)\n",
    "    return (temp_fib)\n",
    "\n",
    "print(fibonacci2(9))"
   ]
  },
  {
   "cell_type": "code",
   "execution_count": 153,
   "metadata": {},
   "outputs": [],
   "source": [
    "def fib2(n):\n",
    "    a=0\n",
    "    b=1\n",
    "    if n<=0:\n",
    "        return ('incorrect input')\n",
    "    elif n<=1:\n",
    "        return FibArray[n-1] \n",
    "    elif n==2:\n",
    "        return 1\n",
    "    else:\n",
    "        for i in range(2,n):\n",
    "            c=a+b\n",
    "            a=b\n",
    "            b=c\n",
    "            \n",
    "    return b\n",
    "    "
   ]
  },
  {
   "cell_type": "code",
   "execution_count": 154,
   "metadata": {},
   "outputs": [
    {
     "data": {
      "text/plain": [
       "21"
      ]
     },
     "execution_count": 154,
     "metadata": {},
     "output_type": "execute_result"
    }
   ],
   "source": [
    "fib2(9)"
   ]
  },
  {
   "cell_type": "code",
   "execution_count": 181,
   "metadata": {},
   "outputs": [],
   "source": [
    "# Python Program for How to check if a given number is Fibonacci number?\n",
    "#A number is Fibonacci if and only if one or both of (5*n2 + 4) or (5*n2 – 4) is a perfect square\n",
    "\n",
    "import math\n",
    "\n",
    "def isperfectsquare(x):\n",
    "    s=int(math.sqrt(x))\n",
    "    return s*s==x\n",
    "\n",
    "def isfib(n):\n",
    "    return isperfectsquare(5*n**2+4) or isperfectsquare(5*n*n*2-4)"
   ]
  },
  {
   "cell_type": "code",
   "execution_count": 184,
   "metadata": {},
   "outputs": [
    {
     "data": {
      "text/plain": [
       "True"
      ]
     },
     "execution_count": 184,
     "metadata": {},
     "output_type": "execute_result"
    }
   ],
   "source": [
    "isfib(8)"
   ]
  },
  {
   "cell_type": "code",
   "execution_count": 189,
   "metadata": {},
   "outputs": [
    {
     "name": "stdout",
     "output_type": "stream",
     "text": [
      "fibonacci no----> :  1\n",
      "fibonacci no----> :  2\n",
      "fibonacci no----> :  3\n",
      "not fib no:  4\n",
      "not fib no:  5\n",
      "not fib no:  6\n",
      "not fib no:  7\n",
      "fibonacci no----> :  8\n",
      "not fib no:  9\n",
      "not fib no:  10\n"
     ]
    }
   ],
   "source": [
    "for i in range(1,11):\n",
    "    if isfib(i)==True:\n",
    "        print('fibonacci no----> :  {}'.format(i))\n",
    "    else:\n",
    "        print('not fib no:  {}'.format(i))"
   ]
  },
  {
   "cell_type": "code",
   "execution_count": null,
   "metadata": {},
   "outputs": [],
   "source": [
    "# Python Program for n\\’th multiple of a number in Fibonacci Series  \n",
    "\n",
    "'''\n",
    "Input : k = 2, n = 3\n",
    "Output : 9\n",
    "3\\'rd multiple of 2 in Fibonacci Series is 34 \n",
    "which appears at position 9.\n",
    "\n",
    "k=2, 1)1+2=3\n",
    "    2) 2+3=5\n",
    "    3)3+5=9\n",
    "\n",
    "Input  : k = 4, n = 5 \n",
    "Output : 30\n",
    "5\\'th multiple of 5 in Fibonacci Series is 832040 \n",
    "which appears at position 30.\n",
    "\n",
    "1) 3+4=7\n",
    "2)4+7=11\n",
    "3)7+11=18\n",
    "4)11+18=29\n",
    "5)28+\n",
    "\n",
    "'''"
   ]
  },
  {
   "cell_type": "code",
   "execution_count": 197,
   "metadata": {},
   "outputs": [
    {
     "data": {
      "text/plain": [
       "103"
      ]
     },
     "execution_count": 197,
     "metadata": {},
     "output_type": "execute_result"
    }
   ],
   "source": [
    "# print ascii value of a character\n",
    "\n",
    "c='g'\n",
    "ord(c)"
   ]
  },
  {
   "cell_type": "code",
   "execution_count": 206,
   "metadata": {},
   "outputs": [],
   "source": [
    "def asc():\n",
    "    a=str(input('enter char: '))\n",
    "    return ord(a)"
   ]
  },
  {
   "cell_type": "code",
   "execution_count": 209,
   "metadata": {},
   "outputs": [
    {
     "name": "stdout",
     "output_type": "stream",
     "text": [
      "enter char: a\n"
     ]
    },
    {
     "data": {
      "text/plain": [
       "97"
      ]
     },
     "execution_count": 209,
     "metadata": {},
     "output_type": "execute_result"
    }
   ],
   "source": [
    "asc()"
   ]
  },
  {
   "cell_type": "code",
   "execution_count": 228,
   "metadata": {},
   "outputs": [],
   "source": [
    "# Python Program for Sum of squares of first n natural numbers\n",
    "\n",
    "def sq_nat(n):\n",
    "    sum1=0\n",
    "    \n",
    "    for i in range(n+1):\n",
    "        if i>0:\n",
    "            sum1+=i**2\n",
    "    return sum1"
   ]
  },
  {
   "cell_type": "code",
   "execution_count": 229,
   "metadata": {},
   "outputs": [
    {
     "data": {
      "text/plain": [
       "55"
      ]
     },
     "execution_count": 229,
     "metadata": {},
     "output_type": "execute_result"
    }
   ],
   "source": [
    "sq_nat(5)"
   ]
  },
  {
   "cell_type": "code",
   "execution_count": 230,
   "metadata": {},
   "outputs": [
    {
     "data": {
      "text/plain": [
       "784"
      ]
     },
     "execution_count": 230,
     "metadata": {},
     "output_type": "execute_result"
    }
   ],
   "source": [
    "# Python Program for cube sum of first n natural numbers\n",
    "\n",
    "def cub_nat(n):\n",
    "    sum2=0\n",
    "    \n",
    "    for i in range(1,n+1):\n",
    "        sum2+=i**3\n",
    "    return sum2\n",
    "\n",
    "cub_nat(7)"
   ]
  },
  {
   "cell_type": "code",
   "execution_count": 244,
   "metadata": {},
   "outputs": [],
   "source": [
    "# Python Program to find sum of array\n",
    "\n",
    "def arr_sum(arr,n):\n",
    "    return sum(arr)"
   ]
  },
  {
   "cell_type": "code",
   "execution_count": 247,
   "metadata": {},
   "outputs": [
    {
     "name": "stdout",
     "output_type": "stream",
     "text": [
      "50\n"
     ]
    }
   ],
   "source": [
    "a=[]\n",
    "a=[15, 12, 13, 10]\n",
    "n=len(a)\n",
    "b=arr_sum(a,n)\n",
    "print(b)\n"
   ]
  },
  {
   "cell_type": "code",
   "execution_count": 258,
   "metadata": {},
   "outputs": [],
   "source": [
    "def a_sum(a):\n",
    "    sum=0\n",
    "    \n",
    "    for i in a:\n",
    "        sum=sum+i\n",
    "    return sum\n",
    "    "
   ]
  },
  {
   "cell_type": "code",
   "execution_count": 261,
   "metadata": {},
   "outputs": [
    {
     "data": {
      "text/plain": [
       "58"
      ]
     },
     "execution_count": 261,
     "metadata": {},
     "output_type": "execute_result"
    }
   ],
   "source": [
    "\n",
    "a=[15, 12, 13, 10,8]\n",
    "a_sum(a)\n"
   ]
  },
  {
   "cell_type": "code",
   "execution_count": 276,
   "metadata": {},
   "outputs": [],
   "source": [
    "# Python Program to find largest element in an array\n",
    "\n",
    "def largest(arr):\n",
    "    a=sorted(arr)\n",
    "    print(a)\n",
    "    return a[-1]"
   ]
  },
  {
   "cell_type": "code",
   "execution_count": 280,
   "metadata": {},
   "outputs": [
    {
     "name": "stdout",
     "output_type": "stream",
     "text": [
      "[8, 10, 12, 13, 15]\n"
     ]
    },
    {
     "data": {
      "text/plain": [
       "15"
      ]
     },
     "execution_count": 280,
     "metadata": {},
     "output_type": "execute_result"
    }
   ],
   "source": [
    "ab=(15, 12, 13, 10,8)\n",
    "largest(ab)"
   ]
  },
  {
   "cell_type": "code",
   "execution_count": 275,
   "metadata": {},
   "outputs": [],
   "source": [
    "# # Python Program to find second largest element in an array\n",
    "\n",
    "def largest1(arr):\n",
    "    a=sorted(arr)\n",
    "    print(a)\n",
    "    return a[-2]"
   ]
  },
  {
   "cell_type": "code",
   "execution_count": 278,
   "metadata": {},
   "outputs": [
    {
     "name": "stdout",
     "output_type": "stream",
     "text": [
      "[8, 10, 12, 13, 15]\n"
     ]
    },
    {
     "data": {
      "text/plain": [
       "13"
      ]
     },
     "execution_count": 278,
     "metadata": {},
     "output_type": "execute_result"
    }
   ],
   "source": [
    "ab=[15, 12, 13, 10,8]\n",
    "largest1(ab)"
   ]
  },
  {
   "cell_type": "code",
   "execution_count": 5,
   "metadata": {},
   "outputs": [],
   "source": [
    "# Python Program for array rotation 123456, rotate by 2 =345612\n",
    "\n",
    "def rotate(arr,n):\n",
    "    \n",
    "    temp=[]\n",
    "    temp=arr[:n]\n",
    "    a=arr[n:]\n",
    "    b=a+temp\n",
    "    return (b)\n",
    "    "
   ]
  },
  {
   "cell_type": "code",
   "execution_count": 6,
   "metadata": {},
   "outputs": [
    {
     "data": {
      "text/plain": [
       "[13, 10, 8, 15, 12]"
      ]
     },
     "execution_count": 6,
     "metadata": {},
     "output_type": "execute_result"
    }
   ],
   "source": [
    "ab=[15, 12, 13, 10,8]\n",
    "rotate(ab,2)"
   ]
  },
  {
   "cell_type": "code",
   "execution_count": 7,
   "metadata": {},
   "outputs": [
    {
     "data": {
      "text/plain": [
       "[4, 5, 6, 7, 1, 2, 3]"
      ]
     },
     "execution_count": 7,
     "metadata": {},
     "output_type": "execute_result"
    }
   ],
   "source": [
    "arr = [1, 2, 3, 4, 5, 6, 7]\n",
    "rotate(arr,3)"
   ]
  },
  {
   "cell_type": "code",
   "execution_count": 8,
   "metadata": {},
   "outputs": [],
   "source": [
    "# Python Program for Find remainder of array multiplication divided by n\n",
    "\n",
    "\"\"\"\n",
    "\n",
    "Input : arr[] = {100, 10, 5, 25, 35, 14}, \n",
    "            n = 11\n",
    "Output : 9\n",
    "100 x 10 x 5 x 25 x 35 x 14 = 61250000 % 11 = 9\n",
    "\n",
    "\"\"\"\n",
    "\n",
    "\n",
    "def arr_mul(arr,n):\n",
    "    mul=1\n",
    "    for i in arr:\n",
    "        mul*=i\n",
    "    print(mul,\"multiplied value\")\n",
    "    reminder=mul%n\n",
    "    return reminder"
   ]
  },
  {
   "cell_type": "code",
   "execution_count": 9,
   "metadata": {},
   "outputs": [
    {
     "name": "stdout",
     "output_type": "stream",
     "text": [
      "61250000 multiplied value\n"
     ]
    },
    {
     "data": {
      "text/plain": [
       "9"
      ]
     },
     "execution_count": 9,
     "metadata": {},
     "output_type": "execute_result"
    }
   ],
   "source": [
    "arr = {100, 10, 5, 25, 35, 14}\n",
    "arr_mul(arr,11)"
   ]
  },
  {
   "cell_type": "code",
   "execution_count": 10,
   "metadata": {},
   "outputs": [],
   "source": [
    "# Reconstruct the array by replacing arr[i] with (arr[i-1]+1) % M\n",
    "\n",
    "'''\n",
    "Input: arr[] = {5, -1, -1, 1, 2, 3}, M = 7\n",
    "Output: 5 6 0 1 2 3\n",
    "M = 7, so value at index 2 should be (5+1) % 7 = 6\n",
    "value at index 3 should be (6+1) % 7 = 0\n",
    "\n",
    "'''\n",
    "\n",
    "def arr_rep(arr,m):\n",
    "    \n",
    "    for i in arr:\n",
    "        arr[i]=(arr[i-1]+1)%m\n",
    "        \n",
    "    return arr"
   ]
  },
  {
   "cell_type": "code",
   "execution_count": 12,
   "metadata": {},
   "outputs": [
    {
     "data": {
      "text/plain": [
       "[5, 6, 0, 1, 2, 3]"
      ]
     },
     "execution_count": 12,
     "metadata": {},
     "output_type": "execute_result"
    }
   ],
   "source": [
    "arr = [5, -1, -1, 1, 2, 3]\n",
    "arr_rep(arr,7)"
   ]
  },
  {
   "cell_type": "code",
   "execution_count": 34,
   "metadata": {},
   "outputs": [
    {
     "data": {
      "text/plain": [
       "[5, 6, 7, 8, 2, 3]"
      ]
     },
     "execution_count": 34,
     "metadata": {},
     "output_type": "execute_result"
    }
   ],
   "source": [
    "'''\n",
    "Input: arr[] = {5, -1, 7, -1, 9, 0}, M = 10\n",
    "Output: 5 6 7 8 9 0\n",
    "'''\n",
    "\n",
    "arr = [5, -1, -1, 1, 2, 0]\n",
    "arr_rep(arr,10)"
   ]
  },
  {
   "cell_type": "code",
   "execution_count": 36,
   "metadata": {},
   "outputs": [
    {
     "name": "stdout",
     "output_type": "stream",
     "text": [
      "5 6 7 1 9 0\n"
     ]
    }
   ],
   "source": [
    "def construct(n, m, a): \n",
    "    ind = 0\n",
    "  \n",
    "    # Finding the index which is not -1 \n",
    "    for i in range(n): \n",
    "        if (a[i]!=-1): \n",
    "            ind = i \n",
    "            break\n",
    "  \n",
    "    # Calculating the values of the indexes ind-1 to 0 \n",
    "    for i in range(ind-1, -1, -1): \n",
    "        if (a[i]==-1): \n",
    "            a[i]=(a[i + 1]-1 + m)% m \n",
    "  \n",
    "    # Calculating the values of the indexes ind + 1 to n \n",
    "    for i in range(ind + 1, n): \n",
    "        if(a[i]==-1): \n",
    "            a[i]=(a[i-1]+1)% m \n",
    "    print(*a) \n",
    "  \n",
    " # Driver code \n",
    "n, m = 6, 7\n",
    "a =[5, -1, 7, -1, 9, 0] \n",
    "construct(n, m, a) "
   ]
  },
  {
   "cell_type": "code",
   "execution_count": null,
   "metadata": {},
   "outputs": [],
   "source": [
    "# Python Program to check if given array is Monotonic"
   ]
  },
  {
   "cell_type": "code",
   "execution_count": 47,
   "metadata": {},
   "outputs": [],
   "source": [
    "# Python program to interchange first and last elements in a list\n",
    "\n",
    "'''\n",
    "Input : [12, 35, 9, 56, 24]\n",
    "Output : [24, 35, 9, 56, 12]\n",
    "'''\n",
    "\n",
    "def first_last(arr):\n",
    "    temp=arr[0]\n",
    "    \n",
    "    arr[0]=arr[-1]\n",
    "    arr[-1]=temp\n",
    "    return arr"
   ]
  },
  {
   "cell_type": "code",
   "execution_count": 48,
   "metadata": {},
   "outputs": [
    {
     "data": {
      "text/plain": [
       "[24, 35, 9, 56, 12]"
      ]
     },
     "execution_count": 48,
     "metadata": {},
     "output_type": "execute_result"
    }
   ],
   "source": [
    "arr=[12, 35, 9, 56, 24]\n",
    "\n",
    "first_last(arr)"
   ]
  },
  {
   "cell_type": "code",
   "execution_count": 54,
   "metadata": {},
   "outputs": [
    {
     "data": {
      "text/plain": [
       "[19, 65, 23, 90]"
      ]
     },
     "execution_count": 54,
     "metadata": {},
     "output_type": "execute_result"
    }
   ],
   "source": [
    "# Python program to swap two elements in a list\n",
    "\n",
    "'''\n",
    "Input : List = [23, 65, 19, 90], pos1 = 1, pos2 = 3\n",
    "Output : [19, 65, 23, 90]\n",
    "\n",
    "'''\n",
    "\n",
    "def swap(arr,pos1,pos2):\n",
    "    temp=arr[pos1-1]\n",
    "    arr[pos1-1]=arr[pos2-1]\n",
    "    arr[pos2-1]=temp\n",
    "    return arr\n",
    "\n",
    "arr=[23, 65, 19, 90]\n",
    "swap(arr,1,3)"
   ]
  },
  {
   "cell_type": "code",
   "execution_count": 52,
   "metadata": {},
   "outputs": [
    {
     "name": "stdout",
     "output_type": "stream",
     "text": [
      "[19, 65, 23, 90]\n"
     ]
    }
   ],
   "source": [
    "def swapPositions(list, pos1, pos2): \n",
    "      \n",
    "    list[pos1], list[pos2] = list[pos2], list[pos1] \n",
    "    return list\n",
    "  \n",
    "# Driver function \n",
    "List = [23, 65, 19, 90] \n",
    "pos1, pos2  = 1, 3\n",
    "  \n",
    "print(swapPositions(List, pos1-1, pos2-1)) "
   ]
  },
  {
   "cell_type": "code",
   "execution_count": 57,
   "metadata": {},
   "outputs": [
    {
     "data": {
      "text/plain": [
       "['geeks', 'for']"
      ]
     },
     "execution_count": 57,
     "metadata": {},
     "output_type": "execute_result"
    }
   ],
   "source": [
    "# Python program to remove Nth occurrence of the given word\n",
    "\n",
    "'''\n",
    "Input: list - [\"geeks\", \"for\", \"geeks\"]\n",
    "       word = geeks, N = 2\n",
    "Output: list - [\"geeks\", \"for\"]\n",
    "\n",
    "'''\n",
    "\n",
    "\n",
    "def remove_ele(arr,n):\n",
    "    arr.pop(n)\n",
    "    return arr\n",
    "\n",
    "list1 = [\"geeks\", \"for\", \"geeks\"]\n",
    "remove_ele(list1,2)"
   ]
  },
  {
   "cell_type": "code",
   "execution_count": 60,
   "metadata": {},
   "outputs": [
    {
     "data": {
      "text/plain": [
       "['you', 'can', 'a', 'can', '?']"
      ]
     },
     "execution_count": 60,
     "metadata": {},
     "output_type": "execute_result"
    }
   ],
   "source": [
    "list1 = [\"can\", \"you\",  \"can\", \"a\", \"can\", \"?\"]\n",
    "remove_ele(list1,0)"
   ]
  },
  {
   "cell_type": "code",
   "execution_count": 61,
   "metadata": {},
   "outputs": [
    {
     "data": {
      "text/plain": [
       "6"
      ]
     },
     "execution_count": 61,
     "metadata": {},
     "output_type": "execute_result"
    }
   ],
   "source": [
    "# Python | Ways to find length of list\n",
    "def _len(a):\n",
    "    return len(a)\n",
    "list1 = [\"can\", \"you\",  \"can\", \"a\", \"can\", \"?\"]\n",
    "_len(list1)"
   ]
  },
  {
   "cell_type": "code",
   "execution_count": 62,
   "metadata": {},
   "outputs": [
    {
     "data": {
      "text/plain": [
       "True"
      ]
     },
     "execution_count": 62,
     "metadata": {},
     "output_type": "execute_result"
    }
   ],
   "source": [
    "# Python | Ways to check if element exists in list\n",
    "\n",
    "def check_exist(a, ele):\n",
    "    \n",
    "    if ele in a:\n",
    "        return True\n",
    "test_list = [ 1, 6, 3, 5, 3, 4 ]\n",
    "check_exist(test_list,4)"
   ]
  },
  {
   "cell_type": "code",
   "execution_count": 69,
   "metadata": {},
   "outputs": [
    {
     "name": "stdout",
     "output_type": "stream",
     "text": [
      "before [1, 6, 3, 5, 3, 4]\n",
      "after\n"
     ]
    },
    {
     "data": {
      "text/plain": [
       "[]"
      ]
     },
     "execution_count": 69,
     "metadata": {},
     "output_type": "execute_result"
    }
   ],
   "source": [
    "# Different ways to clear a list in Python\n",
    "\n",
    "def clear_list(arr):\n",
    "    print('before',arr)\n",
    "    for i in arr:\n",
    "        arr.clear()\n",
    "    print('after')\n",
    "    return arr\n",
    "    \n",
    "test_list = [ 1, 6, 3, 5, 3, 4 ]\n",
    "clear_list(test_list) "
   ]
  },
  {
   "cell_type": "code",
   "execution_count": 71,
   "metadata": {},
   "outputs": [
    {
     "name": "stdout",
     "output_type": "stream",
     "text": [
      "before [1, 6, 3, 5, 3, 4]\n",
      "after []\n"
     ]
    },
    {
     "data": {
      "text/plain": [
       "[]"
      ]
     },
     "execution_count": 71,
     "metadata": {},
     "output_type": "execute_result"
    }
   ],
   "source": [
    "def clear_list(arr):\n",
    "    print('before',arr)\n",
    "    arr*=0\n",
    "    print('after',arr)\n",
    "    return arr\n",
    "    \n",
    "test_list = [ 1, 6, 3, 5, 3, 4 ]\n",
    "clear_list(test_list) "
   ]
  },
  {
   "cell_type": "code",
   "execution_count": 73,
   "metadata": {},
   "outputs": [
    {
     "name": "stdout",
     "output_type": "stream",
     "text": [
      "before [1, 6, 3, 5, 3, 4]\n",
      "after []\n"
     ]
    },
    {
     "data": {
      "text/plain": [
       "[]"
      ]
     },
     "execution_count": 73,
     "metadata": {},
     "output_type": "execute_result"
    }
   ],
   "source": [
    "def clear_list(arr):\n",
    "    print('before',arr)\n",
    "    del arr[:]\n",
    "    print('after',arr)\n",
    "    return arr\n",
    "\n",
    "test_list = [ 1, 6, 3, 5, 3, 4 ]\n",
    "clear_list(test_list)"
   ]
  },
  {
   "cell_type": "code",
   "execution_count": 75,
   "metadata": {},
   "outputs": [
    {
     "data": {
      "text/plain": [
       "[4, 3, 5, 3, 6, 1]"
      ]
     },
     "execution_count": 75,
     "metadata": {},
     "output_type": "execute_result"
    }
   ],
   "source": [
    "# Python | Reversing a List\n",
    "\n",
    "def rev_list(l1):\n",
    "    return l1[::-1]\n",
    "\n",
    "test_list = [ 1, 6, 3, 5, 3, 4 ]\n",
    "rev_list(test_list)"
   ]
  },
  {
   "cell_type": "code",
   "execution_count": 80,
   "metadata": {},
   "outputs": [
    {
     "name": "stdout",
     "output_type": "stream",
     "text": [
      "[15, 14, 13, 12, 11, 10]\n"
     ]
    }
   ],
   "source": [
    "def Reverse(lst): \n",
    "    return [ele for ele in reversed(lst)] \n",
    "      \n",
    "# Driver Code \n",
    "lst = [10, 11, 12, 13, 14, 15] \n",
    "print(Reverse(lst)) "
   ]
  },
  {
   "cell_type": "code",
   "execution_count": 84,
   "metadata": {},
   "outputs": [
    {
     "data": {
      "text/plain": [
       "[4, 3, 5, 3, 6, 1]"
      ]
     },
     "execution_count": 84,
     "metadata": {},
     "output_type": "execute_result"
    }
   ],
   "source": [
    "def rev_list(l1):\n",
    "    a=[]\n",
    "    for i in reversed(l1):\n",
    "        a.append(i)\n",
    "    return a\n",
    "\n",
    "test_list = [ 1, 6, 3, 5, 3, 4 ]\n",
    "rev_list(test_list)"
   ]
  },
  {
   "cell_type": "code",
   "execution_count": 85,
   "metadata": {},
   "outputs": [
    {
     "data": {
      "text/plain": [
       "[4, 3, 5, 3, 6, 1]"
      ]
     },
     "execution_count": 85,
     "metadata": {},
     "output_type": "execute_result"
    }
   ],
   "source": [
    "def rev_list(l1):\n",
    "    l1.reverse()\n",
    "    return l1\n",
    "\n",
    "test_list = [ 1, 6, 3, 5, 3, 4 ]\n",
    "rev_list(test_list)"
   ]
  },
  {
   "cell_type": "code",
   "execution_count": 92,
   "metadata": {},
   "outputs": [
    {
     "data": {
      "text/plain": [
       "True"
      ]
     },
     "execution_count": 92,
     "metadata": {},
     "output_type": "execute_result"
    }
   ],
   "source": [
    "# Python Program to check if given array is Monotonic\n",
    "'''\n",
    "array is monotonic if it is either monotone increasing or monotone decreasing\n",
    "\n",
    "'''\n",
    "\n",
    "def monotonic(arr):\n",
    "    \n",
    "    return (all(arr[i]<=arr[i+1] for i in range(len(arr)-1)) or\n",
    "           all(arr[i]>=arr[i+1] for i in range(len(arr)-1)))\n",
    "        \n",
    "arr=[6,5,4,4]\n",
    "monotonic(arr)"
   ]
  },
  {
   "cell_type": "code",
   "execution_count": 93,
   "metadata": {},
   "outputs": [
    {
     "data": {
      "text/plain": [
       "3"
      ]
     },
     "execution_count": 93,
     "metadata": {},
     "output_type": "execute_result"
    }
   ],
   "source": [
    "# Python | Count occurrences of an element in a list\n",
    "\n",
    "def occ_ele(l1,ele):\n",
    "    count=0\n",
    "    \n",
    "    for i in l1:\n",
    "        if i==ele:\n",
    "            count+=1\n",
    "    return count\n",
    "\n",
    "lst = [15, 6, 7, 10, 12, 20, 10, 28, 10]\n",
    "occ_ele(lst,10)\n",
    "        "
   ]
  },
  {
   "cell_type": "code",
   "execution_count": 94,
   "metadata": {
    "scrolled": true
   },
   "outputs": [
    {
     "data": {
      "text/plain": [
       "3"
      ]
     },
     "execution_count": 94,
     "metadata": {},
     "output_type": "execute_result"
    }
   ],
   "source": [
    "def occ_ele(l1,ele):\n",
    "    a=l1.count(ele)\n",
    "    \n",
    "    return a\n",
    "\n",
    "lst = [15, 6, 7, 10, 12, 20, 10, 28, 10]\n",
    "occ_ele(lst,10)"
   ]
  },
  {
   "cell_type": "code",
   "execution_count": 104,
   "metadata": {},
   "outputs": [
    {
     "name": "stdout",
     "output_type": "stream",
     "text": [
      "2\n"
     ]
    }
   ],
   "source": [
    "lst = [15, 6, 7, 10, 12, 20, 10, 6, 10]\n",
    "\n",
    "from collections import Counter\n",
    "d=Counter(lst)\n",
    "\n",
    "print(d[6])"
   ]
  },
  {
   "cell_type": "code",
   "execution_count": 99,
   "metadata": {},
   "outputs": [
    {
     "name": "stdout",
     "output_type": "stream",
     "text": [
      "3 has occured 2 times\n"
     ]
    }
   ],
   "source": [
    "from collections import Counter \n",
    "  \n",
    "# declaring the list \n",
    "l = [1, 1, 2, 2, 3, 3, 4, 4, 5, 5] \n",
    "  \n",
    "# driver program \n",
    "x = 3\n",
    "d = Counter(l) \n",
    "print('{} has occured {} times'.format(x, d[x])) \n"
   ]
  },
  {
   "cell_type": "code",
   "execution_count": 4,
   "metadata": {},
   "outputs": [
    {
     "data": {
      "text/plain": [
       "74"
      ]
     },
     "execution_count": 4,
     "metadata": {},
     "output_type": "execute_result"
    }
   ],
   "source": [
    "# 18-11-2019\n",
    "# Python program to find the sum of all the elements in the list\n",
    "\n",
    "def sum_list(lst):\n",
    "    total=0\n",
    "    \n",
    "    for i in lst:\n",
    "        total+=i\n",
    "        \n",
    "    return total\n",
    "\n",
    "\n",
    "lst=[12, 15, 3, 10]\n",
    "sum_list(lst)\n",
    "\n",
    "lst=[11, 5, 17, 18, 23] \n",
    "sum_list(lst)"
   ]
  },
  {
   "cell_type": "code",
   "execution_count": 5,
   "metadata": {},
   "outputs": [
    {
     "data": {
      "text/plain": [
       "6"
      ]
     },
     "execution_count": 5,
     "metadata": {},
     "output_type": "execute_result"
    }
   ],
   "source": [
    "# print the value obtained after multiplying all numbers in a list.\n",
    "\n",
    "def mul_list(lst):\n",
    "    result=1\n",
    "    for i in lst:\n",
    "        result*=i\n",
    "    return result\n",
    "\n",
    "lst=[1, 2, 3]\n",
    "mul_list(lst)"
   ]
  },
  {
   "cell_type": "code",
   "execution_count": 6,
   "metadata": {},
   "outputs": [
    {
     "name": "stdout",
     "output_type": "stream",
     "text": [
      "6\n",
      "24\n"
     ]
    }
   ],
   "source": [
    "import numpy  \n",
    "list1 = [1, 2, 3]  \n",
    "list2 = [3, 2, 4] \n",
    "  \n",
    "# using numpy.prod() to get the multiplications  \n",
    "result1 = numpy.prod(list1) \n",
    "result2 = numpy.prod(list2) \n",
    "print(result1) \n",
    "print(result2) "
   ]
  },
  {
   "cell_type": "code",
   "execution_count": 8,
   "metadata": {},
   "outputs": [
    {
     "name": "stdout",
     "output_type": "stream",
     "text": [
      "6\n",
      "24\n"
     ]
    }
   ],
   "source": [
    "from functools import reduce \n",
    "list1 = [1, 2, 3]  \n",
    "list2 = [3, 2, 4] \n",
    "  \n",
    "result1 = reduce((lambda x, y: x * y), list1) \n",
    "result2 = reduce((lambda x, y: x * y), list2) \n",
    "print(result1) \n",
    "print(result2) "
   ]
  },
  {
   "cell_type": "code",
   "execution_count": 11,
   "metadata": {},
   "outputs": [
    {
     "data": {
      "text/plain": [
       "1"
      ]
     },
     "execution_count": 11,
     "metadata": {},
     "output_type": "execute_result"
    }
   ],
   "source": [
    "# the task is to write a Python program to find the smallest number in given list.\n",
    "\n",
    "def smallest_lst(lst):\n",
    "    lst.sort()\n",
    "    \n",
    "    return lst[0]\n",
    "\n",
    "list1 = [10, 20, 1, 45, 99] \n",
    "smallest_lst(list1)"
   ]
  },
  {
   "cell_type": "code",
   "execution_count": 12,
   "metadata": {},
   "outputs": [
    {
     "data": {
      "text/plain": [
       "1"
      ]
     },
     "execution_count": 12,
     "metadata": {},
     "output_type": "execute_result"
    }
   ],
   "source": [
    "def smallest_lst(lst):\n",
    "    \n",
    "    return min(lst)\n",
    "\n",
    "list1 = [10, 20, 1, 45, 99] \n",
    "smallest_lst(list1)"
   ]
  },
  {
   "cell_type": "code",
   "execution_count": 13,
   "metadata": {},
   "outputs": [
    {
     "data": {
      "text/plain": [
       "99"
      ]
     },
     "execution_count": 13,
     "metadata": {},
     "output_type": "execute_result"
    }
   ],
   "source": [
    "# Python program to find largest number in a list\n",
    "\n",
    "def largest_lst(lst):\n",
    "    lst.sort()\n",
    "    return lst[-1]\n",
    "\n",
    "list1 = [10, 20, 1, 45, 99] \n",
    "largest_lst(list1)"
   ]
  },
  {
   "cell_type": "code",
   "execution_count": 14,
   "metadata": {},
   "outputs": [
    {
     "data": {
      "text/plain": [
       "99"
      ]
     },
     "execution_count": 14,
     "metadata": {},
     "output_type": "execute_result"
    }
   ],
   "source": [
    "def largest_lst(lst):\n",
    "    return max(lst)\n",
    "\n",
    "list1 = [10, 20, 1, 45, 99] \n",
    "largest_lst(list1)"
   ]
  },
  {
   "cell_type": "code",
   "execution_count": 17,
   "metadata": {},
   "outputs": [
    {
     "data": {
      "text/plain": [
       "80"
      ]
     },
     "execution_count": 17,
     "metadata": {},
     "output_type": "execute_result"
    }
   ],
   "source": [
    "# Python program to find second largest number in a list\n",
    "\n",
    "def second_largest(lst):\n",
    "    lst.sort()\n",
    "    return lst[-2]\n",
    "\n",
    "list1 = [10, 20, 80,1, 45, 99] \n",
    "second_largest(list1)"
   ]
  },
  {
   "cell_type": "code",
   "execution_count": 18,
   "metadata": {},
   "outputs": [
    {
     "name": "stdout",
     "output_type": "stream",
     "text": [
      "45\n"
     ]
    }
   ],
   "source": [
    "list1 = [10, 20, 4, 45, 99] \n",
    "  \n",
    "# new_list is a set of list1 \n",
    "new_list = set(list1) \n",
    "  \n",
    "# removing the largest element from temp list \n",
    "new_list.remove(max(new_list)) \n",
    "  \n",
    "# elements in original list are not changed \n",
    "# print(list1) \n",
    "  \n",
    "print(max(new_list)) "
   ]
  },
  {
   "cell_type": "code",
   "execution_count": 19,
   "metadata": {},
   "outputs": [
    {
     "data": {
      "text/plain": [
       "80"
      ]
     },
     "execution_count": 19,
     "metadata": {},
     "output_type": "execute_result"
    }
   ],
   "source": [
    "def second_largest(lst):\n",
    "    \n",
    "    return sorted(lst)[-2]\n",
    "\n",
    "list1 = [10, 20, 80,1, 45, 99] \n",
    "second_largest(list1)"
   ]
  },
  {
   "cell_type": "code",
   "execution_count": 24,
   "metadata": {},
   "outputs": [
    {
     "name": "stdout",
     "output_type": "stream",
     "text": [
      "[1, 10, 20, 45, 80, 99]\n"
     ]
    }
   ],
   "source": [
    "a=sorted(list1)\n",
    "print(a)"
   ]
  },
  {
   "cell_type": "code",
   "execution_count": 25,
   "metadata": {},
   "outputs": [
    {
     "name": "stdout",
     "output_type": "stream",
     "text": [
      "[1, 10, 20, 45, 80, 99]\n"
     ]
    }
   ],
   "source": [
    "list1.sort()\n",
    "print(list1)"
   ]
  },
  {
   "cell_type": "code",
   "execution_count": 32,
   "metadata": {},
   "outputs": [
    {
     "data": {
      "text/plain": [
       "[99, 80, 45]"
      ]
     },
     "execution_count": 32,
     "metadata": {},
     "output_type": "execute_result"
    }
   ],
   "source": [
    "# Python program to find N largest elements from a list\n",
    "\n",
    "def n_largest(lst, n):\n",
    "    list1=[]\n",
    "    \n",
    "    for i in range(n):\n",
    "        lst.sort()\n",
    "        list1.append(lst[-1])\n",
    "        lst=set(lst)\n",
    "        lst.remove(max(lst))\n",
    "        lst=list(lst)\n",
    "    return list1\n",
    "    \n",
    "    \n",
    "lst = [10, 20, 80,1, 45, 99] \n",
    "n_largest(lst,3)"
   ]
  },
  {
   "cell_type": "code",
   "execution_count": 34,
   "metadata": {},
   "outputs": [
    {
     "data": {
      "text/plain": [
       "[99, 80]"
      ]
     },
     "execution_count": 34,
     "metadata": {},
     "output_type": "execute_result"
    }
   ],
   "source": [
    "def n_largest1(lst, n):\n",
    "    list1=[]\n",
    "    \n",
    "    for i in range(n):\n",
    "        lst.sort()\n",
    "        list1.append(lst[-1])\n",
    "        lst.remove(max(lst))\n",
    "        \n",
    "    return list1\n",
    "    \n",
    "    \n",
    "lst = [10, 20, 80,1, 45, 99] \n",
    "n_largest1(lst,2)"
   ]
  },
  {
   "cell_type": "code",
   "execution_count": 35,
   "metadata": {},
   "outputs": [
    {
     "data": {
      "text/plain": [
       "[10, 20, 80]"
      ]
     },
     "execution_count": 35,
     "metadata": {},
     "output_type": "execute_result"
    }
   ],
   "source": [
    "#Python program to print even numbers in a list\n",
    "\n",
    "def even_no(lst):\n",
    "    list1=[]\n",
    "    \n",
    "    for i in lst:\n",
    "        if i%2==0:\n",
    "            list1.append(i)\n",
    "    return list1\n",
    "\n",
    "lst = [10, 20, 80,1, 45, 99] \n",
    "even_no(lst)"
   ]
  },
  {
   "cell_type": "code",
   "execution_count": 36,
   "metadata": {},
   "outputs": [
    {
     "name": "stdout",
     "output_type": "stream",
     "text": [
      "[10, 20, 80]\n"
     ]
    }
   ],
   "source": [
    "lst = [10, 20, 80,1, 45, 99] \n",
    "list1=[]\n",
    "    \n",
    "for i in lst:\n",
    "    if i%2==0:\n",
    "        list1.append(i)\n",
    "print(list1)\n",
    "    "
   ]
  },
  {
   "cell_type": "code",
   "execution_count": 37,
   "metadata": {},
   "outputs": [
    {
     "data": {
      "text/plain": [
       "[1, 45, 99]"
      ]
     },
     "execution_count": 37,
     "metadata": {},
     "output_type": "execute_result"
    }
   ],
   "source": [
    "# Python program to print odd numbers in a List\n",
    "\n",
    "def odd_no(lst):\n",
    "    list1=[]\n",
    "    \n",
    "    for i in lst:\n",
    "        if i%2!=0:\n",
    "            list1.append(i)\n",
    "    return list1\n",
    "\n",
    "lst = [10, 20, 80,1, 45, 99] \n",
    "odd_no(lst)"
   ]
  },
  {
   "cell_type": "code",
   "execution_count": 38,
   "metadata": {},
   "outputs": [
    {
     "name": "stdout",
     "output_type": "stream",
     "text": [
      "[21, 45, 93]\n"
     ]
    }
   ],
   "source": [
    "# list of numbers \n",
    "list1 = [10, 21, 4, 45, 66, 93] \n",
    "  \n",
    "only_odd = [num for num in list1 if num % 2 == 1] \n",
    "  \n",
    "print(only_odd) "
   ]
  },
  {
   "cell_type": "code",
   "execution_count": 40,
   "metadata": {},
   "outputs": [
    {
     "data": {
      "text/plain": [
       "[2, 4, 6, 8, 10]"
      ]
     },
     "execution_count": 40,
     "metadata": {},
     "output_type": "execute_result"
    }
   ],
   "source": [
    "# Python program to print all even numbers in a range\n",
    "\n",
    "def even_range(start,end):\n",
    "    list1=[]\n",
    "    \n",
    "    for i in range(start, end+1):\n",
    "        if i%2==0:\n",
    "            list1.append(i)\n",
    "    return list1\n",
    "\n",
    "even_range(1,10)"
   ]
  },
  {
   "cell_type": "code",
   "execution_count": 41,
   "metadata": {},
   "outputs": [
    {
     "data": {
      "text/plain": [
       "[1, 3, 5, 7, 9]"
      ]
     },
     "execution_count": 41,
     "metadata": {},
     "output_type": "execute_result"
    }
   ],
   "source": [
    "# Python program to print all odd numbers in a range\n",
    "\n",
    "def odd_range(start,end):\n",
    "    list1=[]\n",
    "    \n",
    "    for i in range(start, end+1):\n",
    "        if i%2==1:\n",
    "            list1.append(i)\n",
    "    return list1\n",
    "\n",
    "odd_range(1,10)"
   ]
  },
  {
   "cell_type": "code",
   "execution_count": 46,
   "metadata": {},
   "outputs": [
    {
     "name": "stdout",
     "output_type": "stream",
     "text": [
      "10\n",
      "20\n",
      "80\n",
      "100\n"
     ]
    },
    {
     "data": {
      "text/plain": [
       "(4, 7)"
      ]
     },
     "execution_count": 46,
     "metadata": {},
     "output_type": "execute_result"
    }
   ],
   "source": [
    "# Python program to count Even and Odd numbers in a List\n",
    "\n",
    "def evenodd_count(lst):\n",
    "    e_cnt=0\n",
    "    o_cnt=0\n",
    "    \n",
    "    for i in lst:\n",
    "        if i%2==0:\n",
    "            print(i)\n",
    "            e_cnt+=1\n",
    "        else:\n",
    "            o_cnt+=1\n",
    "    return e_cnt, o_cnt\n",
    "            \n",
    "lst = [1,3,5,10, 20, 80,1, 45, 99,100,111] \n",
    "evenodd_count(lst)"
   ]
  },
  {
   "cell_type": "code",
   "execution_count": 2,
   "metadata": {},
   "outputs": [
    {
     "data": {
      "text/plain": [
       "[0, 3, 5, 10, 80, 1, 99, 100, 111]"
      ]
     },
     "execution_count": 2,
     "metadata": {},
     "output_type": "execute_result"
    }
   ],
   "source": [
    "# Python program to print positive numbers in a list\n",
    "\n",
    "def pos_no(lst):\n",
    "    pos=[]\n",
    "    \n",
    "    for i in lst:\n",
    "        if i>=0:\n",
    "            pos.append(i)\n",
    "    return pos\n",
    "\n",
    "lst = [0,-1,3,5,10, -20, 80,1, -45, 99,100,111] \n",
    "pos_no(lst)\n",
    "    "
   ]
  },
  {
   "cell_type": "code",
   "execution_count": 10,
   "metadata": {},
   "outputs": [],
   "source": [
    "def neg_no(lst):\n",
    "    n=len(lst)\n",
    "    l=0\n",
    "    neg=[]\n",
    "    \n",
    "    while l<n:\n",
    "        if lst[l]<0:\n",
    "            neg.append(lst[l])\n",
    "        l=l+1\n",
    "    return neg\n",
    "            \n",
    "    \n"
   ]
  },
  {
   "cell_type": "code",
   "execution_count": 11,
   "metadata": {},
   "outputs": [
    {
     "data": {
      "text/plain": [
       "[-1, -20, -45]"
      ]
     },
     "execution_count": 11,
     "metadata": {},
     "output_type": "execute_result"
    }
   ],
   "source": [
    "lst = [0,-1,3,5,10, -20, 80,1, -45, 99,100,111] \n",
    "neg_no(lst)"
   ]
  },
  {
   "cell_type": "code",
   "execution_count": 13,
   "metadata": {},
   "outputs": [
    {
     "data": {
      "text/plain": [
       "[-1, -20, -45]"
      ]
     },
     "execution_count": 13,
     "metadata": {},
     "output_type": "execute_result"
    }
   ],
   "source": [
    "def neg_no(lst):\n",
    "    n=len(lst)\n",
    "    l=0\n",
    "    neg=[]\n",
    "    \n",
    "    while l<n:\n",
    "        if lst[l]<0:\n",
    "            neg.append(lst[l])\n",
    "        l=l+1\n",
    "    return neg\n",
    "lst = [0,-1,3,5,10, -20, 80,1, -45, 99,100,111] \n",
    "neg_no(lst)           "
   ]
  },
  {
   "cell_type": "code",
   "execution_count": 16,
   "metadata": {},
   "outputs": [
    {
     "data": {
      "text/plain": [
       "[-1, -20, -45]"
      ]
     },
     "execution_count": 16,
     "metadata": {},
     "output_type": "execute_result"
    }
   ],
   "source": [
    "def neg_no(lst):\n",
    "    \n",
    "    list1=[num for num in lst if num<0]\n",
    "    return list1\n",
    "\n",
    "lst = [0,-1,3,5,10, -20, 80,1, -45, 99,100,111] \n",
    "neg_no(lst)"
   ]
  },
  {
   "cell_type": "code",
   "execution_count": 21,
   "metadata": {},
   "outputs": [
    {
     "data": {
      "text/plain": [
       "[-1, -20, -45]"
      ]
     },
     "execution_count": 21,
     "metadata": {},
     "output_type": "execute_result"
    }
   ],
   "source": [
    "def neg_no(lst):\n",
    "    \n",
    "    lst1=list(filter((lambda x:x<0), lst))\n",
    "    return lst1\n",
    "\n",
    "lst = [0,-1,3,5,10, -20, 80,1, -45, 99,100,111] \n",
    "neg_no(lst)"
   ]
  },
  {
   "cell_type": "code",
   "execution_count": 24,
   "metadata": {},
   "outputs": [
    {
     "data": {
      "text/plain": [
       "[0, 1, 2, 3, 4, 5, 6, 7, 8, 9, 10, 11, 12]"
      ]
     },
     "execution_count": 24,
     "metadata": {},
     "output_type": "execute_result"
    }
   ],
   "source": [
    "# Python program to print all positive numbers in a range\n",
    "\n",
    "def pos_range(st,end):\n",
    "    list1=[]\n",
    "    \n",
    "    for i in range(st,end+1):\n",
    "        if i>=0:\n",
    "            list1.append(i)\n",
    "    return list1\n",
    "\n",
    "\n",
    "pos_range(-10, 12)\n",
    "        "
   ]
  },
  {
   "cell_type": "code",
   "execution_count": 26,
   "metadata": {},
   "outputs": [
    {
     "data": {
      "text/plain": [
       "[-10, -9, -8, -7, -6, -5, -4, -3, -2, -1]"
      ]
     },
     "execution_count": 26,
     "metadata": {},
     "output_type": "execute_result"
    }
   ],
   "source": [
    "# Python program to print all negative numbers in a range\n",
    "\n",
    "def neg_range(st,end):\n",
    "    list1=[]\n",
    "    \n",
    "    for i in range(st,end+1):\n",
    "        if i<0:\n",
    "            list1.append(i)\n",
    "    return list1\n",
    "\n",
    "\n",
    "neg_range(-10, 12)\n",
    "        "
   ]
  },
  {
   "cell_type": "code",
   "execution_count": 29,
   "metadata": {},
   "outputs": [
    {
     "data": {
      "text/plain": [
       "(9, 3)"
      ]
     },
     "execution_count": 29,
     "metadata": {},
     "output_type": "execute_result"
    }
   ],
   "source": [
    "# Python program to count positive and negative numbers in a list\n",
    "\n",
    "def pos_count(lst):\n",
    "    count_pos=0\n",
    "    count_neg=0\n",
    "    \n",
    "    for i in lst:\n",
    "        if i>=0:\n",
    "            count_pos+=1\n",
    "        else:\n",
    "            count_neg+=1\n",
    "    return count_pos, count_neg\n",
    "\n",
    "lst = [0,-1,3,5,10, -20, 80,1, -45, 99,100,111] \n",
    "pos_count(lst)"
   ]
  },
  {
   "cell_type": "code",
   "execution_count": 42,
   "metadata": {},
   "outputs": [
    {
     "data": {
      "text/plain": [
       "[-1, -10, 3, 5, -40, 1, -45, 99, 111]"
      ]
     },
     "execution_count": 42,
     "metadata": {},
     "output_type": "execute_result"
    }
   ],
   "source": [
    "# Remove multiple elements from a list in Python\n",
    "# delete each element in the list which is divisible by 2 or all the even numbers.\n",
    "def cond_remove(lst):\n",
    "    \n",
    "    for i in lst:\n",
    "        if i%2==0:\n",
    "            lst.remove(i)\n",
    "    return lst\n",
    "lst = [0,-1,-2,-10,3,5,10,-40 ,80,1, -45, 99,100,111,-20] \n",
    "cond_remove(lst)"
   ]
  },
  {
   "cell_type": "code",
   "execution_count": 43,
   "metadata": {},
   "outputs": [
    {
     "name": "stdout",
     "output_type": "stream",
     "text": [
      "11 50\n"
     ]
    }
   ],
   "source": [
    "# Python program to remove multiple \n",
    "# elements from a list  \n",
    "  \n",
    "# creating a list \n",
    "list1 = [11, 5, 17, 18, 23, 50]  \n",
    "  \n",
    "# removes elements from index 1 to 4 \n",
    "# i.e. 5, 17, 18, 23 will be deleted \n",
    "del list1[1:5] \n",
    "  \n",
    "print(*list1) "
   ]
  },
  {
   "cell_type": "code",
   "execution_count": 44,
   "metadata": {},
   "outputs": [
    {
     "name": "stdout",
     "output_type": "stream",
     "text": [
      "New list after removing all even numbers:  [-1, -10, 3, 5, -40, 1, -45, 99, 111]\n"
     ]
    }
   ],
   "source": [
    "# creating a list \n",
    "list1 = [0,-1,-2,-10,3,5,10,-40 ,80,1, -45, 99,100,111,-20]\n",
    "  \n",
    "# Iterate each element in list \n",
    "# and add them in variale total \n",
    "for ele in list1: \n",
    "    if ele % 2 == 0: \n",
    "        list1.remove(ele) \n",
    "### printing modified list \n",
    "print(\"New list after removing all even numbers: \", list1) "
   ]
  },
  {
   "cell_type": "code",
   "execution_count": 46,
   "metadata": {},
   "outputs": [
    {
     "data": {
      "text/plain": [
       "[11, 50]"
      ]
     },
     "execution_count": 46,
     "metadata": {},
     "output_type": "execute_result"
    }
   ],
   "source": [
    "def rem_lst(lst):\n",
    "    del lst[1:5]\n",
    "    return lst\n",
    "list1 = [11, 5, 17, 18, 23, 50] \n",
    "rem_lst(list1)"
   ]
  },
  {
   "cell_type": "code",
   "execution_count": 48,
   "metadata": {},
   "outputs": [
    {
     "data": {
      "text/plain": [
       "[('ram', '15', '8'), ('laxman', 'sita'), ('krishna', 'akbar', '45'), ('', '')]"
      ]
     },
     "execution_count": 48,
     "metadata": {},
     "output_type": "execute_result"
    }
   ],
   "source": [
    "# Python | Remove empty tuples from a list\n",
    "\n",
    "\"\"\"\n",
    "Input : tuples = [(), ('ram','15','8'), (), ('laxman', 'sita'), \n",
    "                  ('krishna', 'akbar', '45'), ('',''),()]\n",
    "Output : [('ram', '15', '8'), ('laxman', 'sita'), \n",
    "          ('krishna', 'akbar', '45'), ('', '')]\n",
    "\"\"\"\n",
    "\n",
    "\n",
    "def rem_empty_tuple(lst):\n",
    "    \n",
    "    for i in lst:\n",
    "        if i==tuple():\n",
    "            lst.remove(i)\n",
    "    return lst\n",
    "\n",
    "lst=[(), ('ram','15','8'), (), ('laxman', 'sita'), ('krishna', 'akbar', '45'), ('',''),()]\n",
    "rem_empty_tuple(lst)\n",
    "\n"
   ]
  },
  {
   "cell_type": "code",
   "execution_count": 69,
   "metadata": {},
   "outputs": [
    {
     "data": {
      "text/plain": [
       "[20, 30, 60, -20]"
      ]
     },
     "execution_count": 69,
     "metadata": {},
     "output_type": "execute_result"
    }
   ],
   "source": [
    "# Python | Program to print duplicates from a list of integers\n",
    "\n",
    "def remove_dup(lst):\n",
    "    lst1=[]\n",
    "    lst2=[]\n",
    "    \n",
    "    for i in lst:\n",
    "        if i not in lst1:\n",
    "            lst1.append(i)\n",
    "        else:\n",
    "            if i not in lst2:\n",
    "                lst2.append(i)\n",
    "    return lst2\n",
    "lst=[10, 20, 30, 20, 20, 30, 40, 50, -20, 60, 60, -20, -20]\n",
    "remove_dup(lst)"
   ]
  },
  {
   "cell_type": "code",
   "execution_count": 71,
   "metadata": {},
   "outputs": [
    {
     "data": {
      "text/plain": [
       "[10, 30, 60, 100, 150]"
      ]
     },
     "execution_count": 71,
     "metadata": {},
     "output_type": "execute_result"
    }
   ],
   "source": [
    "# Python program to find Cumulative sum of a list\n",
    "\n",
    "\"\"\"\n",
    "Input : list = [10, 20, 30, 40, 50]\n",
    "Output : [10, 30, 60, 100, 150]\n",
    "\"\"\"\n",
    "\n",
    "def cum_sum(lst):\n",
    "    final=[]\n",
    "    total=0\n",
    "    \n",
    "    for i in lst:\n",
    "        total=total+i\n",
    "        final.append(total)\n",
    "    return final\n",
    "\n",
    "lst=[10, 20, 30, 40, 50]\n",
    "cum_sum(lst)"
   ]
  },
  {
   "cell_type": "code",
   "execution_count": 72,
   "metadata": {},
   "outputs": [
    {
     "name": "stdout",
     "output_type": "stream",
     "text": [
      "[['geeks', 'for', 'geeks', 'like', 'geeky'], ['nerdy', 'geek', 'love', 'questions', 'words'], ['life']]\n"
     ]
    }
   ],
   "source": [
    "my_list = ['geeks', 'for', 'geeks', 'like', \n",
    "           'geeky','nerdy', 'geek', 'love', \n",
    "               'questions','words', 'life'] \n",
    "  \n",
    "# Yield successive n-sized \n",
    "# chunks from l. \n",
    "def divide_chunks(l, n): \n",
    "      \n",
    "    # looping till length l \n",
    "    for i in range(0, len(l), n):  \n",
    "        yield l[i:i + n] \n",
    "\n",
    "        \n",
    "# How many elements each \n",
    "# list should have \n",
    "n = 5\n",
    "  \n",
    "x = list(divide_chunks(my_list, n)) \n",
    "print (x) "
   ]
  },
  {
   "cell_type": "code",
   "execution_count": 84,
   "metadata": {},
   "outputs": [
    {
     "name": "stdout",
     "output_type": "stream",
     "text": [
      "[['geeks', 'for', 'geeks', 'like', 'geeky'], ['nerdy', 'geek', 'love', 'questions', 'words'], ['life']]\n"
     ]
    }
   ],
   "source": [
    "def divide_chunks(lst, n):\n",
    "    \n",
    "    \n",
    "    for i in range(0,len(lst),n):\n",
    "        yield lst[i:i+n]\n",
    "    \n",
    "\n",
    "my_list = ['geeks', 'for', 'geeks', 'like', \n",
    "           'geeky','nerdy', 'geek', 'love', \n",
    "               'questions','words', 'life'] \n",
    "x= list(divide_chunks(my_list, n))\n",
    "print(x)"
   ]
  },
  {
   "cell_type": "code",
   "execution_count": 90,
   "metadata": {},
   "outputs": [
    {
     "data": {
      "text/plain": [
       "[['geeks', 'for', 'geeks', 'like', 'geeky'],\n",
       " ['nerdy', 'geek', 'love', 'questions', 'words'],\n",
       " ['life']]"
      ]
     },
     "execution_count": 90,
     "metadata": {},
     "output_type": "execute_result"
    }
   ],
   "source": [
    "def divide_chunks(lst,n):\n",
    "    list1=[]\n",
    "    \n",
    "    for i in range(0,len(lst),n):\n",
    "        list1.append(lst[i:i+n])\n",
    "    return list1\n",
    "    \n",
    "my_list = ['geeks', 'for', 'geeks', 'like', \n",
    "           'geeky','nerdy', 'geek', 'love', \n",
    "               'questions','words', 'life'] \n",
    "\n",
    "divide_chunks(my_list,5)"
   ]
  },
  {
   "cell_type": "code",
   "execution_count": 24,
   "metadata": {},
   "outputs": [
    {
     "name": "stdout",
     "output_type": "stream",
     "text": [
      "['a', 'd', 'h', 'b', 'c', 'e', 'i', 'f', 'g']\n",
      "['g', 'k', 'r', 'e', 'e', 'g', 's', 'f', 'o']\n"
     ]
    }
   ],
   "source": [
    "# Python | Sort the values of first list using second list\n",
    "\n",
    "\"\"\"\n",
    "Input : list1 = [\"a\", \"b\", \"c\", \"d\", \"e\", \"f\", \"g\", \"h\", \"i\"]\n",
    "        list2 = [ 0,   1,   1,    0,   1,   2,   2,   0,   1]\n",
    "\n",
    "Output :['a', 'd', 'h', 'b', 'c', 'e', 'i', 'f', 'g']\n",
    "\n",
    "\"\"\"\n",
    "def sort_list(list1, list2): \n",
    "  \n",
    "    zipped_pairs = zip(list2, list1) \n",
    "  \n",
    "    z = [x for _, x in sorted(zipped_pairs)] \n",
    "      \n",
    "    return z \n",
    "      \n",
    "#  \n",
    "# driver code \n",
    "x = [\"a\", \"b\", \"c\", \"d\", \"e\", \"f\", \"g\", \"h\", \"i\"] \n",
    "y = [ 0,   1,   1,    0,   1,   2,   2,   0,   1] \n",
    "  \n",
    "print(sort_list(x, y)) \n",
    "  \n",
    "x = [\"g\", \"e\", \"e\", \"k\", \"s\", \"f\", \"o\", \"r\", \"g\", \"e\", \"e\", \"k\", \"s\"] \n",
    "y = [ 0,   1,   1,    0,   1,   2,   2,   0,   1] \n",
    "  \n",
    "print(sort_list(x, y)) "
   ]
  },
  {
   "cell_type": "code",
   "execution_count": 47,
   "metadata": {},
   "outputs": [
    {
     "ename": "NameError",
     "evalue": "name 'reverse' is not defined",
     "output_type": "error",
     "traceback": [
      "\u001b[1;31m---------------------------------------------------------------------------\u001b[0m",
      "\u001b[1;31mNameError\u001b[0m                                 Traceback (most recent call last)",
      "\u001b[1;32m<ipython-input-47-df29c6ce2759>\u001b[0m in \u001b[0;36m<module>\u001b[1;34m\u001b[0m\n\u001b[0;32m     10\u001b[0m \u001b[1;33m\u001b[0m\u001b[0m\n\u001b[0;32m     11\u001b[0m \u001b[1;33m\u001b[0m\u001b[0m\n\u001b[1;32m---> 12\u001b[1;33m \u001b[0misPalindrome\u001b[0m\u001b[1;33m(\u001b[0m\u001b[1;34m'madam'\u001b[0m\u001b[1;33m)\u001b[0m\u001b[1;33m\u001b[0m\u001b[1;33m\u001b[0m\u001b[0m\n\u001b[0m",
      "\u001b[1;32m<ipython-input-47-df29c6ce2759>\u001b[0m in \u001b[0;36misPalindrome\u001b[1;34m(s)\u001b[0m\n\u001b[0;32m      2\u001b[0m \u001b[1;32mdef\u001b[0m \u001b[0misPalindrome\u001b[0m\u001b[1;33m(\u001b[0m\u001b[0ms\u001b[0m\u001b[1;33m)\u001b[0m\u001b[1;33m:\u001b[0m\u001b[1;33m\u001b[0m\u001b[1;33m\u001b[0m\u001b[0m\n\u001b[0;32m      3\u001b[0m     \u001b[1;31m# Calling reverse function\u001b[0m\u001b[1;33m\u001b[0m\u001b[1;33m\u001b[0m\u001b[1;33m\u001b[0m\u001b[0m\n\u001b[1;32m----> 4\u001b[1;33m     \u001b[0mrev\u001b[0m \u001b[1;33m=\u001b[0m \u001b[0mreverse\u001b[0m\u001b[1;33m(\u001b[0m\u001b[0ms\u001b[0m\u001b[1;33m)\u001b[0m\u001b[1;33m\u001b[0m\u001b[1;33m\u001b[0m\u001b[0m\n\u001b[0m\u001b[0;32m      5\u001b[0m \u001b[1;33m\u001b[0m\u001b[0m\n\u001b[0;32m      6\u001b[0m     \u001b[1;31m# Checking if both string are equal or not\u001b[0m\u001b[1;33m\u001b[0m\u001b[1;33m\u001b[0m\u001b[1;33m\u001b[0m\u001b[0m\n",
      "\u001b[1;31mNameError\u001b[0m: name 'reverse' is not defined"
     ]
    }
   ],
   "source": [
    "# Python program to check if a string is palindrome or not\n",
    "def palindrom(str1):\n",
    "    if str1==str1[::-1]:\n",
    "        return \"palindrom\", str1\n",
    "    \n",
    "palindrom('madam')"
   ]
  },
  {
   "cell_type": "code",
   "execution_count": 57,
   "metadata": {},
   "outputs": [
    {
     "data": {
      "text/plain": [
       "['code', 'practice', 'quiz', 'geeks']"
      ]
     },
     "execution_count": 57,
     "metadata": {},
     "output_type": "execute_result"
    }
   ],
   "source": [
    "# Reverse words in a given String in Python:\n",
    "'''\n",
    "Input : str = \"geeks quiz practice code\"\n",
    "Output : str = \"code practice quiz geeks\"\n",
    "'''\n",
    "\n",
    "def rev_string(str1):\n",
    "    \n",
    "    a=str1.split()\n",
    "    return a[::-1]\n",
    "    \n",
    "    \n",
    "str1=str = \"geeks quiz practice code\"  \n",
    "rev_string(str1)"
   ]
  },
  {
   "cell_type": "code",
   "execution_count": 59,
   "metadata": {},
   "outputs": [
    {
     "name": "stdout",
     "output_type": "stream",
     "text": [
      "['code', 'practice', 'quiz', 'geeks']\n"
     ]
    }
   ],
   "source": [
    "str1=str = \"geeks quiz practice code\"\n",
    "\n",
    "a=str1.split()\n",
    "print(a[::-1])\n",
    "\n"
   ]
  },
  {
   "cell_type": "markdown",
   "metadata": {},
   "source": [
    "# 21/11/2019"
   ]
  },
  {
   "cell_type": "code",
   "execution_count": 66,
   "metadata": {},
   "outputs": [
    {
     "name": "stdout",
     "output_type": "stream",
     "text": [
      "geeks\n"
     ]
    },
    {
     "data": {
      "text/plain": [
       "True"
      ]
     },
     "execution_count": 66,
     "metadata": {},
     "output_type": "execute_result"
    }
   ],
   "source": [
    "# 1.Python | Check if a Substring is Present in a Given String\n",
    "\n",
    "\"\"\"\n",
    "Input : s1 = geeks s2=geeks for geeks\n",
    "Output : yes\n",
    "\n",
    "\"\"\"\n",
    "\n",
    "def check_if_substring(s1,s2):\n",
    "    a=s2.split()\n",
    "    \n",
    "    for i in a:\n",
    "        if i==s1:\n",
    "            print(i)\n",
    "            return True\n",
    "        \n",
    "s1 = \"geeks\" \n",
    "s2=\"geeks for geeks\"\n",
    "\n",
    "check_if_substring(s1,s2)"
   ]
  },
  {
   "cell_type": "code",
   "execution_count": 73,
   "metadata": {},
   "outputs": [
    {
     "data": {
      "text/plain": [
       "'Yes'"
      ]
     },
     "execution_count": 73,
     "metadata": {},
     "output_type": "execute_result"
    }
   ],
   "source": [
    "# 2. using find function.\n",
    "\n",
    "def find_substring(string, sub_str):\n",
    "    if(string.find(sub_str)==-1):\n",
    "        return 'NO'\n",
    "    else:\n",
    "        return 'Yes'\n",
    "    \n",
    "s1 = \"geeks\" \n",
    "s2=\"geeks for geeks\"\n",
    "find_substring(s2,s1)"
   ]
  },
  {
   "cell_type": "code",
   "execution_count": 92,
   "metadata": {},
   "outputs": [
    {
     "name": "stdout",
     "output_type": "stream",
     "text": [
      "5\n"
     ]
    }
   ],
   "source": [
    "# 3. Find length of a string in python\n",
    "\n",
    "def findLen(str1): \n",
    "    counter = 0    \n",
    "    for i in str1: \n",
    "        counter += 1\n",
    "    return counter \n",
    "  \n",
    "str1 = \"geeks\"\n",
    "print(findLen(str1)) "
   ]
  },
  {
   "cell_type": "code",
   "execution_count": 94,
   "metadata": {},
   "outputs": [
    {
     "data": {
      "text/plain": [
       "13"
      ]
     },
     "execution_count": 94,
     "metadata": {},
     "output_type": "execute_result"
    }
   ],
   "source": [
    "def lenstr(str1):\n",
    "    \n",
    "    return len(str1)\n",
    "\n",
    "str1='hello world !'\n",
    "lenstr(str1)"
   ]
  },
  {
   "cell_type": "code",
   "execution_count": 111,
   "metadata": {},
   "outputs": [
    {
     "name": "stdout",
     "output_type": "stream",
     "text": [
      "This\n",
      "is\n",
      "python\n",
      "language\n"
     ]
    }
   ],
   "source": [
    "#4. Python program to print even length words in a string\n",
    "\n",
    "'''\n",
    "Input: s = \"This is a python language\"\n",
    "Output: This\n",
    "        is\n",
    "        python\n",
    "        language \n",
    "        \n",
    "'''\n",
    "\n",
    "def evenlen_word(str1):\n",
    "    a=str1.split()\n",
    "    \n",
    "    for i in a:\n",
    "        if len(i)%2==0:\n",
    "            print (i)\n",
    "\n",
    "s = \"This is a python language\"\n",
    "evenlen_word(s)\n"
   ]
  },
  {
   "cell_type": "code",
   "execution_count": 105,
   "metadata": {},
   "outputs": [
    {
     "name": "stdout",
     "output_type": "stream",
     "text": [
      "a : ['This', 'is', 'a', 'python', 'language']\n",
      "This\n",
      "is\n",
      "python\n",
      "language\n"
     ]
    }
   ],
   "source": [
    "str1 = \"This is a python language\"\n",
    "a=str1.split()\n",
    "print(\"a :\",a)\n",
    "\n",
    "for i in a:\n",
    "    if len(i)%2==0:\n",
    "        print(i)"
   ]
  },
  {
   "cell_type": "code",
   "execution_count": null,
   "metadata": {},
   "outputs": [],
   "source": [
    "# 5. Python | Program to accept the strings which contains all vowels\n",
    "\n",
    "'''\n",
    "Input : geeksforgeeks\n",
    "Output : Not Accepted\n",
    "\n",
    "Input : ABeeIghiObhkUul\n",
    "Output : Accepted\n",
    "\n",
    "'''\n",
    "def vowel_accept(s):\n",
    "    vowel='aeiou'\n",
    "    \n",
    "    for i in s:\n",
    "        if i in vowel:\n",
    "            \n",
    "\n"
   ]
  },
  {
   "cell_type": "code",
   "execution_count": 118,
   "metadata": {},
   "outputs": [],
   "source": [
    "def check(string) : \n",
    "  \n",
    "    # set() function convert \"aeiou\" \n",
    "    # string into set of characters \n",
    "    # i.e.vowels = {'a', 'e', 'i', 'o', 'u'} \n",
    "    vowels = set(\"aeiou\") \n",
    "  \n",
    "    # set() function convert empty  \n",
    "    # dictionary into empty set \n",
    "    s = set({}) \n",
    "  \n",
    "    # looping through each \n",
    "    # character of the string \n",
    "    for char in string : \n",
    "  \n",
    "    # Check for the character is present inside \n",
    "    # the vowels set or not. If present, then \n",
    "    # add into the set s by using add method \n",
    "        if char in vowels : \n",
    "            s.add(char) \n",
    "        else: \n",
    "            pass\n",
    "              \n",
    "    # check the length of set s equal to length  \n",
    "    # of vowels set or not. If equal, string is   \n",
    "    # accepted otherwise not \n",
    "    if len(s) == len(vowels) : \n",
    "        print(\"Accepted\") \n",
    "    else : \n",
    "        print(\"Not Accepted\")"
   ]
  },
  {
   "cell_type": "code",
   "execution_count": 122,
   "metadata": {},
   "outputs": [
    {
     "name": "stdout",
     "output_type": "stream",
     "text": [
      "Accepted\n"
     ]
    }
   ],
   "source": [
    "s1='aeiouue'\n",
    "check(s1)"
   ]
  },
  {
   "cell_type": "code",
   "execution_count": 124,
   "metadata": {},
   "outputs": [
    {
     "name": "stdout",
     "output_type": "stream",
     "text": [
      "s1:  {'i', 'o', 'e', 'u', 'a'}\n",
      "s:  aeiouue\n"
     ]
    },
    {
     "data": {
      "text/plain": [
       "'accepted'"
      ]
     },
     "execution_count": 124,
     "metadata": {},
     "output_type": "execute_result"
    }
   ],
   "source": [
    "def check_vowel(s):\n",
    "    vowel=set('aeiou')\n",
    "    s1=set()\n",
    "    \n",
    "    for char in s:\n",
    "        if char in vowel:\n",
    "            s1.add(char)\n",
    "    print('s1: ',s1)\n",
    "    print('s: ', s)\n",
    "    if len(s1)==len(vowel):\n",
    "        return 'accepted'\n",
    "    else:\n",
    "        return 'not accepted'\n",
    "\n",
    "s1='aeiouue'\n",
    "check_vowel(s1)\n",
    "            "
   ]
  },
  {
   "cell_type": "code",
   "execution_count": 125,
   "metadata": {},
   "outputs": [
    {
     "name": "stdout",
     "output_type": "stream",
     "text": [
      "s1:  {'o', 'e'}\n",
      "s:  geeksforgeeks\n"
     ]
    },
    {
     "data": {
      "text/plain": [
       "'not accepted'"
      ]
     },
     "execution_count": 125,
     "metadata": {},
     "output_type": "execute_result"
    }
   ],
   "source": [
    "s='geeksforgeeks'\n",
    "check_vowel(s)"
   ]
  },
  {
   "cell_type": "code",
   "execution_count": 126,
   "metadata": {},
   "outputs": [],
   "source": [
    "# 6. Python | Count the Number of matching characters in a pair of string\n",
    "\n",
    "'''\n",
    "Input : str1 = 'abcdef'\n",
    "        str2 = 'defghia'\n",
    "Output : 4 \n",
    "(i.e. matching characters :- a, d, e, f)\n",
    "\n",
    "'''\n",
    "\n",
    "def match_char(s1,s2):\n",
    "    s11=set(s1)\n",
    "    s22=set(s2)\n",
    "    match=set()\n",
    "    count=0\n",
    "    \n",
    "    for i in s11:\n",
    "        for j in s22:\n",
    "            if i==j:\n",
    "                count+=1\n",
    "                match.add(i)\n",
    "    print('count: ', count)\n",
    "    return 'matching char: ', match\n",
    "        "
   ]
  },
  {
   "cell_type": "code",
   "execution_count": 127,
   "metadata": {},
   "outputs": [
    {
     "name": "stdout",
     "output_type": "stream",
     "text": [
      "count:  4\n"
     ]
    },
    {
     "data": {
      "text/plain": [
       "('matching char: ', {'a', 'd', 'e', 'f'})"
      ]
     },
     "execution_count": 127,
     "metadata": {},
     "output_type": "execute_result"
    }
   ],
   "source": [
    "s1 = 'abcdef'\n",
    "s2 = 'defghia'\n",
    "\n",
    "match_char(s1,s2)"
   ]
  },
  {
   "cell_type": "code",
   "execution_count": 135,
   "metadata": {},
   "outputs": [
    {
     "name": "stdout",
     "output_type": "stream",
     "text": [
      "{'d', 'a', 'f', 'e'}\n",
      "length: 4\n"
     ]
    }
   ],
   "source": [
    "def match_char1(s1,s2):\n",
    "    s11=set(s1)\n",
    "    s22=set(s2)\n",
    "    \n",
    "    a=s11&s22\n",
    "    print(a)\n",
    "    print('length:', len(a))\n",
    "    \n",
    "s1 = 'abcdef'\n",
    "s2 = 'defghia'\n",
    "\n",
    "match_char1(s1,s2)"
   ]
  },
  {
   "cell_type": "markdown",
   "metadata": {},
   "source": [
    "# 22/11/2019"
   ]
  },
  {
   "cell_type": "code",
   "execution_count": 4,
   "metadata": {},
   "outputs": [
    {
     "name": "stdout",
     "output_type": "stream",
     "text": [
      "['e', 'e', 'o', 'e', 'e']\n"
     ]
    },
    {
     "data": {
      "text/plain": [
       "('total vowel count in string: ', 5)"
      ]
     },
     "execution_count": 4,
     "metadata": {},
     "output_type": "execute_result"
    }
   ],
   "source": [
    "# 1. Python program to count number of vowels using sets in given string\n",
    "\"\"\"\n",
    "Input : GeeksforGeeks\n",
    "Output : No. of vowels : 5\n",
    "\n",
    "\"\"\"\n",
    "\n",
    "def count_no_vowels(str1):\n",
    "    vowels=set('aeiou')\n",
    "    count=0\n",
    "    lst=[]\n",
    "    \n",
    "    for i in str1:\n",
    "        if i in vowels:\n",
    "            count+=1\n",
    "            lst.append(i)\n",
    "    print(lst)\n",
    "    return 'total vowel count in string: ', count\n",
    "\n",
    "str1=' GeeksforGeeks'\n",
    "count_no_vowels(str1)"
   ]
  },
  {
   "cell_type": "code",
   "execution_count": 6,
   "metadata": {},
   "outputs": [
    {
     "name": "stdout",
     "output_type": "stream",
     "text": [
      "['e', 'o', 'o']\n"
     ]
    },
    {
     "data": {
      "text/plain": [
       "('total vowel count in string: ', 3)"
      ]
     },
     "execution_count": 6,
     "metadata": {},
     "output_type": "execute_result"
    }
   ],
   "source": [
    "'''\n",
    "Input : Hello World\n",
    "Output : No. of vowels :  3\n",
    "'''\n",
    "\n",
    "str1=' Hello World'\n",
    "count_no_vowels(str1)"
   ]
  },
  {
   "cell_type": "code",
   "execution_count": 17,
   "metadata": {},
   "outputs": [
    {
     "data": {
      "text/plain": [
       "{'e', 'f', 'g', 'k', 'o', 'r', 's'}"
      ]
     },
     "execution_count": 17,
     "metadata": {},
     "output_type": "execute_result"
    }
   ],
   "source": [
    "# 2. Remove all duplicates from a given string in Python\n",
    "'''\n",
    "Input : geeksforgeeks\n",
    "Output : efgkos\n",
    "\n",
    "'''\n",
    "\n",
    "def remov_dupli(str1):\n",
    "    s1=set()\n",
    "    \n",
    "    for i in str1:\n",
    "        if i not in s1:\n",
    "            s1.add(i)\n",
    "    return (s1)\n",
    "\n",
    "str1='geeksforgeeks'\n",
    "remov_dupli(str1)"
   ]
  },
  {
   "cell_type": "code",
   "execution_count": 19,
   "metadata": {},
   "outputs": [
    {
     "data": {
      "text/plain": [
       "'koersgf'"
      ]
     },
     "execution_count": 19,
     "metadata": {},
     "output_type": "execute_result"
    }
   ],
   "source": [
    "# withut order\n",
    "\n",
    "def removeDupWithoutOrder(str): \n",
    "   \n",
    "    # set() --> A Set is an unordered collection  \n",
    "    #            data type that is iterable, mutable,  \n",
    "    #            and has no duplicate elements. \n",
    "    # \"\".join() --> It joins two adjacent elements in \n",
    "    #               iterable with any symbol defined in  \n",
    "    #               \"\" ( double quotes ) and returns a  \n",
    "    #               single string \n",
    "    return \"\".join(set(str))\n",
    "str1='geeksforgeeks'\n",
    "removeDupWithoutOrder(str1)"
   ]
  },
  {
   "cell_type": "code",
   "execution_count": 23,
   "metadata": {},
   "outputs": [
    {
     "data": {
      "text/plain": [
       "'koersgf'"
      ]
     },
     "execution_count": 23,
     "metadata": {},
     "output_type": "execute_result"
    }
   ],
   "source": [
    "def rem_dup(str1):\n",
    "    return ''.join(set(str1))\n",
    "\n",
    "str1='geeksforgeeks'\n",
    "rem_dup(str1)"
   ]
  },
  {
   "cell_type": "code",
   "execution_count": 20,
   "metadata": {},
   "outputs": [
    {
     "data": {
      "text/plain": [
       "'koersgf'"
      ]
     },
     "execution_count": 20,
     "metadata": {},
     "output_type": "execute_result"
    }
   ],
   "source": [
    "# with order\n",
    "\n",
    "def removeDupWithOrder(str): \n",
    "    return \"\".join(OrderedDict.fromkeys(str))\n",
    "\n",
    "str1='geeksforgeeks'\n",
    "removeDupWithoutOrder(str1)"
   ]
  },
  {
   "cell_type": "code",
   "execution_count": 24,
   "metadata": {},
   "outputs": [
    {
     "data": {
      "text/plain": [
       "'geksfor'"
      ]
     },
     "execution_count": 24,
     "metadata": {},
     "output_type": "execute_result"
    }
   ],
   "source": [
    "from collections import OrderedDict\n",
    "\n",
    "def rem_dup1(str1):\n",
    "    return ''.join(OrderedDict.fromkeys(str1))\n",
    "\n",
    "str1='geeksforgeeks'\n",
    "rem_dup1(str1)"
   ]
  },
  {
   "cell_type": "code",
   "execution_count": 38,
   "metadata": {},
   "outputs": [
    {
     "data": {
      "text/plain": [
       "'not accepted'"
      ]
     },
     "execution_count": 38,
     "metadata": {},
     "output_type": "execute_result"
    }
   ],
   "source": [
    "# 3. Program to check if a string contains any special character\n",
    "\n",
    "'''\n",
    "Input : Geeks$For$Geeks\n",
    "Output : String is not accepted.\n",
    "\n",
    "Input : Geeks For Geeks\n",
    "Output : String is accepted\n",
    "\n",
    "'''\n",
    "\n",
    "def check_specialchar(str1):\n",
    "    alpha=set('abcdefghijklmnopqrstuvwxyz')\n",
    "    s1=set(str1)\n",
    "    \n",
    "    if s1.issubset(alpha):\n",
    "        return 'accepted'\n",
    "    else:\n",
    "        return 'not accepted'\n",
    "        \n",
    "    \n",
    "str1= ' Geeks$For$Geeks'\n",
    "check_specialchar(str1)\n",
    "\n"
   ]
  },
  {
   "cell_type": "code",
   "execution_count": 39,
   "metadata": {},
   "outputs": [
    {
     "data": {
      "text/plain": [
       "'not accepted'"
      ]
     },
     "execution_count": 39,
     "metadata": {},
     "output_type": "execute_result"
    }
   ],
   "source": [
    "str2='Geeks For Geeks'\n",
    "check_specialchar(str2)"
   ]
  },
  {
   "cell_type": "code",
   "execution_count": 40,
   "metadata": {},
   "outputs": [
    {
     "name": "stdout",
     "output_type": "stream",
     "text": [
      "String is not accepted.\n"
     ]
    }
   ],
   "source": [
    "# Python program to check if a string \n",
    "# contains any special character \n",
    "  \n",
    "# import required package \n",
    "import re \n",
    "  \n",
    "# Function checks if the string \n",
    "# contains any special character \n",
    "def run(string): \n",
    "  \n",
    "    # Make own character set and pass  \n",
    "    # this as argument in compile method \n",
    "    regex = re.compile('[@_!#$%^&*()<>?/\\|}{~:]') \n",
    "      \n",
    "    # Pass the string in search  \n",
    "    # method of regex object.     \n",
    "    if(regex.search(string) == None): \n",
    "        print(\"String is accepted\") \n",
    "          \n",
    "    else: \n",
    "        print(\"String is not accepted.\") \n",
    "      \n",
    "\n",
    "    # Driver Code\n",
    "if __name__ == '__main__' : \n",
    "      \n",
    "    # Enter the string \n",
    "    string = \"Geeks$For$Geeks\"\n",
    "      \n",
    "    # calling run function  \n",
    "    run(string) "
   ]
  },
  {
   "cell_type": "code",
   "execution_count": 42,
   "metadata": {},
   "outputs": [
    {
     "data": {
      "text/plain": [
       "' str is not accepted'"
      ]
     },
     "execution_count": 42,
     "metadata": {},
     "output_type": "execute_result"
    }
   ],
   "source": [
    "import re\n",
    "\n",
    "def check_special_char(string):\n",
    "    \n",
    "    regex=re.compile('[@_!#$%^&*()<>?/\\|}{~:]')\n",
    "    \n",
    "    if (regex.search(string)==None):\n",
    "        return ' str is accepted'\n",
    "    else:\n",
    "        return ' str is not accepted'\n",
    "    \n",
    "string = \"Geeks$For$Geeks\"\n",
    "check_special_char(string)\n"
   ]
  },
  {
   "cell_type": "code",
   "execution_count": 43,
   "metadata": {},
   "outputs": [
    {
     "data": {
      "text/plain": [
       "' str is accepted'"
      ]
     },
     "execution_count": 43,
     "metadata": {},
     "output_type": "execute_result"
    }
   ],
   "source": [
    "string = \"Geeks For Geeks\"\n",
    "check_special_char(string)"
   ]
  },
  {
   "cell_type": "code",
   "execution_count": 33,
   "metadata": {},
   "outputs": [],
   "source": [
    "# 4. Generating random strings until a given string is generated\n",
    "\n",
    "'''\n",
    "Input : GFG\n",
    "Output :n4W\n",
    "        mK7\n",
    "        k1x\n",
    "        q;;, !g\n",
    "        .\n",
    "        .\n",
    "        .\n",
    "        .\n",
    "        .\n",
    "        GF,\n",
    "        GFf\n",
    "        GFp\n",
    "        GFG\n",
    "\n",
    "Target matched after 167 iterations\n",
    "\n",
    "'''"
   ]
  },
  {
   "cell_type": "code",
   "execution_count": 45,
   "metadata": {},
   "outputs": [
    {
     "name": "stdout",
     "output_type": "stream",
     "text": [
      "hello\n",
      "geeks\n",
      "geeks\n",
      "computer\n",
      "science\n",
      "portal\n"
     ]
    }
   ],
   "source": [
    "# 5.  Find words which are greater than given length k\n",
    "\n",
    "'''\n",
    "Input : str = \"hello geeks for geeks \n",
    "          is computer science portal\" \n",
    "        k = 4\n",
    "Output : hello geeks geeks computer \n",
    "         science portal\n",
    "\n",
    "'''\n",
    "\n",
    "def greater_str_n(str1,k):\n",
    "    \n",
    "    a=str1.split()\n",
    "        \n",
    "    for i in a:\n",
    "        if len(i)>k:\n",
    "            print(i)\n",
    "                \n",
    "                \n",
    "str1 = \"hello geeks for geeks is computer science portal\"                \n",
    "greater_str_n(str1,4)"
   ]
  },
  {
   "cell_type": "code",
   "execution_count": 61,
   "metadata": {},
   "outputs": [
    {
     "data": {
      "text/plain": [
       "'eskg'"
      ]
     },
     "execution_count": 61,
     "metadata": {},
     "output_type": "execute_result"
    }
   ],
   "source": [
    "# 6. Python program for removing i-th character from a string\n",
    "\n",
    "'''\n",
    "g e e k s\n",
    "0 1 2 3 4\n",
    "\n",
    "Input : Geek\n",
    "        i = 1\n",
    "Output : Gek \n",
    "\n",
    "'''\n",
    "\n",
    "def remove_char(str1,i):\n",
    "    \n",
    "    s=list(str1)\n",
    "    del s[i]\n",
    "    return ''.join(set(s))\n",
    "    \n",
    "str1='geeks'\n",
    "\n",
    "remove_char(str1,1)"
   ]
  },
  {
   "cell_type": "code",
   "execution_count": 58,
   "metadata": {},
   "outputs": [
    {
     "name": "stdout",
     "output_type": "stream",
     "text": [
      "['g', 'e', 'e', 'k', 's']\n",
      "['g', 'e', 'k', 's']\n"
     ]
    }
   ],
   "source": [
    "str1='geeks'\n",
    "s=list(str1)\n",
    "print(s)\n",
    "del(s[1])\n",
    "print(s)"
   ]
  },
  {
   "cell_type": "code",
   "execution_count": 68,
   "metadata": {},
   "outputs": [
    {
     "data": {
      "text/plain": [
       "'geks'"
      ]
     },
     "execution_count": 68,
     "metadata": {},
     "output_type": "execute_result"
    }
   ],
   "source": [
    "def removechar(str1,i):\n",
    "    a=str1[:i]\n",
    "    b=str1[i+1:]\n",
    "    return a+b\n",
    "\n",
    "str1='geeks'\n",
    "removechar(str1,1)"
   ]
  },
  {
   "cell_type": "code",
   "execution_count": 78,
   "metadata": {},
   "outputs": [
    {
     "data": {
      "text/plain": [
       "(['Geeks', 'for', 'Geeks'], '/n', 'Geeks-for-Geeks')"
      ]
     },
     "execution_count": 78,
     "metadata": {},
     "output_type": "execute_result"
    }
   ],
   "source": [
    "# 7. Python program to split and join a string\n",
    "\n",
    "'''\n",
    "Split the string into list of strings\n",
    "\n",
    "Input : Geeks for Geeks\n",
    "Output : ['Geeks', 'for', 'Geeks']\n",
    "\n",
    "\n",
    "Join the list of strings into a string based on delimiter ('-')\n",
    "\n",
    "Input :  ['Geeks', 'for', 'Geeks']\n",
    "Output : Geeks-for-Geeks\n",
    "\n",
    "'''\n",
    "\n",
    "def split_join(str1):\n",
    "    \n",
    "    a=str1.split()\n",
    "    b='-'.join(list(a))\n",
    "    return a, '/n', b\n",
    "\n",
    "str1='Geeks for Geeks'\n",
    "\n",
    "split_join(str1)"
   ]
  },
  {
   "cell_type": "code",
   "execution_count": 89,
   "metadata": {},
   "outputs": [
    {
     "data": {
      "text/plain": [
       "(True, ' binary ')"
      ]
     },
     "execution_count": 89,
     "metadata": {},
     "output_type": "execute_result"
    }
   ],
   "source": [
    "# 8. # Python | Check if a given string is binary string or not\n",
    "\n",
    "'''\n",
    "Input: str = \"01010101010\"\n",
    "Output: Yes\n",
    "\n",
    "Input: str = \"geeks101\"\n",
    "Output: No\n",
    "\n",
    "'''\n",
    "\n",
    "def binary_check(str1):\n",
    "    s=set(str1)\n",
    "    a=set('01')\n",
    "    \n",
    "    \n",
    "    for i in str1:\n",
    "        if i in a:\n",
    "            return True, ' binary '\n",
    "        else:\n",
    "            return False, ' not binary'\n",
    "    \n",
    "    \n",
    "    \n",
    "str1 = \"01010101010\"\n",
    "binary_check(str1)           "
   ]
  },
  {
   "cell_type": "code",
   "execution_count": 90,
   "metadata": {},
   "outputs": [
    {
     "data": {
      "text/plain": [
       "(False, ' not binary')"
      ]
     },
     "execution_count": 90,
     "metadata": {},
     "output_type": "execute_result"
    }
   ],
   "source": [
    "str2 = \"geeks101\"\n",
    "binary_check(str2) "
   ]
  },
  {
   "cell_type": "code",
   "execution_count": 91,
   "metadata": {},
   "outputs": [
    {
     "name": "stdout",
     "output_type": "stream",
     "text": [
      "Yes\n"
     ]
    }
   ],
   "source": [
    "def check(string) : \n",
    "  \n",
    "    # set function convert string \n",
    "    # into set of characters . \n",
    "    p = set(string) \n",
    "  \n",
    "    # declare set of '0', '1' . \n",
    "    s = {'0', '1'} \n",
    "  \n",
    "    # check set p is same as set s \n",
    "    # or set p contains only '0' \n",
    "    # or set p contains only '1' \n",
    "    # or not, if any one conditon \n",
    "    # is true then string is accepted \n",
    "    # otherwise not . \n",
    "    if s == p or p == {'0'} or p == {'1'}: \n",
    "        print(\"Yes\") \n",
    "    else : \n",
    "        print(\"No\") \n",
    "  \n",
    "  \n",
    "          \n",
    "# driver code \n",
    "if __name__ == \"__main__\" : \n",
    "  \n",
    "    string = \"101010000111\"\n",
    "  \n",
    "    # function calling \n",
    "    check(string) "
   ]
  },
  {
   "cell_type": "code",
   "execution_count": 100,
   "metadata": {},
   "outputs": [
    {
     "name": "stdout",
     "output_type": "stream",
     "text": [
      "ape\n",
      "apple\n",
      "appleapple\n"
     ]
    }
   ],
   "source": [
    "# 9. Python | Find all close matches of input string from a list\n",
    "\n",
    "'''\n",
    "Input : patterns = ['ape', 'apple', 'peach', 'puppy'], \n",
    "          \n",
    "          input = 'appel'\n",
    "Output : ['apple', 'ape']\n",
    "\n",
    "'''\n",
    "\n",
    "def close_match(s1, s2):\n",
    "    \n",
    "    for i in s1:\n",
    "        if set(i).issubset(set(s2)):\n",
    "            print(i)\n",
    "            \n",
    "s1=['ape', 'apple', 'peach', 'puppy', 'appleapple']\n",
    "s2='appel'\n",
    "\n",
    "close_match(s1,s2)"
   ]
  },
  {
   "cell_type": "code",
   "execution_count": 101,
   "metadata": {},
   "outputs": [
    {
     "name": "stdout",
     "output_type": "stream",
     "text": [
      "['apple', 'ape']\n"
     ]
    }
   ],
   "source": [
    "from difflib import get_close_matches \n",
    "  \n",
    "def closeMatches(patterns, word): \n",
    "     print(get_close_matches(word, patterns)) \n",
    "  \n",
    "\n",
    " # Driver program \n",
    "if __name__ == \"__main__\": \n",
    "    word = 'appel'\n",
    "    patterns = ['ape', 'apple', 'peach', 'puppy', 'appleapple'] \n",
    "    closeMatches(patterns, word)\n"
   ]
  },
  {
   "cell_type": "code",
   "execution_count": 113,
   "metadata": {},
   "outputs": [
    {
     "name": "stdout",
     "output_type": "stream",
     "text": [
      "{'Geeks': 4, 'for': 2, 'Learning': 1, 'from': 1}\n"
     ]
    },
    {
     "data": {
      "text/plain": [
       "['Learning', 'from']"
      ]
     },
     "execution_count": 113,
     "metadata": {},
     "output_type": "execute_result"
    }
   ],
   "source": [
    "# 10. Python program to find uncommon words from two Strings\n",
    "\n",
    "'''\n",
    "\n",
    "Input : A = \"Geeks for Geeks\" \n",
    "        B = \"Learning from Geeks for Geeks\"\n",
    "Output : ['Learning', 'from']\n",
    "\n",
    "'''\n",
    "\n",
    "\n",
    "def uncommon(s1,s2):\n",
    "    count={}\n",
    "    \n",
    "    for i in s1.split():\n",
    "        count[i]=count.get(i,0)+1\n",
    "        \n",
    "    for i in s2.split():\n",
    "        count[i]=count.get(i,0)+1\n",
    "    print(count)\n",
    "    return [word for word in count if count[word] == 1] \n",
    "        \n",
    "\n",
    "s1='Geeks for Geeks'\n",
    "s2='Learning from Geeks for Geeks'\n",
    "uncommon(s1,s2)"
   ]
  },
  {
   "cell_type": "code",
   "execution_count": 109,
   "metadata": {},
   "outputs": [
    {
     "name": "stdout",
     "output_type": "stream",
     "text": [
      "['Learning', 'from']\n"
     ]
    }
   ],
   "source": [
    "def UncommonWords(A, B): \n",
    "  \n",
    "    # count will contain all the word counts \n",
    "    count = {} \n",
    "      \n",
    "    # insert words of string A to hash \n",
    "    for word in A.split(): \n",
    "        count[word] = count.get(word, 0) + 1\n",
    "      \n",
    "    # insert words of string B to hash \n",
    "    for word in B.split(): \n",
    "        count[word] = count.get(word, 0) + 1\n",
    "  \n",
    "    # return required list of words \n",
    "    return [word for word in count if count[word] == 1] \n",
    "  \n",
    "# Driver Code \n",
    "A = \"Geeks for Geeks\"\n",
    "B = \"Learning from Geeks for Geeks\"\n",
    "  \n",
    "# Print required answer \n",
    "print(UncommonWords(A, B)) "
   ]
  },
  {
   "cell_type": "markdown",
   "metadata": {},
   "source": [
    "# 25/11/2019"
   ]
  },
  {
   "cell_type": "code",
   "execution_count": 5,
   "metadata": {},
   "outputs": [
    {
     "data": {
      "text/plain": [
       "'14. 625. 498,002, 62, a, b. c, d.'"
      ]
     },
     "execution_count": 5,
     "metadata": {},
     "output_type": "execute_result"
    }
   ],
   "source": [
    "# 1. Python | Swap commas and dots in a String\n",
    "\n",
    "'''\n",
    "Input : 14, 625, 498.002\n",
    "Output : 14.625.498, 002\n",
    "\n",
    "'''\n",
    "\n",
    "def commadot_swap(string):\n",
    "    \n",
    "    string=string.replace(',', 'temp')\n",
    "    string=string.replace('.', ',')\n",
    "    string=string.replace('temp','.')\n",
    "    return string\n",
    "    \n",
    "    \n",
    "string = \"14, 625, 498.002. 62. a. b, c. d,\"\n",
    "commadot_swap(string)"
   ]
  },
  {
   "cell_type": "code",
   "execution_count": 6,
   "metadata": {},
   "outputs": [
    {
     "data": {
      "text/plain": [
       "'dbc'"
      ]
     },
     "execution_count": 6,
     "metadata": {},
     "output_type": "execute_result"
    }
   ],
   "source": [
    "string='abc'\n",
    "string.replace('a','d')"
   ]
  },
  {
   "cell_type": "code",
   "execution_count": 23,
   "metadata": {},
   "outputs": [
    {
     "name": "stdout",
     "output_type": "stream",
     "text": [
      "abc\n",
      "acb\n",
      "bac\n",
      "bca\n",
      "cab\n",
      "cba\n"
     ]
    }
   ],
   "source": [
    "# 2. Python | Permutation of a given string using inbuilt function\n",
    "\n",
    "'''\n",
    "Input :  str = 'ABC'\n",
    "Output : ABC \n",
    "         ACB \n",
    "         BAC \n",
    "         BCA \n",
    "         CAB \n",
    "         CBA\n",
    "\n",
    "'''\n",
    "from itertools import permutations\n",
    "\n",
    "def string_permuation(string):\n",
    "    s=permutations(string)\n",
    "    \n",
    "    for i in s:\n",
    "        print( ''.join(i))\n",
    "    \n",
    "s='abc'\n",
    "string_permuation(s)"
   ]
  },
  {
   "cell_type": "code",
   "execution_count": 20,
   "metadata": {},
   "outputs": [
    {
     "name": "stdout",
     "output_type": "stream",
     "text": [
      "abcd\n",
      "abdc\n",
      "acbd\n",
      "acdb\n",
      "adbc\n",
      "adcb\n",
      "bacd\n",
      "badc\n",
      "bcad\n",
      "bcda\n",
      "bdac\n",
      "bdca\n",
      "cabd\n",
      "cadb\n",
      "cbad\n",
      "cbda\n",
      "cdab\n",
      "cdba\n",
      "dabc\n",
      "dacb\n",
      "dbac\n",
      "dbca\n",
      "dcab\n",
      "dcba\n"
     ]
    }
   ],
   "source": [
    "from itertools import permutations\n",
    "s='abcd'\n",
    "a=permutations(s)\n",
    "for i in a:\n",
    "    print(''.join(i))"
   ]
  },
  {
   "cell_type": "code",
   "execution_count": 27,
   "metadata": {},
   "outputs": [
    {
     "name": "stdout",
     "output_type": "stream",
     "text": [
      "Urls: ['https://auth', 'http://www']\n"
     ]
    }
   ],
   "source": [
    "# 3. Python | Check for URL in a String\n",
    "\n",
    "'''\n",
    "Input : string = 'I am a blogger at https://geeksforgeeks.org'\n",
    "Output : URL :  ['https://geeksforgeeks.org']\n",
    "'''\n",
    "\n",
    "\n",
    "import re \n",
    "  \n",
    "def Find(string): \n",
    "    # findall() has been used  \n",
    "    # with valid conditions for urls in string \n",
    "    url = re.findall('http[s]?://(?:[a-zA-Z]|[0-9]|[$-_@.&+] |[!*\\(\\), ]|(?:%[0-9a-fA-F][0-9a-fA-F]))+', string) \n",
    "    return url \n",
    "      \n",
    "# Driver Code \n",
    "string = 'My Profile: https://auth.geeksforgeeks.org / user / Chinmoy % 20Lenka / articles in the portal of http://www.geeksforgeeks.org/' \n",
    "print(\"Urls:\", Find(string)) "
   ]
  },
  {
   "cell_type": "code",
   "execution_count": 29,
   "metadata": {},
   "outputs": [
    {
     "name": "stdout",
     "output_type": "stream",
     "text": [
      "Urls: ['https://auth', 'http://www']\n"
     ]
    }
   ],
   "source": [
    "import re\n",
    "\n",
    "def Find(string):\n",
    "    url=re.findall('http[s]?://(?:[a-zA-Z]|[0-9]|[$-_@.&+] |[!*\\(\\), ]|(?:%[0-9a-fA-F][0-9a-fA-F]))+', string)\n",
    "    return url\n",
    "\n",
    "string = 'My Profile: https://auth.geeksforgeeks.org / user / Chinmoy % 20Lenka / articles in the portal of http://www.geeksforgeeks.org/' \n",
    "print(\"Urls:\", Find(string)) "
   ]
  },
  {
   "cell_type": "code",
   "execution_count": 30,
   "metadata": {},
   "outputs": [
    {
     "name": "stdout",
     "output_type": "stream",
     "text": [
      "120\n"
     ]
    }
   ],
   "source": [
    "# 4. Execute a String of Code in Python\n",
    "\n",
    "# function illustrating how exec() functions. \n",
    "def exec_code(): \n",
    "    LOC = \"\"\" \n",
    "def factorial(num): \n",
    "    fact=1 \n",
    "    for i in range(1,num+1): \n",
    "        fact = fact*i \n",
    "    return fact \n",
    "print(factorial(5)) \n",
    "\"\"\"\n",
    "    exec(LOC) \n",
    "      \n",
    "# Driver Code \n",
    "exec_code() "
   ]
  },
  {
   "cell_type": "code",
   "execution_count": 32,
   "metadata": {},
   "outputs": [
    {
     "name": "stdout",
     "output_type": "stream",
     "text": [
      "100\n"
     ]
    }
   ],
   "source": [
    "def execute():\n",
    "    given=\"\"\"\n",
    "    \n",
    "a=100\n",
    "print(a)\n",
    "    \n",
    "    \"\"\"\n",
    "    \n",
    "    exec(given)\n",
    "    \n",
    "execute()"
   ]
  },
  {
   "cell_type": "code",
   "execution_count": 51,
   "metadata": {},
   "outputs": [
    {
     "name": "stdout",
     "output_type": "stream",
     "text": [
      "left: eksforGeeksGe\n",
      "right ksGeeksforGee\n"
     ]
    }
   ],
   "source": [
    "# 5. String slicing in Python to rotate a string\n",
    "\n",
    "'''\n",
    "Input : s = \"GeeksforGeeks\"\n",
    "        d = 2\n",
    "Output : Left Rotation  : \"eksforGeeksGe\" \n",
    "         Right Rotation : \"ksGeeksforGee\"  \n",
    "\n",
    "'''\n",
    "\n",
    "def rotate(string, n):\n",
    "    a=string[:n]\n",
    "    b=string[n:]\n",
    "    leftrotate=b+a\n",
    "    c=string[:-n]\n",
    "    d=string[-n:]\n",
    "    rightrotate=d+c\n",
    "    \n",
    "    print('left:', leftrotate)\n",
    "    print('right', rightrotate)\n",
    "    return\n",
    "    \n",
    "s = \"GeeksforGeeks\"\n",
    "rotate(s,2)"
   ]
  },
  {
   "cell_type": "code",
   "execution_count": 50,
   "metadata": {},
   "outputs": [
    {
     "data": {
      "text/plain": [
       "'abcd'"
      ]
     },
     "execution_count": 50,
     "metadata": {},
     "output_type": "execute_result"
    }
   ],
   "source": [
    "a='abcdef'\n",
    "a[:-2]"
   ]
  },
  {
   "cell_type": "code",
   "execution_count": 56,
   "metadata": {},
   "outputs": [
    {
     "data": {
      "text/plain": [
       "True"
      ]
     },
     "execution_count": 56,
     "metadata": {},
     "output_type": "execute_result"
    }
   ],
   "source": [
    "# 6. String slicing in Python to check if a string can become empty by recursive deletion\n",
    "\n",
    "def checkempty(string, pattern):\n",
    "    \n",
    "    while(len(string)==0):\n",
    "        return False\n",
    "    \n",
    "    while(len(string)!=0):\n",
    "        \n",
    "        index=string.find(pattern)\n",
    "        \n",
    "        if (index==-1):\n",
    "            return False\n",
    "        \n",
    "        string=string[0:index]+string[index+len(pattern):]\n",
    "    return True\n",
    "\n",
    "input ='GEEGEEKSKS'\n",
    "pattern ='GEEKS'\n",
    "checkempty(input, pattern) \n",
    "    "
   ]
  },
  {
   "cell_type": "code",
   "execution_count": 66,
   "metadata": {},
   "outputs": [
    {
     "name": "stdout",
     "output_type": "stream",
     "text": [
      "g\n",
      "e\n",
      "k\n",
      "s\n"
     ]
    }
   ],
   "source": [
    "# 7. Python Counter| Find all duplicate characters in string\n",
    "\n",
    "from collections import Counter\n",
    "def detect_dup(string):\n",
    "    a=Counter(string)\n",
    "    \n",
    "    for k,v in a.items():\n",
    "        if v>1:\n",
    "            print(k)\n",
    "\n",
    "input = 'geeksforgeeks'\n",
    "detect_dup(input)"
   ]
  },
  {
   "cell_type": "code",
   "execution_count": 64,
   "metadata": {},
   "outputs": [
    {
     "name": "stdout",
     "output_type": "stream",
     "text": [
      "('g', 2)\n",
      "('e', 4)\n",
      "('k', 2)\n",
      "('s', 2)\n",
      "('f', 1)\n",
      "('o', 1)\n",
      "('r', 1)\n"
     ]
    }
   ],
   "source": [
    "from collections import Counter\n",
    "input = 'geeksforgeeks'\n",
    "a=Counter(input)\n",
    "\n",
    "for k in a.items():\n",
    "    print(k)"
   ]
  },
  {
   "cell_type": "code",
   "execution_count": 72,
   "metadata": {},
   "outputs": [
    {
     "name": "stdout",
     "output_type": "stream",
     "text": [
      "x\n",
      "y\n",
      "z\n"
     ]
    }
   ],
   "source": [
    "# 8.  Python | Sort Python Dictionaries by Key or Value\n",
    "\n",
    "# sort keys\n",
    "def sortdict_key(d):\n",
    "    for i in sorted(d.keys()):\n",
    "        print(i)\n",
    "        \n",
    "d={'z':1, 'x':2, 'y':3}\n",
    "sortdict_key(d)       \n",
    "        "
   ]
  },
  {
   "cell_type": "code",
   "execution_count": 74,
   "metadata": {},
   "outputs": [
    {
     "name": "stdout",
     "output_type": "stream",
     "text": [
      "1\n",
      "2\n",
      "3\n"
     ]
    }
   ],
   "source": [
    "# 9. # sort dict values\n",
    "\n",
    "def sortdict_values(d):\n",
    "    for i in sorted(d.values()):\n",
    "        print(i)\n",
    "        \n",
    "d={'z':1, 'x':2, 'y':3}\n",
    "sortdict_values(d) "
   ]
  },
  {
   "cell_type": "code",
   "execution_count": 93,
   "metadata": {},
   "outputs": [
    {
     "name": "stdout",
     "output_type": "stream",
     "text": [
      "('x', 5)\n",
      "('y', 3)\n",
      "('z', 1)\n"
     ]
    }
   ],
   "source": [
    "# 10 Sorting the Keys and Values in Alphabetical Order using the Key in dict\n",
    "\n",
    "def sortdict_items(d):\n",
    "    for i in sorted (d) : \n",
    "        print ((i, d[i])) \n",
    "        \n",
    "d={'z':1, 'x':5, 'y':3}\n",
    "sortdict_items(d) "
   ]
  },
  {
   "cell_type": "markdown",
   "metadata": {},
   "source": [
    "# 26/11/2019"
   ]
  },
  {
   "cell_type": "code",
   "execution_count": 11,
   "metadata": {},
   "outputs": [
    {
     "name": "stdout",
     "output_type": "stream",
     "text": [
      "The value associated with 'a' is : None\n"
     ]
    }
   ],
   "source": [
    "# 1. Handling missing keys in Python dictionaries\n",
    "\n",
    "from collections import defaultdict\n",
    "\n",
    "def dict_default(d):\n",
    "    \n",
    "    d=defaultdict(lambda : 'key not found')\n",
    "    d=dict(input)\n",
    "\n",
    "d={'a':1, 'b':2}\n",
    "\n",
    "print (\"The value associated with 'a' is : \",end=\"\") \n",
    "print (dict_default(d)) \n",
    "\n"
   ]
  },
  {
   "cell_type": "code",
   "execution_count": 4,
   "metadata": {},
   "outputs": [
    {
     "data": {
      "text/plain": [
       "{'a': 1, 'b': 2}"
      ]
     },
     "execution_count": 4,
     "metadata": {},
     "output_type": "execute_result"
    }
   ],
   "source": [
    "from collections import defaultdict\n",
    "\n",
    "d=defaultdict(lambda:)\n",
    "\n",
    "d={'a':1, 'b':2}"
   ]
  },
  {
   "cell_type": "code",
   "execution_count": 17,
   "metadata": {},
   "outputs": [
    {
     "name": "stdout",
     "output_type": "stream",
     "text": [
      "enter:'a'=1\n"
     ]
    },
    {
     "ename": "ValueError",
     "evalue": "dictionary update sequence element #0 has length 1; 2 is required",
     "output_type": "error",
     "traceback": [
      "\u001b[1;31m---------------------------------------------------------------------------\u001b[0m",
      "\u001b[1;31mValueError\u001b[0m                                Traceback (most recent call last)",
      "\u001b[1;32m<ipython-input-17-19011e077cfe>\u001b[0m in \u001b[0;36m<module>\u001b[1;34m\u001b[0m\n\u001b[1;32m----> 1\u001b[1;33m \u001b[0md\u001b[0m\u001b[1;33m=\u001b[0m\u001b[0mdict\u001b[0m\u001b[1;33m(\u001b[0m\u001b[0minput\u001b[0m\u001b[1;33m(\u001b[0m\u001b[1;34m'enter:'\u001b[0m\u001b[1;33m)\u001b[0m\u001b[1;33m)\u001b[0m\u001b[1;33m\u001b[0m\u001b[1;33m\u001b[0m\u001b[0m\n\u001b[0m",
      "\u001b[1;31mValueError\u001b[0m: dictionary update sequence element #0 has length 1; 2 is required"
     ]
    }
   ],
   "source": [
    "d=dict(input('enter:'))"
   ]
  },
  {
   "cell_type": "code",
   "execution_count": 19,
   "metadata": {},
   "outputs": [
    {
     "name": "stdout",
     "output_type": "stream",
     "text": [
      "name:'a'\n",
      "score:23\n",
      "{\"'a'\": '23'}\n"
     ]
    }
   ],
   "source": [
    "name = input('name:')\n",
    "\n",
    "score = input('score:')\n",
    "\n",
    "class_list = {}\n",
    "\n",
    "class_list[name] = score\n",
    "\n",
    "print(class_list)"
   ]
  },
  {
   "cell_type": "code",
   "execution_count": 20,
   "metadata": {},
   "outputs": [
    {
     "name": "stdout",
     "output_type": "stream",
     "text": [
      "Enter name & score separated by \":\" 'a': 23\n",
      "Name: 'a', Score: 23\n"
     ]
    }
   ],
   "source": [
    "class_list = dict()\n",
    "data = input('Enter name & score separated by \":\" ')\n",
    "temp = data.split(':')\n",
    "class_list[temp[0]] = int(temp[1])\n",
    " \n",
    "# Displaying the dictionary\n",
    "for key, value in class_list.items():\n",
    "\tprint('Name: {}, Score: {}'.format(key, value))"
   ]
  },
  {
   "cell_type": "code",
   "execution_count": 1,
   "metadata": {},
   "outputs": [
    {
     "name": "stdout",
     "output_type": "stream",
     "text": [
      "The value associated with 'a' is : 1\n",
      "The value associated with 'c' is : Key Not found\n"
     ]
    }
   ],
   "source": [
    "# Python code to demonstrate defaultdict \n",
    "  \n",
    "# importing \"collections\" for defaultdict \n",
    "import collections \n",
    "  \n",
    "# declaring defaultdict \n",
    "# sets default value 'Key Not found' to absent keys \n",
    "defd = collections.defaultdict(lambda : 'Key Not found') \n",
    "  \n",
    "# initializing values  \n",
    "defd['a'] = 1\n",
    "  \n",
    "# initializing values  \n",
    "defd['b'] = 2\n",
    "  \n",
    "# printing value  \n",
    "print (\"The value associated with 'a' is : \",end=\"\") \n",
    "print (defd['a']) \n",
    "  \n",
    "# printing value associated with 'c' \n",
    "print (\"The value associated with 'c' is : \",end=\"\") \n",
    "print (defd['c']) "
   ]
  },
  {
   "cell_type": "code",
   "execution_count": 26,
   "metadata": {},
   "outputs": [
    {
     "data": {
      "text/plain": [
       "' key not found'"
      ]
     },
     "execution_count": 26,
     "metadata": {},
     "output_type": "execute_result"
    }
   ],
   "source": [
    "from collections import defaultdict\n",
    "\n",
    "d=defaultdict(lambda: ' key not found')\n",
    "\n",
    "d['a']=1\n",
    "d['b']=2\n",
    "\n",
    "d['a']\n",
    "d['c']"
   ]
  },
  {
   "cell_type": "code",
   "execution_count": 38,
   "metadata": {},
   "outputs": [
    {
     "data": {
      "text/plain": [
       "88"
      ]
     },
     "execution_count": 38,
     "metadata": {},
     "output_type": "execute_result"
    }
   ],
   "source": [
    "# 2. Python program to find the sum of all items in a dictionary\n",
    "\n",
    "'''\n",
    "Input : {'a': 100, 'b':200, 'c':300}\n",
    "Output : 600\n",
    "\n",
    "'''\n",
    "\n",
    "def dict_sum(abc):\n",
    "    total=0\n",
    "    \n",
    "    for k,v in abc.items():\n",
    "        total+=v\n",
    "    return total\n",
    "\n",
    "abc={'a': 100, 'b':200, 'c':300}\n",
    "dict_sum(abc)\n",
    "\n",
    "\n",
    "d={'x': 25, 'y':18, 'z':45}\n",
    "dict_sum(d)\n"
   ]
  },
  {
   "cell_type": "code",
   "execution_count": 37,
   "metadata": {},
   "outputs": [
    {
     "data": {
      "text/plain": [
       "88"
      ]
     },
     "execution_count": 37,
     "metadata": {},
     "output_type": "execute_result"
    }
   ],
   "source": [
    "def dict_sum(abc):\n",
    "    total=0\n",
    "    \n",
    "    for k in abc:\n",
    "        total+=abc[k]\n",
    "    return total\n",
    "\n",
    "abc={'a': 100, 'b':200, 'c':300}\n",
    "dict_sum(abc)\n",
    "\n",
    "\n",
    "d={'x': 25, 'y':18, 'z':45}\n",
    "dict_sum(d)"
   ]
  },
  {
   "cell_type": "code",
   "execution_count": 48,
   "metadata": {},
   "outputs": [
    {
     "data": {
      "text/plain": [
       "{'Arushi': 22, 'Anuradha': 21, 'Haritha': 21}"
      ]
     },
     "execution_count": 48,
     "metadata": {},
     "output_type": "execute_result"
    }
   ],
   "source": [
    "# 3. Python | Ways to remove a key from dictionary\n",
    "\n",
    "\n",
    "def test_dict(d, key):\n",
    "    \n",
    "    del d[key]\n",
    "    return d\n",
    "\n",
    "test = {\"Arushi\" : 22, \"Anuradha\" : 21, \"Mani\" : 21, \"Haritha\" : 21} \n",
    "\n",
    "test_dict(test, 'Mani')"
   ]
  },
  {
   "cell_type": "code",
   "execution_count": 46,
   "metadata": {},
   "outputs": [
    {
     "data": {
      "text/plain": [
       "{'Arushi': 22, 'Anuradha': 21, 'Haritha': 21}"
      ]
     },
     "execution_count": 46,
     "metadata": {},
     "output_type": "execute_result"
    }
   ],
   "source": [
    "test = {\"Arushi\" : 22, \"Anuradha\" : 21, \"Mani\" : 21, \"Haritha\" : 21} \n",
    "del test['Mani']\n",
    "test"
   ]
  },
  {
   "cell_type": "code",
   "execution_count": 49,
   "metadata": {},
   "outputs": [
    {
     "data": {
      "text/plain": [
       "{'Arushi': 22, 'Anuradha': 21, 'Haritha': 21}"
      ]
     },
     "execution_count": 49,
     "metadata": {},
     "output_type": "execute_result"
    }
   ],
   "source": [
    "test = {\"Arushi\" : 22, \"Anuradha\" : 21, \"Mani\" : 21, \"Haritha\" : 21} \n",
    "test.pop('Mani')\n",
    "test"
   ]
  },
  {
   "cell_type": "code",
   "execution_count": null,
   "metadata": {},
   "outputs": [],
   "source": [
    "# 4. Ways to sort list of dictionaries by values in Python – Using itemgetter\n",
    "\n"
   ]
  },
  {
   "cell_type": "code",
   "execution_count": 51,
   "metadata": {},
   "outputs": [
    {
     "name": "stdout",
     "output_type": "stream",
     "text": [
      "The list printed sorting by age: \n",
      "[{'name': 'Nikhil', 'age': 19}, {'name': 'Nandini', 'age': 20}, {'name': 'Manjeet', 'age': 20}]\n"
     ]
    }
   ],
   "source": [
    "# importing \"operator\" for implementing itemgetter \n",
    "from operator import itemgetter \n",
    "  \n",
    "# Initializing list of dictionaries \n",
    "lis = [{ \"name\" : \"Nandini\", \"age\" : 20},  \n",
    "{ \"name\" : \"Manjeet\", \"age\" : 20 }, \n",
    "{ \"name\" : \"Nikhil\" , \"age\" : 19 }] \n",
    "  \n",
    "# using sorted and itemgetter to print list sorted by age  \n",
    "print (\"The list printed sorting by age: \")\n",
    "print (sorted(lis, key=itemgetter('age')) )"
   ]
  },
  {
   "cell_type": "code",
   "execution_count": 52,
   "metadata": {},
   "outputs": [
    {
     "name": "stdout",
     "output_type": "stream",
     "text": [
      "The list printed sorting by age and name: \n",
      "[{'name': 'Nikhil', 'age': 19}, {'name': 'Manjeet', 'age': 20}, {'name': 'Nandini', 'age': 20}]\n"
     ]
    }
   ],
   "source": [
    "print (\"The list printed sorting by age and name: \")\n",
    "print (sorted(lis, key=itemgetter('age', 'name')) )"
   ]
  },
  {
   "cell_type": "code",
   "execution_count": 57,
   "metadata": {},
   "outputs": [
    {
     "name": "stdout",
     "output_type": "stream",
     "text": [
      "The list printed sorting by age in descending order: \n",
      "[{'name': 'Nandini', 'age': 20}, {'name': 'Manjeet', 'age': 20}, {'name': 'Nikhil', 'age': 19}]\n"
     ]
    }
   ],
   "source": [
    "#using sorted and itemgetter to print list sorted by age in descending order \n",
    "print (\"The list printed sorting by age in descending order: \")\n",
    "print ( sorted(lis, key=itemgetter('age'),reverse = True))\n"
   ]
  },
  {
   "cell_type": "code",
   "execution_count": 58,
   "metadata": {},
   "outputs": [
    {
     "name": "stdout",
     "output_type": "stream",
     "text": [
      "sort by age\n",
      "[{'name': 'nikhil', 'age': 19}, {'name': 'nandini', 'age': 20}, {'name': 'manjeet', 'age': 20}]\n"
     ]
    }
   ],
   "source": [
    "from operator import itemgetter\n",
    "\n",
    "lstdict=[{'name':'nandini', 'age':20},{'name':'manjeet', 'age':20},{'name': 'nikhil', 'age':19}]\n",
    "\n",
    "print('sort by age')\n",
    "print(sorted(lstdict, key=itemgetter('age')))"
   ]
  },
  {
   "cell_type": "code",
   "execution_count": 60,
   "metadata": {},
   "outputs": [
    {
     "name": "stdout",
     "output_type": "stream",
     "text": [
      "sort by age and name\n",
      "[{'name': 'nikhil', 'age': 19}, {'name': 'manjeet', 'age': 20}, {'name': 'nandini', 'age': 20}]\n"
     ]
    }
   ],
   "source": [
    "from operator import itemgetter\n",
    "\n",
    "lstdict=[{'name':'nandini', 'age':20},{'name':'manjeet', 'age':20},{'name': 'nikhil', 'age':19}]\n",
    "\n",
    "print('sort by age and name')\n",
    "print(sorted(lstdict, key=itemgetter('age', 'name')))"
   ]
  },
  {
   "cell_type": "code",
   "execution_count": 62,
   "metadata": {},
   "outputs": [
    {
     "name": "stdout",
     "output_type": "stream",
     "text": [
      "sort by age and name\n",
      "[{'name': 'manjeet', 'age': 20}, {'name': 'nikhil', 'age': 19}, {'name': 'nandini', 'age': 18}]\n"
     ]
    }
   ],
   "source": [
    "from operator import itemgetter\n",
    "\n",
    "lstdict=[{'name':'nandini', 'age':18},{'name':'manjeet', 'age':20},{'name': 'nikhil', 'age':19}]\n",
    "\n",
    "print('sort by age and name')\n",
    "print(sorted(lstdict, key=itemgetter('age'), reverse=True))"
   ]
  },
  {
   "cell_type": "code",
   "execution_count": 65,
   "metadata": {},
   "outputs": [
    {
     "name": "stdout",
     "output_type": "stream",
     "text": [
      "sort by age\n",
      "[{'name': 'nikhil', 'age': 19}, {'name': 'nandini', 'age': 20}, {'name': 'manjeet', 'age': 25}]\n"
     ]
    }
   ],
   "source": [
    "# 5. Ways to sort list of dictionaries by values in Python – Using lambda function\n",
    "\n",
    "lstdict=[{'name':'nandini', 'age':20},{'name':'manjeet', 'age':25},{'name': 'nikhil', 'age':19}]\n",
    "\n",
    "print('sort by age')\n",
    "print(sorted(lstdict, key=lambda i: i['age']))\n"
   ]
  },
  {
   "cell_type": "code",
   "execution_count": 69,
   "metadata": {},
   "outputs": [
    {
     "name": "stdout",
     "output_type": "stream",
     "text": [
      "sort by age and name\n",
      "[{'name': 'nikhil', 'age': 19}, {'name': 'manjeet', 'age': 20}, {'name': 'nandini', 'age': 20}]\n"
     ]
    }
   ],
   "source": [
    "lstdict=[{'name':'nandini', 'age':20},{'name':'manjeet', 'age':20},{'name': 'nikhil', 'age':19}]\n",
    "\n",
    "print('sort by age and name')\n",
    "print(sorted(lstdict, key=lambda i: (i['age'], i['name'])))\n"
   ]
  },
  {
   "cell_type": "code",
   "execution_count": 70,
   "metadata": {},
   "outputs": [
    {
     "name": "stdout",
     "output_type": "stream",
     "text": [
      "sort by age\n",
      "[{'name': 'manjeet', 'age': 25}, {'name': 'nandini', 'age': 20}, {'name': 'nikhil', 'age': 19}]\n"
     ]
    }
   ],
   "source": [
    "lstdict=[{'name':'nandini', 'age':20},{'name':'manjeet', 'age':25},{'name': 'nikhil', 'age':19}]\n",
    "\n",
    "print('sort by age')\n",
    "print(sorted(lstdict, key=lambda i: i['age'], reverse=True))\n"
   ]
  },
  {
   "cell_type": "code",
   "execution_count": 79,
   "metadata": {},
   "outputs": [
    {
     "name": "stdout",
     "output_type": "stream",
     "text": [
      "None\n"
     ]
    },
    {
     "data": {
      "text/plain": [
       "{'d': 6, 'c': 4, 'a': 10, 'b': 8}"
      ]
     },
     "execution_count": 79,
     "metadata": {},
     "output_type": "execute_result"
    }
   ],
   "source": [
    "# 6. Python | Merging two Dictionaries\n",
    "'''\n",
    "dict1 = {'a': 10, 'b': 8} \n",
    "dict2 = {'d': 6, 'c': 4} \n",
    "result = {'c': 4, 'a': 10, 'b': 8, 'd': 6}\n",
    "\n",
    "'''\n",
    "dict1 = {'a': 10, 'b': 8} \n",
    "dict2 = {'d': 6, 'c': 4} \n",
    "\n",
    "def merge_dict(d1,d2):\n",
    "    print (d2.update(d1))\n",
    "\n",
    "merge_dict(dict1, dict2)\n",
    "dict2"
   ]
  },
  {
   "cell_type": "code",
   "execution_count": 78,
   "metadata": {},
   "outputs": [
    {
     "name": "stdout",
     "output_type": "stream",
     "text": [
      "None\n",
      "{'d': 6, 'c': 4, 'a': 10, 'b': 8}\n"
     ]
    }
   ],
   "source": [
    "def Merge(dict1, dict2): \n",
    "    return(dict2.update(dict1)) \n",
    "      \n",
    "# Driver code \n",
    "dict1 = {'a': 10, 'b': 8} \n",
    "dict2 = {'d': 6, 'c': 4} \n",
    "  \n",
    "# This return None \n",
    "print(Merge(dict1, dict2)) \n",
    "  \n",
    "# changes made in dict2 \n",
    "print(dict2) "
   ]
  },
  {
   "cell_type": "code",
   "execution_count": 82,
   "metadata": {},
   "outputs": [],
   "source": [
    "# 7. Program to create grade calculator in Python\n",
    "\n",
    "'''\n",
    "10 % of marks scored from submission of Assignments\n",
    "70 % of marks scored from Test\n",
    "20 % of marks scored in Lab-Works\n",
    "\n",
    "Grade will be calculated according to :\n",
    "\n",
    "1. score >= 90 : \"A\"\n",
    "2. score >= 80 : \"B\"\n",
    "3. score >= 70 : \"C\"\n",
    "4. score >= 60 : \"D\"\n",
    "\n",
    "'''\n",
    "\n",
    "def grade_calc(assgn, test,Labwork):\n",
    "    \n",
    "    test_score=((0.1*assgn)+(0.7*test)+(0.2*Labwork))\n",
    "    n=0\n",
    "    \n",
    "    while n<4:\n",
    "        if test_score>=90:\n",
    "            return 'A'\n",
    "        elif test_score>=80:\n",
    "            return 'B'\n",
    "        elif test_score>=70:\n",
    "            return 'c'\n",
    "        elif test_score>=60:\n",
    "            return 'D'\n",
    "        else:\n",
    "            return 'F'"
   ]
  },
  {
   "cell_type": "code",
   "execution_count": 85,
   "metadata": {},
   "outputs": [
    {
     "name": "stdout",
     "output_type": "stream",
     "text": [
      "Jack Frost\n",
      "=+=+=+=+=+=+=+=+=+=+=+=+=+=+=+=+=+=+=+=\n",
      "Average marks of Jack Frost is : 72.79 \n",
      "Letter Grade of Jack Frost is : C\n",
      "\n",
      "James Potter\n",
      "=+=+=+=+=+=+=+=+=+=+=+=+=+=+=+=+=+=+=+=\n",
      "Average marks of James Potter is : 75.962 \n",
      "Letter Grade of James Potter is : C\n",
      "\n",
      "Dylan Rhodes\n",
      "=+=+=+=+=+=+=+=+=+=+=+=+=+=+=+=+=+=+=+=\n",
      "Average marks of Dylan Rhodes is : 75.775 \n",
      "Letter Grade of Dylan Rhodes is : C\n",
      "\n",
      "Jessica Stone\n",
      "=+=+=+=+=+=+=+=+=+=+=+=+=+=+=+=+=+=+=+=\n",
      "Average marks of Jessica Stone is : 48.356 \n",
      "Letter Grade of Jessica Stone is : E\n",
      "\n",
      "Tom Hanks\n",
      "=+=+=+=+=+=+=+=+=+=+=+=+=+=+=+=+=+=+=+=\n",
      "Average marks of Tom Hanks is : 57.26 \n",
      "Letter Grade of Tom Hanks is : E\n",
      "\n",
      "Class Average is 72.79\n",
      "Letter Grade of the class is C \n"
     ]
    }
   ],
   "source": [
    "# 1. Jack's dictionary \n",
    "jack = { \"name\":\"Jack Frost\", \n",
    "         \"assignment\" : [80, 50, 40, 20], \n",
    "         \"test\" : [75, 75], \n",
    "         \"lab\" : [78.20, 77.20] \n",
    "       } \n",
    "         \n",
    "# 2. James's dictionary \n",
    "james = { \"name\":\"James Potter\", \n",
    "          \"assignment\" : [82, 56, 44, 30], \n",
    "          \"test\" : [80, 80], \n",
    "          \"lab\" : [67.90, 78.72] \n",
    "        } \n",
    "  \n",
    "# 3. Dylan's dictionary \n",
    "dylan = { \"name\" : \"Dylan Rhodes\", \n",
    "          \"assignment\" : [77, 82, 23, 39], \n",
    "          \"test\" : [78, 77], \n",
    "          \"lab\" : [80, 80] \n",
    "        } \n",
    "          \n",
    "# 4. Jessica's dictionary \n",
    "jess = { \"name\" : \"Jessica Stone\", \n",
    "         \"assignment\" : [67, 55, 77, 21], \n",
    "         \"test\" : [40, 50], \n",
    "         \"lab\" : [69, 44.56] \n",
    "       } \n",
    "         \n",
    "# 5. Tom's dictionary \n",
    "tom = { \"name\" : \"Tom Hanks\", \n",
    "        \"assignment\" : [29, 89, 60, 56], \n",
    "        \"test\" : [65, 56], \n",
    "        \"lab\" : [50, 40.6] \n",
    "      } \n",
    "  \n",
    "# Function calculates average  \n",
    "def get_average(marks): \n",
    "    total_sum = sum(marks) \n",
    "    total_sum = float(total_sum) \n",
    "    return total_sum / len(marks) \n",
    "  \n",
    "# Function calculates total average \n",
    "def calculate_total_average(students): \n",
    "    assignment = get_average(students[\"assignment\"]) \n",
    "    test = get_average(students[\"test\"]) \n",
    "    lab = get_average(students[\"lab\"]) \n",
    "  \n",
    "    # Return the result based \n",
    "    # on weightage supplied \n",
    "    # 10 % from assignments \n",
    "    # 70 % from test \n",
    "    # 20 % from lab-works \n",
    "    return (0.1 * assignment +\n",
    "            0.7 * test + 0.2 * lab) \n",
    "  \n",
    "  \n",
    " # Calculate letter grade of each student \n",
    "def assign_letter_grade(score): \n",
    "    if score >= 90: return \"A\"\n",
    "    elif score >= 80: return \"B\"\n",
    "    elif score >= 70: return \"C\"\n",
    "    elif score >= 60: return \"D\"\n",
    "    else : return \"E\"\n",
    "  \n",
    " # Function to calculate the total \n",
    "# average marks of the whole class \n",
    "def class_average_is(student_list): \n",
    "    result_list = [] \n",
    "  \n",
    "    for student in student_list: \n",
    "        stud_avg = calculate_total_average(student) \n",
    "        result_list.append(stud_avg) \n",
    "        return get_average(result_list) \n",
    "  \n",
    " # Student list consisting the \n",
    "# dictionary of all students \n",
    "students = [jack, james, dylan, jess, tom] \n",
    "  \n",
    "# Iterate through the students list \n",
    "# and calculate their respective \n",
    "# average marks and letter grade \n",
    "for i in students : \n",
    "    print(i[\"name\"]) \n",
    "    print(\"=+=+=+=+=+=+=+=+=+=+=+=+=+=+=+=+=+=+=+=\") \n",
    "    print(\"Average marks of %s is : %s \" %(i[\"name\"], \n",
    "                         calculate_total_average(i))) \n",
    "                           \n",
    "    print(\"Letter Grade of %s is : %s\" %(i[\"name\"], \n",
    "    assign_letter_grade(calculate_total_average(i)))) \n",
    "      \n",
    "    print() \n",
    "  \n",
    "  \n",
    "# Calculate the average of whole class \n",
    "class_av = class_average_is(students) \n",
    "  \n",
    "print( \"Class Average is %s\" %(class_av)) \n",
    "print(\"Letter Grade of the class is %s \" \n",
    "        %(assign_letter_grade(class_av))) "
   ]
  },
  {
   "cell_type": "code",
   "execution_count": 90,
   "metadata": {},
   "outputs": [
    {
     "data": {
      "text/plain": [
       "True"
      ]
     },
     "execution_count": 90,
     "metadata": {},
     "output_type": "execute_result"
    }
   ],
   "source": [
    "# 8. Python | Check order of character in string using OrderedDict()\n",
    "\n",
    "'''\n",
    "string = \"engineers rock\"\n",
    "pattern = \"er\";\n",
    "Output: true\n",
    "\n",
    "'''\n",
    "\n",
    "def check_order(str1, pat):\n",
    "    \n",
    "    if(str1.find(pat)==-1):\n",
    "        return False\n",
    "    else:\n",
    "        return True\n",
    "\n",
    "string = \"engineers rock\"\n",
    "pattern = \"ck\"  \n",
    "check_order(string, pattern)"
   ]
  },
  {
   "cell_type": "code",
   "execution_count": 93,
   "metadata": {},
   "outputs": [
    {
     "name": "stdout",
     "output_type": "stream",
     "text": [
      "e\n",
      "n\n",
      "g\n",
      "i\n",
      "r\n",
      "s\n",
      " \n",
      "o\n",
      "c\n",
      "k\n"
     ]
    }
   ],
   "source": [
    "string = \"engineers rock\"\n",
    "from collections import OrderedDict\n",
    "a=OrderedDict.fromkeys(string)\n",
    "for i in a:\n",
    "    print (i)"
   ]
  },
  {
   "cell_type": "code",
   "execution_count": 96,
   "metadata": {},
   "outputs": [
    {
     "name": "stdout",
     "output_type": "stream",
     "text": [
      "true\n"
     ]
    }
   ],
   "source": [
    "from collections import OrderedDict \n",
    "  \n",
    "def checkOrder(input, pattern): \n",
    "      \n",
    "    # create empty OrderedDict \n",
    "    # output will be like {'a': None,'b': None, 'c': None} \n",
    "    dict = OrderedDict.fromkeys(input) \n",
    "  \n",
    "    # traverse generated OrderedDict parallel with \n",
    "    # pattern string to check if order of characters  \n",
    "    # are same or not \n",
    "    ptrlen = 0 \n",
    "    for key,value in dict.items(): \n",
    "        if (key == pattern[ptrlen]): \n",
    "            ptrlen = ptrlen + 1\n",
    "          \n",
    "        # check if we have traverse complete  \n",
    "        # pattern string \n",
    "        if (ptrlen == (len(pattern))): \n",
    "            return 'true'\n",
    "  \n",
    "    # if we come out from for loop that means  \n",
    "    # order was mismatched \n",
    "    return 'false'\n",
    "   \n",
    "# Driver program \n",
    "input = 'engineers rock' \n",
    "pattern = 'egr'\n",
    "print (checkOrder(input,pattern) )"
   ]
  },
  {
   "cell_type": "code",
   "execution_count": 100,
   "metadata": {},
   "outputs": [
    {
     "ename": "TypeError",
     "evalue": "'dict' object is not callable",
     "output_type": "error",
     "traceback": [
      "\u001b[1;31m---------------------------------------------------------------------------\u001b[0m",
      "\u001b[1;31mTypeError\u001b[0m                                 Traceback (most recent call last)",
      "\u001b[1;32m<ipython-input-100-f4470ae9f970>\u001b[0m in \u001b[0;36m<module>\u001b[1;34m\u001b[0m\n\u001b[0;32m     21\u001b[0m \u001b[0mar2\u001b[0m \u001b[1;33m=\u001b[0m \u001b[1;33m[\u001b[0m\u001b[1;36m6\u001b[0m\u001b[1;33m,\u001b[0m \u001b[1;36m7\u001b[0m\u001b[1;33m,\u001b[0m \u001b[1;36m20\u001b[0m\u001b[1;33m,\u001b[0m \u001b[1;36m80\u001b[0m\u001b[1;33m,\u001b[0m \u001b[1;36m100\u001b[0m\u001b[1;33m]\u001b[0m\u001b[1;33m\u001b[0m\u001b[1;33m\u001b[0m\u001b[0m\n\u001b[0;32m     22\u001b[0m \u001b[0mar3\u001b[0m \u001b[1;33m=\u001b[0m \u001b[1;33m[\u001b[0m\u001b[1;36m3\u001b[0m\u001b[1;33m,\u001b[0m \u001b[1;36m4\u001b[0m\u001b[1;33m,\u001b[0m \u001b[1;36m15\u001b[0m\u001b[1;33m,\u001b[0m \u001b[1;36m20\u001b[0m\u001b[1;33m,\u001b[0m \u001b[1;36m30\u001b[0m\u001b[1;33m,\u001b[0m \u001b[1;36m70\u001b[0m\u001b[1;33m,\u001b[0m \u001b[1;36m80\u001b[0m\u001b[1;33m,\u001b[0m \u001b[1;36m120\u001b[0m\u001b[1;33m]\u001b[0m\u001b[1;33m\u001b[0m\u001b[1;33m\u001b[0m\u001b[0m\n\u001b[1;32m---> 23\u001b[1;33m \u001b[0mcommon_element\u001b[0m\u001b[1;33m(\u001b[0m\u001b[0mar1\u001b[0m\u001b[1;33m,\u001b[0m\u001b[0mar2\u001b[0m\u001b[1;33m,\u001b[0m\u001b[0mar3\u001b[0m\u001b[1;33m)\u001b[0m\u001b[1;33m\u001b[0m\u001b[1;33m\u001b[0m\u001b[0m\n\u001b[0m",
      "\u001b[1;32m<ipython-input-100-f4470ae9f970>\u001b[0m in \u001b[0;36mcommon_element\u001b[1;34m(a1, a2, a3)\u001b[0m\n\u001b[0;32m      9\u001b[0m     \u001b[0md3\u001b[0m\u001b[1;33m=\u001b[0m\u001b[0mCounter\u001b[0m\u001b[1;33m(\u001b[0m\u001b[0ma3\u001b[0m\u001b[1;33m)\u001b[0m\u001b[1;33m\u001b[0m\u001b[1;33m\u001b[0m\u001b[0m\n\u001b[0;32m     10\u001b[0m \u001b[1;33m\u001b[0m\u001b[0m\n\u001b[1;32m---> 11\u001b[1;33m     \u001b[0mresult\u001b[0m\u001b[1;33m=\u001b[0m\u001b[0mdict\u001b[0m\u001b[1;33m(\u001b[0m\u001b[0md1\u001b[0m\u001b[1;33m.\u001b[0m\u001b[0mitems\u001b[0m\u001b[1;33m(\u001b[0m\u001b[1;33m)\u001b[0m \u001b[1;33m&\u001b[0m \u001b[0md2\u001b[0m\u001b[1;33m.\u001b[0m\u001b[0mitems\u001b[0m\u001b[1;33m(\u001b[0m\u001b[1;33m)\u001b[0m \u001b[1;33m&\u001b[0m \u001b[0md3\u001b[0m\u001b[1;33m.\u001b[0m\u001b[0mitems\u001b[0m\u001b[1;33m(\u001b[0m\u001b[1;33m)\u001b[0m\u001b[1;33m)\u001b[0m\u001b[1;33m\u001b[0m\u001b[1;33m\u001b[0m\u001b[0m\n\u001b[0m\u001b[0;32m     12\u001b[0m \u001b[1;33m\u001b[0m\u001b[0m\n\u001b[0;32m     13\u001b[0m     \u001b[0mcommon\u001b[0m\u001b[1;33m=\u001b[0m\u001b[1;33m[\u001b[0m\u001b[1;33m]\u001b[0m\u001b[1;33m\u001b[0m\u001b[1;33m\u001b[0m\u001b[0m\n",
      "\u001b[1;31mTypeError\u001b[0m: 'dict' object is not callable"
     ]
    }
   ],
   "source": [
    "# 9. Python | Find common elements in three sorted arrays by dictionary intersection\n",
    "\n",
    "from collections import Counter \n",
    "\n",
    "def common_element(a1,a2,a3):\n",
    "    \n",
    "    d1=Counter(a1)\n",
    "    d2=Counter(a2)\n",
    "    d3=Counter(a3)\n",
    "    \n",
    "    result=dict(d1.items() & d2.items() & d3.items())\n",
    "    \n",
    "    common=[]\n",
    "    \n",
    "    for k,v in result.items():\n",
    "        common.append(k)\n",
    "        return common\n",
    "    \n",
    "    \n",
    "ar1 = [1, 5, 10, 20, 40, 80] \n",
    "ar2 = [6, 7, 20, 80, 100] \n",
    "ar3 = [3, 4, 15, 20, 30, 70, 80, 120] \n",
    "common_element(ar1,ar2,ar3) "
   ]
  },
  {
   "cell_type": "code",
   "execution_count": 103,
   "metadata": {},
   "outputs": [
    {
     "ename": "TypeError",
     "evalue": "'dict' object is not callable",
     "output_type": "error",
     "traceback": [
      "\u001b[1;31m---------------------------------------------------------------------------\u001b[0m",
      "\u001b[1;31mTypeError\u001b[0m                                 Traceback (most recent call last)",
      "\u001b[1;32m<ipython-input-103-e822b0e9d3be>\u001b[0m in \u001b[0;36m<module>\u001b[1;34m\u001b[0m\n\u001b[0;32m     22\u001b[0m \u001b[0mar2\u001b[0m \u001b[1;33m=\u001b[0m \u001b[1;33m[\u001b[0m\u001b[1;36m6\u001b[0m\u001b[1;33m,\u001b[0m \u001b[1;36m7\u001b[0m\u001b[1;33m,\u001b[0m \u001b[1;36m20\u001b[0m\u001b[1;33m,\u001b[0m \u001b[1;36m80\u001b[0m\u001b[1;33m,\u001b[0m \u001b[1;36m100\u001b[0m\u001b[1;33m]\u001b[0m\u001b[1;33m\u001b[0m\u001b[1;33m\u001b[0m\u001b[0m\n\u001b[0;32m     23\u001b[0m \u001b[0mar3\u001b[0m \u001b[1;33m=\u001b[0m \u001b[1;33m[\u001b[0m\u001b[1;36m3\u001b[0m\u001b[1;33m,\u001b[0m \u001b[1;36m4\u001b[0m\u001b[1;33m,\u001b[0m \u001b[1;36m15\u001b[0m\u001b[1;33m,\u001b[0m \u001b[1;36m20\u001b[0m\u001b[1;33m,\u001b[0m \u001b[1;36m30\u001b[0m\u001b[1;33m,\u001b[0m \u001b[1;36m70\u001b[0m\u001b[1;33m,\u001b[0m \u001b[1;36m80\u001b[0m\u001b[1;33m,\u001b[0m \u001b[1;36m120\u001b[0m\u001b[1;33m]\u001b[0m\u001b[1;33m\u001b[0m\u001b[1;33m\u001b[0m\u001b[0m\n\u001b[1;32m---> 24\u001b[1;33m \u001b[0mcommonElement\u001b[0m\u001b[1;33m(\u001b[0m\u001b[0mar1\u001b[0m\u001b[1;33m,\u001b[0m\u001b[0mar2\u001b[0m\u001b[1;33m,\u001b[0m\u001b[0mar3\u001b[0m\u001b[1;33m)\u001b[0m\u001b[1;33m\u001b[0m\u001b[1;33m\u001b[0m\u001b[0m\n\u001b[0m",
      "\u001b[1;32m<ipython-input-103-e822b0e9d3be>\u001b[0m in \u001b[0;36mcommonElement\u001b[1;34m(ar1, ar2, ar3)\u001b[0m\n\u001b[0;32m      8\u001b[0m \u001b[1;33m\u001b[0m\u001b[0m\n\u001b[0;32m      9\u001b[0m      \u001b[1;31m# perform intersection operation\u001b[0m\u001b[1;33m\u001b[0m\u001b[1;33m\u001b[0m\u001b[1;33m\u001b[0m\u001b[0m\n\u001b[1;32m---> 10\u001b[1;33m     \u001b[0mresultDict\u001b[0m \u001b[1;33m=\u001b[0m \u001b[0mdict\u001b[0m\u001b[1;33m(\u001b[0m\u001b[0mar1\u001b[0m\u001b[1;33m.\u001b[0m\u001b[0mitems\u001b[0m\u001b[1;33m(\u001b[0m\u001b[1;33m)\u001b[0m \u001b[1;33m&\u001b[0m \u001b[0mar2\u001b[0m\u001b[1;33m.\u001b[0m\u001b[0mitems\u001b[0m\u001b[1;33m(\u001b[0m\u001b[1;33m)\u001b[0m \u001b[1;33m&\u001b[0m \u001b[0mar3\u001b[0m\u001b[1;33m.\u001b[0m\u001b[0mitems\u001b[0m\u001b[1;33m(\u001b[0m\u001b[1;33m)\u001b[0m\u001b[1;33m)\u001b[0m\u001b[1;33m\u001b[0m\u001b[1;33m\u001b[0m\u001b[0m\n\u001b[0m\u001b[0;32m     11\u001b[0m     \u001b[0mcommon\u001b[0m \u001b[1;33m=\u001b[0m \u001b[1;33m[\u001b[0m\u001b[1;33m]\u001b[0m\u001b[1;33m\u001b[0m\u001b[1;33m\u001b[0m\u001b[0m\n\u001b[0;32m     12\u001b[0m \u001b[1;33m\u001b[0m\u001b[0m\n",
      "\u001b[1;31mTypeError\u001b[0m: 'dict' object is not callable"
     ]
    }
   ],
   "source": [
    "from collections import Counter \n",
    "  \n",
    "def commonElement(ar1,ar2,ar3): \n",
    "     # first convert lists into dictionary \n",
    "    ar1 = Counter(ar1) \n",
    "    ar2 = Counter(ar2) \n",
    "    ar3 = Counter(ar3) \n",
    "     \n",
    "     # perform intersection operation \n",
    "    resultDict = dict(ar1.items() & ar2.items() & ar3.items()) \n",
    "    common = [] \n",
    "      \n",
    "     # iterate through resultant dictionary \n",
    "     # and collect common elements \n",
    "    for (key,val) in resultDict.items(): \n",
    "        for i in range(0,val): \n",
    "            common.append(key) \n",
    "  \n",
    "    print(common) \n",
    "    \n",
    "ar1 = [1, 5, 10, 20, 40, 80] \n",
    "ar2 = [6, 7, 20, 80, 100] \n",
    "ar3 = [3, 4, 15, 20, 30, 70, 80, 120] \n",
    "commonElement(ar1,ar2,ar3) "
   ]
  },
  {
   "cell_type": "markdown",
   "metadata": {},
   "source": [
    "# 27/11/2019"
   ]
  },
  {
   "cell_type": "code",
   "execution_count": 2,
   "metadata": {},
   "outputs": [
    {
     "ename": "SyntaxError",
     "evalue": "invalid syntax (<ipython-input-2-2b924fecddd2>, line 26)",
     "output_type": "error",
     "traceback": [
      "\u001b[1;36m  File \u001b[1;32m\"<ipython-input-2-2b924fecddd2>\"\u001b[1;36m, line \u001b[1;32m26\u001b[0m\n\u001b[1;33m    maxvote=sorted(dict.keys(), reverse=True)[0]\u001b[0m\n\u001b[1;37m          ^\u001b[0m\n\u001b[1;31mSyntaxError\u001b[0m\u001b[1;31m:\u001b[0m invalid syntax\n"
     ]
    }
   ],
   "source": [
    "# 1. Dictionary and counter in Python to find winner of election\n",
    "\n",
    "'''\n",
    "Input :  votes[] = {\"john\", \"johnny\", \"jackie\", \n",
    "                    \"johnny\", \"john\", \"jackie\", \n",
    "                    \"jamie\", \"jamie\", \"john\",\n",
    "                    \"johnny\", \"jamie\", \"johnny\", \n",
    "                    \"john\"};\n",
    "Output : John\n",
    "\n",
    "'''\n",
    "\n",
    "from collections import Counter\n",
    "\n",
    "def winner(input):\n",
    "    votes=Counter(input)\n",
    "    \n",
    "    dict={}\n",
    "    \n",
    "    for v in votes.values():\n",
    "        dict[value]=[]\n",
    "        \n",
    "    for (k,v) in votes.iteritems():\n",
    "        dict[value].append(key\n",
    "                           \n",
    "    maxvote=sorted(dict.keys(), reverse=True)[0]\n",
    "    #maxVote = sorted(dict.keys(),reverse=True)[0]\n",
    "                           \n",
    "    if len(dict(maxvote)>1):\n",
    "        print(sorted(dict[maxvote]))[0]\n",
    "    else:\n",
    "        print(dict[maxvote])[0]\n",
    "                           "
   ]
  },
  {
   "cell_type": "code",
   "execution_count": 7,
   "metadata": {},
   "outputs": [
    {
     "ename": "IndentationError",
     "evalue": "unindent does not match any outer indentation level (<tokenize>, line 26)",
     "output_type": "error",
     "traceback": [
      "\u001b[1;36m  File \u001b[1;32m\"<tokenize>\"\u001b[1;36m, line \u001b[1;32m26\u001b[0m\n\u001b[1;33m    maxVote = sorted(dict.keys(),reverse=True)[0]\u001b[0m\n\u001b[1;37m    ^\u001b[0m\n\u001b[1;31mIndentationError\u001b[0m\u001b[1;31m:\u001b[0m unindent does not match any outer indentation level\n"
     ]
    }
   ],
   "source": [
    "from collections import Counter \n",
    "  \n",
    "def winner(input): \n",
    "  \n",
    "     # convert list of candidates into dictionary \n",
    "     # output will be likes candidates = {'A':2, 'B':4} \n",
    "     votes = Counter(input) \n",
    "       \n",
    "     # create another dictionary and it's key will \n",
    "     # be count of votes values will be name of  \n",
    "     # candidates \n",
    "     dict = {} \n",
    "  \n",
    "     for value in votes.values(): \n",
    "  \n",
    "          # initialize empty list to each key to  \n",
    "          # insert candidate names having same  \n",
    "          # number of votes  \n",
    "        dict[value] = [] \n",
    "  \n",
    "     for (key,value) in votes.iteritems(): \n",
    "        dict[value].append(key) \n",
    "  \n",
    "     # sort keys in descending order to get maximum  \n",
    "     # value of votes \n",
    "    maxVote = sorted(dict.keys(),reverse=True)[0] \n",
    "  \n",
    "     # check if more than 1 candidates have same  \n",
    "     # number of votes. If yes, then sort the list \n",
    "     # first and print first element \n",
    "    if len(dict[maxVote])>1: \n",
    "        print sorted(dict[maxVote])[0] \n",
    "    else: \n",
    "        print dict[maxVote][0] \n",
    "  \n",
    " # Driver program \n",
    "if __name__ == \"__main__\": \n",
    "    input =['john','johnny','jackie','johnny','john','jackie','jamie','jamie', \n",
    "'john','johnny','jamie','johnny','john'] \n",
    "    winner(input) "
   ]
  },
  {
   "cell_type": "code",
   "execution_count": null,
   "metadata": {},
   "outputs": [],
   "source": [
    "# 2. Print anagrams together in Python using List and Dictionary\n",
    "'''\n",
    "Input : arr = ['cat', 'dog', 'tac', 'god', 'act']\n",
    "Output : 'cat tac act dog god'\n",
    "\n",
    "'''"
   ]
  },
  {
   "cell_type": "code",
   "execution_count": 10,
   "metadata": {},
   "outputs": [
    {
     "data": {
      "text/plain": [
       "'r'"
      ]
     },
     "execution_count": 10,
     "metadata": {},
     "output_type": "execute_result"
    }
   ],
   "source": [
    "# 3. K’th Non-repeating Character in Python using List Comprehension and OrderedDict\n",
    "\n",
    "'''\n",
    "Input : str = geeksforgeeks, k = 3\n",
    "Output : r\n",
    "First non-repeating character is f,\n",
    "second is o and third is r.\n",
    "\n",
    "'''\n",
    "from collections import Counter\n",
    "def non_rep(string):\n",
    "    \n",
    "    dic=Counter(string)\n",
    "    l=[]\n",
    "    for k,v in dic.items():\n",
    "        if dic[k]==1:\n",
    "            l.append(k)\n",
    "    return l[2]\n",
    "            \n",
    "string = 'geeksforgeeks'            \n",
    "non_rep(string)"
   ]
  },
  {
   "cell_type": "code",
   "execution_count": 15,
   "metadata": {},
   "outputs": [
    {
     "data": {
      "text/plain": [
       "Counter({'g': 0, 'e': 0, 'k': 0, 's': 0, 'f': 0, 'o': 0, 'r': 0})"
      ]
     },
     "execution_count": 15,
     "metadata": {},
     "output_type": "execute_result"
    }
   ],
   "source": [
    "string = 'geeksforgeeks' \n",
    "from collections import OrderedDict \n",
    "dict1=OrderedDict.fromkeys(string,0)"
   ]
  },
  {
   "cell_type": "code",
   "execution_count": 27,
   "metadata": {},
   "outputs": [
    {
     "name": "stdout",
     "output_type": "stream",
     "text": [
      "Counter({'0': 4, 'b': 1, '1': 1}) Counter({'0': 3, 'b': 1, '1': 1})\n"
     ]
    },
    {
     "data": {
      "text/plain": [
       "True"
      ]
     },
     "execution_count": 27,
     "metadata": {},
     "output_type": "execute_result"
    }
   ],
   "source": [
    "# 4. Python Dictionary | Check if binary representations of two numbers are anagram\n",
    "\n",
    "'''\n",
    "Input : a = 8, b = 4 \n",
    "Output : Yes\n",
    "Binary representations of both\n",
    "numbers have same 0s and 1s.\n",
    "\n",
    "'''\n",
    "\n",
    "def check_bin_anagram(a,b):\n",
    "    a1=Counter(bin(a))\n",
    "    b1=Counter(bin(b))\n",
    "    \n",
    "    if len(a1)==len(b1):\n",
    "        for k,v in a1.items():\n",
    "            if a1[k]==b1[k]:\n",
    "                print (a1, b1)\n",
    "                return True\n",
    "    else:\n",
    "        return False\n",
    "    \n",
    "    \n",
    "a=8\n",
    "b=4\n",
    "\n",
    "check_bin_anagram(a,b)"
   ]
  },
  {
   "cell_type": "code",
   "execution_count": 39,
   "metadata": {},
   "outputs": [
    {
     "name": "stdout",
     "output_type": "stream",
     "text": [
      "a1 Counter({'0': 4, 'b': 1, '1': 1})\n",
      "b1 b1\n",
      "a1, b1[k]: 0 0\n",
      "a, b1[v] 4 3 \n",
      "\n",
      "a1, b1[k]: 0 b\n",
      "a, b1[v] 4 1 \n",
      "\n",
      "a1, b1[k]: 0 1\n",
      "a, b1[v] 4 1 \n",
      "\n",
      "a1, b1[k]: b 0\n",
      "a, b1[v] 1 3 \n",
      "\n",
      "a1, b1[k]: b b\n",
      "a, b1[v] 1 1 \n",
      "\n",
      "a1, b1[k]: b 1\n",
      "a, b1[v] 1 1 \n",
      "\n",
      "a1, b1[k]: 1 0\n",
      "a, b1[v] 1 3 \n",
      "\n",
      "a1, b1[k]: 1 b\n",
      "a, b1[v] 1 1 \n",
      "\n",
      "a1, b1[k]: 1 1\n",
      "a, b1[v] 1 1 \n",
      "\n"
     ]
    }
   ],
   "source": [
    "a=8\n",
    "b=4\n",
    "\n",
    "a1=Counter(bin(a))\n",
    "print('a1', a1)\n",
    "b1=Counter(bin(b))\n",
    "print('b1','b1')\n",
    "    \n",
    "if len(a1)==len(b1):\n",
    "    for k,v in a1.items():\n",
    "        for k1,v1 in b1.items():\n",
    "            print('a1, b1[k]:', k, k1 )\n",
    "            print('a, b1[v]', v,v1, '\\n')\n",
    "        "
   ]
  },
  {
   "cell_type": "code",
   "execution_count": null,
   "metadata": {},
   "outputs": [],
   "source": [
    "# 5.\n",
    "if :\n",
    "            print('yes')\n",
    "        else:\n",
    "            print('no')"
   ]
  },
  {
   "cell_type": "markdown",
   "metadata": {},
   "source": [
    "# 28/11/2019"
   ]
  },
  {
   "cell_type": "code",
   "execution_count": 7,
   "metadata": {},
   "outputs": [
    {
     "name": "stdout",
     "output_type": "stream",
     "text": [
      "3\n"
     ]
    }
   ],
   "source": [
    "# 1. Python Counter to find the size of largest subset of anagram words\n",
    "\n",
    "from collections import Counter\n",
    "\n",
    "def maxanagram(str1):\n",
    "    \n",
    "    str1=str1.split(\" \")\n",
    "    \n",
    "    for i in range(0, len(str1)):\n",
    "        str1[i]=''.join(sorted(str1[i]))\n",
    "        \n",
    "        \n",
    "    freqdict=Counter(str1)\n",
    "    \n",
    "    print(max(freqdict. values()))\n",
    "    \n",
    "input = 'ant magenta magnate tan gnamate'\n",
    "maxanagram(input)"
   ]
  },
  {
   "cell_type": "code",
   "execution_count": 9,
   "metadata": {},
   "outputs": [
    {
     "data": {
      "text/plain": [
       "dict_values([1, 1])"
      ]
     },
     "execution_count": 9,
     "metadata": {},
     "output_type": "execute_result"
    }
   ],
   "source": [
    "str1='abcd hijk'\n",
    "str1=str1.split()\n",
    "for i in range(0, len(str1)):\n",
    "    str1[i]=''.join(sorted(str1[i]))\n",
    "    \n",
    "freqdict=Counter(str1)\n",
    "freqdict. values()\n"
   ]
  },
  {
   "cell_type": "code",
   "execution_count": 20,
   "metadata": {},
   "outputs": [
    {
     "name": "stdout",
     "output_type": "stream",
     "text": [
      "Python is great and Java also\n"
     ]
    }
   ],
   "source": [
    "# 2. Python | Remove all duplicates words from a given sentence\n",
    "'''\n",
    "Input : Geeks for Geeks\n",
    "Output : Geeks for\n",
    "\n",
    "'''\n",
    "from collections import Counter\n",
    "\n",
    "def rem_dup(str1):\n",
    "    \n",
    "    str1=str1.split()\n",
    "    \n",
    "    for i in range(0, len(str1)):\n",
    "        str1[i]=''.join(str1[i])\n",
    "    \n",
    "    a=Counter(str1)\n",
    "    \n",
    "    print(' '.join(a.keys()))\n",
    "\n",
    "str1= 'Python is great and Java is also great'\n",
    "\n",
    "rem_dup(str1)"
   ]
  },
  {
   "cell_type": "code",
   "execution_count": 10,
   "metadata": {},
   "outputs": [
    {
     "name": "stdout",
     "output_type": "stream",
     "text": [
      "input_split: ['abcd', 'hijk']\n",
      "i abcd\n",
      "i hijk\n",
      "after join ['abcd', 'hijk']\n"
     ]
    }
   ],
   "source": [
    "input='abcd hijk'\n",
    "input = input.split(\" \")\n",
    "print('input_split:', input)\n",
    "  \n",
    "# joins two adjacent elements in iterable way \n",
    "for i in range(0, len(input)): \n",
    "    input[i] = \"\".join(input[i])\n",
    "    print('i', input[i])\n",
    "    \n",
    "print('after join', input)\n",
    "    "
   ]
  },
  {
   "cell_type": "code",
   "execution_count": 21,
   "metadata": {},
   "outputs": [
    {
     "name": "stdout",
     "output_type": "stream",
     "text": [
      "paizwlc\n"
     ]
    }
   ],
   "source": [
    "# 3. Python Dictionary to find mirror characters in a string\n",
    "\n",
    "def mirrorChars(input,k): \n",
    "  \n",
    "    # create dictionary \n",
    "    original = 'abcdefghijklmnopqrstuvwxyz'\n",
    "    reverse =  'zyxwvutsrqponmlkjihgfedcba'\n",
    "    dictChars = dict(zip(original,reverse)) \n",
    "  \n",
    "    # separate out string after length k to change \n",
    "    # characters in mirror \n",
    "    prefix = input[0:k-1] \n",
    "    suffix = input[k-1:] \n",
    "    mirror = '' \n",
    "  \n",
    "    # change into mirror \n",
    "    for i in range(0,len(suffix)): \n",
    "         mirror = mirror + dictChars[suffix[i]] \n",
    "  \n",
    "    # concat prefix and mirrored part \n",
    "    print (prefix+mirror) \n",
    "           \n",
    "# Driver program \n",
    "if __name__ == \"__main__\": \n",
    "    input = 'paradox'\n",
    "    k = 3\n",
    "    mirrorChars(input,k)"
   ]
  },
  {
   "cell_type": "code",
   "execution_count": 28,
   "metadata": {},
   "outputs": [
    {
     "name": "stdout",
     "output_type": "stream",
     "text": [
      "paizwlc\n"
     ]
    }
   ],
   "source": [
    "input = 'paradox'\n",
    "\n",
    "k=3\n",
    "\n",
    "original = 'abcdefghijklmnopqrstuvwxyz'\n",
    "reverse =  'zyxwvutsrqponmlkjihgfedcba'\n",
    "dictChars = dict(zip(original,reverse))\n",
    "\n",
    "prefix = input[0:k-1] \n",
    "suffix = input[k-1:] \n",
    "mirror = ''\n",
    "\n",
    "for i in range(0,len(suffix)):\n",
    "    mirror = mirror + dictChars[suffix[i]]\n",
    "    \n",
    "print (prefix+mirror)\n"
   ]
  },
  {
   "cell_type": "code",
   "execution_count": 33,
   "metadata": {},
   "outputs": [
    {
     "name": "stdout",
     "output_type": "stream",
     "text": [
      "paizwlc\n"
     ]
    }
   ],
   "source": [
    "def find_dict_mirror(string, k):\n",
    "    \n",
    "    original='abcdefghijklmnopqrstuvwxyz'\n",
    "    reversed1='zyxwvutsrpqonmlkjihgfedcba'\n",
    "    mirror=''\n",
    "    \n",
    "    dictchar=dict(zip(original, reversed1))\n",
    "    \n",
    "    prefix=string[0:k-1]\n",
    "    suffix=string[k-1:]\n",
    "    \n",
    "    for i in range(0, len(suffix)):\n",
    "        mirror=mirror+dictchar[suffix[i]]\n",
    "                   \n",
    "    print (prefix+mirror)\n",
    "\n",
    "string = 'paradox'\n",
    "find_dict_mirror(string, 3)"
   ]
  },
  {
   "cell_type": "code",
   "execution_count": 37,
   "metadata": {},
   "outputs": [
    {
     "name": "stdout",
     "output_type": "stream",
     "text": [
      "Counter({1: 5, 2: 4, 3: 3, 4: 3, 5: 2})\n"
     ]
    }
   ],
   "source": [
    "# 4. Counting the frequencies in a list using dictionary in Python\n",
    "\n",
    "'''\n",
    "Input : [1, 1, 1, 5, 5, 3, 1, 3, 3, 1,\n",
    "                  4, 4, 4, 2, 2, 2, 2]\n",
    "Output : 1 : 5\n",
    "         2 : 4\n",
    "         3 : 3\n",
    "         4 : 3\n",
    "         5 : 2\n",
    "\n",
    "'''\n",
    "from collections import Counter\n",
    "\n",
    "def freq_list(lst):\n",
    "    \n",
    "    dic=Counter(lst)\n",
    "    print(dic)\n",
    "    \n",
    "input1 = [1, 1, 1, 5, 5, 3, 1, 3, 3, 1, 4, 4, 4, 2, 2, 2, 2] \n",
    "freq_list(input1)"
   ]
  },
  {
   "cell_type": "code",
   "execution_count": 52,
   "metadata": {},
   "outputs": [
    {
     "data": {
      "text/plain": [
       "{'akash': 10,\n",
       " 'gaurav': 12,\n",
       " 'anand': 14,\n",
       " 'suraj': 20,\n",
       " 'akhil': 25,\n",
       " 'ashish': 30}"
      ]
     },
     "execution_count": 52,
     "metadata": {},
     "output_type": "execute_result"
    }
   ],
   "source": [
    "# 5. Python | Convert a list of Tuples into Dictionary\n",
    "\n",
    "def list_tuple_todict(lst):\n",
    "    \n",
    "    return dict(lst)\n",
    "\n",
    "tups = [(\"akash\", 10), (\"gaurav\", 12), (\"anand\", 14), (\"suraj\", 20), (\"akhil\", 25), (\"ashish\", 30)]\n",
    "\n",
    "list_tuple_todict(tups)"
   ]
  },
  {
   "cell_type": "code",
   "execution_count": 49,
   "metadata": {},
   "outputs": [
    {
     "data": {
      "text/plain": [
       "{'akash': 10,\n",
       " 'gaurav': 12,\n",
       " 'anand': 14,\n",
       " 'suraj': 20,\n",
       " 'akhil': 25,\n",
       " 'ashish': 30}"
      ]
     },
     "execution_count": 49,
     "metadata": {},
     "output_type": "execute_result"
    }
   ],
   "source": [
    "tups = [(\"akash\", 10), (\"gaurav\", 12), (\"anand\", 14), (\"suraj\", 20), (\"akhil\", 25), (\"ashish\", 30)]\n",
    "\n",
    "dict(tups)"
   ]
  },
  {
   "cell_type": "code",
   "execution_count": 56,
   "metadata": {},
   "outputs": [
    {
     "name": "stdout",
     "output_type": "stream",
     "text": [
      "possibe\n"
     ]
    }
   ],
   "source": [
    "# 6. Python counter and dictionary intersection example (Make a string using deletion and rearrangement)\n",
    "\n",
    "'''\n",
    "Input : s1 = ABHISHEKsinGH\n",
    "      : s2 = gfhfBHkooIHnfndSHEKsiAnG\n",
    "Output : Possible\n",
    "\n",
    "Input : s1 = Hello\n",
    "      : s2 = dnaKfhelddf\n",
    "Output : Not Possible\n",
    "\n",
    "'''\n",
    "from collections import Counter\n",
    "def rearrangement(s1,s2):\n",
    "    \n",
    "    a=Counter(s1)\n",
    "    b=Counter(s2)\n",
    "    \n",
    "    result=a&b\n",
    "    \n",
    "    if result==a:\n",
    "        print('possibe')\n",
    "    else:\n",
    "        \n",
    "        print('not possible')\n",
    "    \n",
    "    \n",
    "s1 = 'ABHISHEKsinGH'\n",
    "s2 = 'gfhfBHkooIHnfndSHEKsiAnG'\n",
    "\n",
    "rearrangement(s1,s2)\n",
    "    "
   ]
  },
  {
   "cell_type": "code",
   "execution_count": 58,
   "metadata": {},
   "outputs": [
    {
     "name": "stdout",
     "output_type": "stream",
     "text": [
      "not possible\n"
     ]
    }
   ],
   "source": [
    "s1 = 'Hello'\n",
    "s2 = 'dnaKfhelddf'\n",
    "\n",
    "rearrangement(s1,s2)"
   ]
  },
  {
   "cell_type": "code",
   "execution_count": 62,
   "metadata": {},
   "outputs": [
    {
     "name": "stdout",
     "output_type": "stream",
     "text": [
      "yes\n"
     ]
    }
   ],
   "source": [
    "# 7.Python dictionary, set and counter to check if frequencies can become same\n",
    "#Given a string which contains lower alphabetic characters, we need to remove at most one \n",
    "#character from this string in such a way that frequency of each distinct character becomes same in the string.\n",
    "\n",
    "\n",
    "'''\n",
    "Input  : str = “xyyz”\n",
    "Output : Yes\n",
    "We can remove character ’y’ from above \n",
    "string to make the frequency of each \n",
    "character same. \n",
    "\n",
    "Input : str = “xyyzz” \n",
    "Output : Yes\n",
    "We can remove character ‘x’ from above \n",
    "string to make the frequency of each \n",
    "character same.\n",
    "\n",
    "Input : str = “xxxxyyzz” \n",
    "Output : No\n",
    "It is not possible to make frequency of \n",
    "each character same just by removing at \n",
    "most one character from above string.\n",
    "'''\n",
    "\n",
    "from collections import Counter\n",
    "\n",
    "def freq_same(str1):\n",
    "    \n",
    "    d=Counter(str1)\n",
    "    \n",
    "    s=set(d.values())\n",
    "    \n",
    "    if len(s)==1:\n",
    "        print('yes')\n",
    "    elif len(s)==2:\n",
    "        if list(s)[0]==1:\n",
    "            print ('yes')\n",
    "        else:\n",
    "            print ('no')\n",
    "            \n",
    "str1 = 'xyyzz'\n",
    "freq_same(str1)"
   ]
  },
  {
   "cell_type": "code",
   "execution_count": 63,
   "metadata": {},
   "outputs": [
    {
     "name": "stdout",
     "output_type": "stream",
     "text": [
      "no\n"
     ]
    }
   ],
   "source": [
    "str1='xxxxyyzz'\n",
    "freq_same(str1)"
   ]
  },
  {
   "cell_type": "markdown",
   "metadata": {},
   "source": [
    "# 3/12/2019"
   ]
  },
  {
   "cell_type": "code",
   "execution_count": 4,
   "metadata": {},
   "outputs": [],
   "source": [
    "# 1. Scraping And Finding Ordered Words In A Dictionary using Python\n",
    "\n",
    "# Python program to find ordered words \n",
    "import requests \n",
    "  \n",
    "# Scrapes the words from the URL below and stores  \n",
    "# them in a list \n",
    "def getWords(): \n",
    "  \n",
    "    # contains about 2500 words \n",
    "    url = \"http://www.puzzlers.org/pub/wordlists/unixdict.txt\"\n",
    "    fetchData = requests.get(url) \n",
    "  \n",
    "    # extracts the content of the webpage \n",
    "    wordList = fetchData.content \n",
    "  \n",
    "    # decodes the UTF-8 encoded text and splits the  \n",
    "    # string to turn it into a list of words \n",
    "    wordList = wordList.decode(\"utf-8\").split() \n",
    "  \n",
    "    return wordList \n",
    "  \n",
    "  \n",
    " # function to determine whether a word is ordered or not \n",
    "def isOrdered(): \n",
    "  \n",
    "    # fetching the wordList \n",
    "    collection = getWords() \n",
    "  \n",
    "    # since the first few of the elements of the  \n",
    "    # dictionary are numbers, getting rid of those \n",
    "    # numbers by slicing off the first 17 elements \n",
    "    collection = collection[16:] \n",
    "    word = '' \n",
    "  \n",
    "    for word in collection: \n",
    "        result = 'Word is ordered'\n",
    "        i = 0\n",
    "        l = len(word) - 1\n",
    "  \n",
    "        if (len(word) < 3): # skips the 1 and 2 lettered strings \n",
    "            continue\n",
    "  \n",
    "        # traverses through all characters of the word in pairs \n",
    "        while i < l:          \n",
    "            if (ord(word[i]) > ord(word[i+1])): \n",
    "                result = 'Word is not ordered'\n",
    "                break\n",
    "            else: \n",
    "                i += 1\n",
    "  \n",
    "        # only printing the ordered words \n",
    "        if (result == 'Word is ordered'): \n",
    "            print(word,': ',result) \n",
    "  \n",
    "  \n",
    "# execute isOrdered() function \n",
    "isOrdered() "
   ]
  },
  {
   "cell_type": "code",
   "execution_count": 5,
   "metadata": {},
   "outputs": [
    {
     "name": "stdout",
     "output_type": "stream",
     "text": [
      "me\n",
      "goal\n"
     ]
    }
   ],
   "source": [
    "# 2.Possible Words using given characters in Python\n",
    "\n",
    "'''\n",
    "Input : Dict = [\"go\",\"bat\",\"me\",\"eat\",\"goal\",\"boy\", \"run\"]\n",
    "        arr = ['e','o','b', 'a','m','g', 'l']\n",
    "Output : go, me, goal. \n",
    "'''\n",
    "\n",
    "def charCount(word): \n",
    "    dict = {} \n",
    "    for i in word: \n",
    "        dict[i] = dict.get(i, 0) + 1\n",
    "    return dict\n",
    "  \n",
    "def possible_words(lwords, charSet): \n",
    "    for word in lwords: \n",
    "        flag = 1\n",
    "        chars = charCount(word) \n",
    "        for key in chars: \n",
    "            if key not in charSet: \n",
    "                flag = 0\n",
    "            else: \n",
    "                if charSet.count(key) != chars[key]: \n",
    "                    flag = 0\n",
    "        if flag == 1: \n",
    "            print(word) \n",
    "\n",
    "input = ['goo', 'bat', 'me', 'eat', 'goal', 'boy', 'run'] \n",
    "charSet = ['e', 'o', 'b', 'a', 'm', 'g', 'l'] \n",
    "possible_words(input, charSet) "
   ]
  },
  {
   "cell_type": "code",
   "execution_count": 10,
   "metadata": {},
   "outputs": [
    {
     "data": {
      "text/plain": [
       "[(1, 1), (2, 8), (3, 27)]"
      ]
     },
     "execution_count": 10,
     "metadata": {},
     "output_type": "execute_result"
    }
   ],
   "source": [
    "# 3.Python program to create a list of tuples from given list having number and its cube in each tuple\n",
    "'''\n",
    "    Input: list = [1, 2, 3]\n",
    "    Output: [(1, 1), (2, 8), (3, 27)]\n",
    "    \n",
    "'''\n",
    "    \n",
    "    \n",
    "def list_tuple(lst):\n",
    "    lst1=[]\n",
    "    \n",
    "    for i in lst:\n",
    "        tup=(i, i**3)\n",
    "        lst1.append(tup)\n",
    "    return lst1\n",
    "\n",
    "lst=[1,2,3]\n",
    "list_tuple(lst)\n",
    "    "
   ]
  },
  {
   "cell_type": "code",
   "execution_count": 12,
   "metadata": {},
   "outputs": [
    {
     "name": "stdout",
     "output_type": "stream",
     "text": [
      "[(1, 1), (2, 8), (3, 27)]\n"
     ]
    }
   ],
   "source": [
    "lst=[1,2,3]\n",
    "\n",
    "res=[(val, val**3) for val in lst]\n",
    "#res = [(val, pow(val, 3)) for val in list1]\n",
    "print(res)"
   ]
  },
  {
   "cell_type": "code",
   "execution_count": 21,
   "metadata": {},
   "outputs": [
    {
     "data": {
      "text/plain": [
       "[('Geeks', 8), ('for', 24), ('Geeks', 30)]"
      ]
     },
     "execution_count": 21,
     "metadata": {},
     "output_type": "execute_result"
    }
   ],
   "source": [
    "# 4. Python program to sort a list of tuples by second Item\n",
    "\n",
    "'''\n",
    "Input : [('for', 24), ('Geeks', 8), ('Geeks', 30)] \n",
    "Output : [('Geeks', 8), ('for', 24), ('Geeks', 30)]\n",
    "'''\n",
    "\n",
    "def sort_tuple(lst):\n",
    "    \n",
    "    res=sorted(lst, key=lambda x:x[1])\n",
    "    return res\n",
    "    \n",
    "\n",
    "lst=[('for', 24), ('Geeks', 8), ('Geeks', 30)]\n",
    "sort_tuple(lst)"
   ]
  },
  {
   "cell_type": "code",
   "execution_count": 23,
   "metadata": {},
   "outputs": [
    {
     "data": {
      "text/plain": [
       "[('Geeks', 8), ('for', 24), ('Geeks', 30)]"
      ]
     },
     "execution_count": 23,
     "metadata": {},
     "output_type": "execute_result"
    }
   ],
   "source": [
    "def sort_tuple(lst):\n",
    "    \n",
    "    lst.sort(key=lambda x: x[1])\n",
    "    return lst\n",
    "    \n",
    "\n",
    "lst=[('for', 24), ('Geeks', 8), ('Geeks', 30)]\n",
    "sort_tuple(lst)"
   ]
  },
  {
   "cell_type": "code",
   "execution_count": 26,
   "metadata": {},
   "outputs": [
    {
     "name": "stdout",
     "output_type": "stream",
     "text": [
      "(100000, 4096, 78125, 7776)\n"
     ]
    }
   ],
   "source": [
    "# 5. Raise elements of tuple as power to another tuple\n",
    "\n",
    "def tup_pow(t1,t2):\n",
    "    \n",
    "    res= tuple(t1**t2  for t1,t2 in zip(t1,t2))\n",
    "    \n",
    "    print(res)\n",
    "\n",
    "\n",
    "\n",
    "t1 = (10, 4, 5, 6)  \n",
    "t2 = (5, 6, 7, 5) \n",
    "\n",
    "tup_pow(t1,t2)"
   ]
  },
  {
   "cell_type": "code",
   "execution_count": 30,
   "metadata": {},
   "outputs": [
    {
     "data": {
      "text/plain": [
       "8"
      ]
     },
     "execution_count": 30,
     "metadata": {},
     "output_type": "execute_result"
    }
   ],
   "source": [
    "pow(2,3)"
   ]
  },
  {
   "cell_type": "code",
   "execution_count": 31,
   "metadata": {},
   "outputs": [
    {
     "name": "stdout",
     "output_type": "stream",
     "text": [
      "(100000, 4096, 78125, 7776)\n"
     ]
    }
   ],
   "source": [
    "def tup_pow(t1,t2):\n",
    "    \n",
    "    res= tuple(map(pow,t1,t2))\n",
    "    \n",
    "    print(res)\n",
    "\n",
    "\n",
    "\n",
    "t1 = (10, 4, 5, 6)  \n",
    "t2 = (5, 6, 7, 5) \n",
    "\n",
    "tup_pow(t1,t2)"
   ]
  },
  {
   "cell_type": "code",
   "execution_count": 34,
   "metadata": {},
   "outputs": [
    {
     "data": {
      "text/plain": [
       "(15, 2, 2, 3)"
      ]
     },
     "execution_count": 34,
     "metadata": {},
     "output_type": "execute_result"
    }
   ],
   "source": [
    "# Tuple XOR operation\n",
    "\n",
    "def tup_xor(t1,t2):\n",
    "    \n",
    "    res=tuple(t1^t2 for t1,t2 in zip(t1,t2))\n",
    "    \n",
    "    return (res)\n",
    "\n",
    "\n",
    "\n",
    "t1 = (10, 4, 5, 6)  \n",
    "t2 = (5, 6, 7, 5) \n",
    "\n",
    "tup_xor(t1,t2)\n",
    "    "
   ]
  },
  {
   "cell_type": "code",
   "execution_count": 38,
   "metadata": {},
   "outputs": [
    {
     "data": {
      "text/plain": [
       "(15, 2, 2, 3)"
      ]
     },
     "execution_count": 38,
     "metadata": {},
     "output_type": "execute_result"
    }
   ],
   "source": [
    "from operator import xor\n",
    "def tup_xor(t1,t2):\n",
    "    \n",
    "    res=tuple(map(xor,t1,t2))\n",
    "    \n",
    "    return (res)\n",
    "\n",
    "\n",
    "\n",
    "t1 = (10, 4, 5, 6)  \n",
    "t2 = (5, 6, 7, 5) \n",
    "\n",
    "tup_xor(t1,t2)"
   ]
  },
  {
   "cell_type": "markdown",
   "metadata": {},
   "source": [
    "# 5/12/2019"
   ]
  },
  {
   "cell_type": "code",
   "execution_count": 1,
   "metadata": {},
   "outputs": [
    {
     "ename": "ModuleNotFoundError",
     "evalue": "No module named 'spacy'",
     "output_type": "error",
     "traceback": [
      "\u001b[1;31m---------------------------------------------------------------------------\u001b[0m",
      "\u001b[1;31mModuleNotFoundError\u001b[0m                       Traceback (most recent call last)",
      "\u001b[1;32m<ipython-input-1-76a01d9c502b>\u001b[0m in \u001b[0;36m<module>\u001b[1;34m\u001b[0m\n\u001b[1;32m----> 1\u001b[1;33m \u001b[1;32mimport\u001b[0m \u001b[0mspacy\u001b[0m\u001b[1;33m\u001b[0m\u001b[1;33m\u001b[0m\u001b[0m\n\u001b[0m",
      "\u001b[1;31mModuleNotFoundError\u001b[0m: No module named 'spacy'"
     ]
    }
   ],
   "source": [
    "import spacy"
   ]
  },
  {
   "cell_type": "code",
   "execution_count": 6,
   "metadata": {},
   "outputs": [
    {
     "name": "stderr",
     "output_type": "stream",
     "text": [
      "'{sys.executable}' is not recognized as an internal or external command,\n",
      "operable program or batch file.\n"
     ]
    }
   ],
   "source": [
    "! -m pip install -U spacy"
   ]
  },
  {
   "cell_type": "code",
   "execution_count": 7,
   "metadata": {},
   "outputs": [
    {
     "name": "stderr",
     "output_type": "stream",
     "text": [
      "C:\\Users\\Santosh\\Anaconda3\\python.exe: No module named spacy\n"
     ]
    }
   ],
   "source": [
    "!python -m spacy download en"
   ]
  },
  {
   "cell_type": "code",
   "execution_count": 5,
   "metadata": {},
   "outputs": [
    {
     "data": {
      "text/plain": [
       "('gfg', 'is', 'best')"
      ]
     },
     "execution_count": 5,
     "metadata": {},
     "output_type": "execute_result"
    }
   ],
   "source": [
    "# 1. Create a tuple from string and list – Python\n",
    "\n",
    "test_list = [\"gfg\", \"is\"] \n",
    "test_str = \"best\"\n",
    "\n",
    "tuple(test_list+ [test_str])\n",
    "#1"
   ]
  },
  {
   "cell_type": "code",
   "execution_count": 21,
   "metadata": {},
   "outputs": [
    {
     "data": {
      "text/plain": [
       "('gfg', 'is', 'best', 'code')"
      ]
     },
     "execution_count": 21,
     "metadata": {},
     "output_type": "execute_result"
    }
   ],
   "source": [
    "def conv_lstring_tuple(tup1_list, tup2_string):\n",
    "    tup2=tup2_string.split()\n",
    "    \n",
    "    conv_res=tuple(tup1_list+tup2)\n",
    "    \n",
    "    return conv_res\n",
    "    \n",
    "test_list = [\"gfg\", \"is\"] \n",
    "test_str = \"best code\"\n",
    "\n",
    "conv_lstring_tuple(test_list, test_str)\n",
    "#2"
   ]
  },
  {
   "cell_type": "code",
   "execution_count": 31,
   "metadata": {},
   "outputs": [
    {
     "data": {
      "text/plain": [
       "('best', 'code', 'gfg', 'is')"
      ]
     },
     "execution_count": 31,
     "metadata": {},
     "output_type": "execute_result"
    }
   ],
   "source": [
    "test_list = [\"gfg\", \"is\"] \n",
    "test_str = \"best code\"\n",
    "\n",
    "tuple(test_str.split())+tuple(test_list)\n",
    "#3"
   ]
  },
  {
   "cell_type": "code",
   "execution_count": 26,
   "metadata": {},
   "outputs": [
    {
     "name": "stdout",
     "output_type": "stream",
     "text": [
      "The original list : ['is', 'best']\n",
      "The original string : gfg\n",
      "The aggregated tuple is : ('gfg', 'is', 'best')\n"
     ]
    }
   ],
   "source": [
    "test_list = [\"is\", \"best\"] \n",
    "test_str = \"gfg\"\n",
    "  \n",
    "# printing original list and tuple \n",
    "print(\"The original list : \" + str(test_list)) \n",
    "print(\"The original string : \" + test_str) \n",
    "  \n",
    "# Construct tuple from string and list \n",
    "# using tuple conversion to tuple + tuple() \n",
    "res = (test_str, ) + tuple(test_list) \n",
    "  \n",
    "# printing result \n",
    "print(\"The aggregated tuple is : \" + str(res)) \n",
    "#4"
   ]
  },
  {
   "cell_type": "code",
   "execution_count": 33,
   "metadata": {},
   "outputs": [
    {
     "name": "stdout",
     "output_type": "stream",
     "text": [
      "((1, 1, 1), (2, 2, 2), (3, 3, 3), (4, 4, 4), (5, 5, 5))\n"
     ]
    }
   ],
   "source": [
    "# 2.  N element incremental tuples\n",
    "\n",
    "n=3\n",
    "\n",
    "res=tuple((ele,)*n for ele in range(1,6))\n",
    "print(res)\n",
    "#5"
   ]
  },
  {
   "cell_type": "code",
   "execution_count": 36,
   "metadata": {},
   "outputs": [
    {
     "name": "stdout",
     "output_type": "stream",
     "text": [
      "((1, 1, 1), (2, 2, 2), (3, 3, 3), (4, 4, 4), (5, 5, 5))\n"
     ]
    }
   ],
   "source": [
    "from itertools import repeat \n",
    "n=3\n",
    "\n",
    "res=tuple(tuple(repeat(ele, n)) for ele in range(1,6))\n",
    "\n",
    "print(res)\n",
    "#6"
   ]
  },
  {
   "cell_type": "code",
   "execution_count": 48,
   "metadata": {},
   "outputs": [
    {
     "data": {
      "text/plain": [
       "145"
      ]
     },
     "execution_count": 48,
     "metadata": {},
     "output_type": "execute_result"
    }
   ],
   "source": [
    "# 3. Convert Tuple to integer\n",
    "\n",
    "test_tuple=(1,4,5)\n",
    "a=''\n",
    "for i in test_tuple:\n",
    "    a=a+str(i)\n",
    "\n",
    "int(a)\n",
    "#7"
   ]
  },
  {
   "cell_type": "code",
   "execution_count": 52,
   "metadata": {},
   "outputs": [
    {
     "data": {
      "text/plain": [
       "145"
      ]
     },
     "execution_count": 52,
     "metadata": {},
     "output_type": "execute_result"
    }
   ],
   "source": [
    "test_tup=(1,4,5)\n",
    "\n",
    "a=''.join(map(str,test_tup))\n",
    "int(a)\n",
    "#8"
   ]
  },
  {
   "cell_type": "code",
   "execution_count": 56,
   "metadata": {},
   "outputs": [
    {
     "name": "stdout",
     "output_type": "stream",
     "text": [
      "145\n"
     ]
    }
   ],
   "source": [
    "import functools\n",
    "test_tuple=(1,4,5)\n",
    "res = functools.reduce(lambda sub, ele: sub * 10+ ele, test_tuple)\n",
    "print(res)"
   ]
  },
  {
   "cell_type": "code",
   "execution_count": 60,
   "metadata": {},
   "outputs": [
    {
     "name": "stdout",
     "output_type": "stream",
     "text": [
      "True\n"
     ]
    }
   ],
   "source": [
    "# 4.  Check if tuple has any None value\n",
    "\n",
    "test_tup = (10, 4, 5, 6, None) \n",
    "\n",
    "for i in test_tup:\n",
    "    if i ==None:\n",
    "        print(True)\n",
    "        break\n",
    "else:\n",
    "    print(False)\n",
    "#9   "
   ]
  },
  {
   "cell_type": "code",
   "execution_count": 64,
   "metadata": {},
   "outputs": [
    {
     "name": "stdout",
     "output_type": "stream",
     "text": [
      "True\n"
     ]
    }
   ],
   "source": [
    "test_tup = (10, 4, 5, 6, None) \n",
    "\n",
    "res=any(map(lambda ele: ele is None, test_tup))\n",
    "\n",
    "print(res)"
   ]
  },
  {
   "cell_type": "code",
   "execution_count": 67,
   "metadata": {},
   "outputs": [
    {
     "name": "stdout",
     "output_type": "stream",
     "text": [
      "True\n"
     ]
    }
   ],
   "source": [
    "# 5. Check if element is present in tuple\n",
    "\n",
    "test_tup = (10, 4, 5, 6, None)\n",
    "N=6\n",
    "\n",
    "for i in test_tup:\n",
    "    if i ==N:\n",
    "        print(True)\n",
    "        break\n",
    "else:\n",
    "    print(False)\n",
    "    \n",
    "#10"
   ]
  },
  {
   "cell_type": "code",
   "execution_count": 68,
   "metadata": {},
   "outputs": [
    {
     "data": {
      "text/plain": [
       "True"
      ]
     },
     "execution_count": 68,
     "metadata": {},
     "output_type": "execute_result"
    }
   ],
   "source": [
    "test_tup = (10, 4, 5, 6, None)\n",
    "N=6\n",
    "\n",
    "N in test_tup"
   ]
  },
  {
   "cell_type": "markdown",
   "metadata": {},
   "source": [
    "# 6/12/2019"
   ]
  },
  {
   "cell_type": "code",
   "execution_count": 71,
   "metadata": {},
   "outputs": [
    {
     "name": "stdout",
     "output_type": "stream",
     "text": [
      "(50, 24, 35, 30)\n"
     ]
    }
   ],
   "source": [
    "# 6. Tuple multiplication\n",
    "\n",
    "from operator import mul \n",
    "\n",
    "test_tup1 = (10, 4, 5, 6) \n",
    "test_tup2 = (5, 6, 7, 5) \n",
    "\n",
    "res=tuple(map(mul, test_tup1,test_tup2))\n",
    "print(res)\n",
    "#1"
   ]
  },
  {
   "cell_type": "code",
   "execution_count": 73,
   "metadata": {},
   "outputs": [
    {
     "data": {
      "text/plain": [
       "(50, 24, 35, 30)"
      ]
     },
     "execution_count": 73,
     "metadata": {},
     "output_type": "execute_result"
    }
   ],
   "source": [
    "from operator import mul\n",
    "\n",
    "def tup_mul(t1,t2):\n",
    "    \n",
    "    res=tuple(map(mul,t1,t2))\n",
    "    \n",
    "    return res\n",
    "\n",
    "t1 = (10, 4, 5, 6) \n",
    "t2 = (5, 6, 7, 5) \n",
    "tup_mul(t1,t2)\n",
    "#2"
   ]
  },
  {
   "cell_type": "code",
   "execution_count": 75,
   "metadata": {},
   "outputs": [
    {
     "name": "stdout",
     "output_type": "stream",
     "text": [
      "(50, 24, 35, 30)\n"
     ]
    }
   ],
   "source": [
    "t1 = (10, 4, 5, 6) \n",
    "t2 = (5, 6, 7, 5) \n",
    "\n",
    "res=tuple(i*j for i,j in zip(t1,t2))\n",
    "\n",
    "print(res)\n",
    "#3"
   ]
  },
  {
   "cell_type": "code",
   "execution_count": 77,
   "metadata": {},
   "outputs": [
    {
     "data": {
      "text/plain": [
       "True"
      ]
     },
     "execution_count": 77,
     "metadata": {},
     "output_type": "execute_result"
    }
   ],
   "source": [
    "# 7. Check if one tuple is subset of other\n",
    "\n",
    "test_tup1 = (10, 4, 5, 6) \n",
    "test_tup2 = (5, 10)\n",
    "\n",
    "a=set(test_tup1)\n",
    "b=set(test_tup1)\n",
    "\n",
    "b.issubset(a)\n",
    "#4"
   ]
  },
  {
   "cell_type": "code",
   "execution_count": 82,
   "metadata": {},
   "outputs": [
    {
     "name": "stdout",
     "output_type": "stream",
     "text": [
      "False\n"
     ]
    }
   ],
   "source": [
    "test_tup1 = (10, 4, 5, 6) \n",
    "test_tup2 = (5, 10,11)\n",
    "\n",
    "res=set(test_tup2).issubset(test_tup1)\n",
    "\n",
    "print(res)\n",
    "#5"
   ]
  },
  {
   "cell_type": "code",
   "execution_count": 85,
   "metadata": {},
   "outputs": [
    {
     "name": "stdout",
     "output_type": "stream",
     "text": [
      "True\n"
     ]
    }
   ],
   "source": [
    "\n",
    "test_tup1 = (10, 4, 5, 6) \n",
    "test_tup2 = (5, 10)\n",
    "res = all(ele in test_tup1 for ele in test_tup2) \n",
    "print(res)\n",
    "#6"
   ]
  },
  {
   "cell_type": "markdown",
   "metadata": {},
   "source": [
    "# Binary Search "
   ]
  },
  {
   "cell_type": "code",
   "execution_count": 11,
   "metadata": {},
   "outputs": [
    {
     "ename": "KeyboardInterrupt",
     "evalue": "",
     "output_type": "error",
     "traceback": [
      "\u001b[1;31m---------------------------------------------------------------------------\u001b[0m",
      "\u001b[1;31mKeyboardInterrupt\u001b[0m                         Traceback (most recent call last)",
      "\u001b[1;32m<ipython-input-11-81f42aea28a3>\u001b[0m in \u001b[0;36m<module>\u001b[1;34m\u001b[0m\n\u001b[0;32m     22\u001b[0m \u001b[0mn\u001b[0m\u001b[1;33m=\u001b[0m\u001b[1;36m7\u001b[0m\u001b[1;33m\u001b[0m\u001b[1;33m\u001b[0m\u001b[0m\n\u001b[0;32m     23\u001b[0m \u001b[1;33m\u001b[0m\u001b[0m\n\u001b[1;32m---> 24\u001b[1;33m \u001b[1;32mif\u001b[0m \u001b[0mbinsearch\u001b[0m\u001b[1;33m(\u001b[0m\u001b[0mlst\u001b[0m\u001b[1;33m,\u001b[0m \u001b[0mn\u001b[0m\u001b[1;33m)\u001b[0m\u001b[1;33m:\u001b[0m\u001b[1;33m\u001b[0m\u001b[1;33m\u001b[0m\u001b[0m\n\u001b[0m\u001b[0;32m     25\u001b[0m     \u001b[0mprint\u001b[0m\u001b[1;33m(\u001b[0m\u001b[1;34m'Fount at:'\u001b[0m\u001b[1;33m,\u001b[0m \u001b[0mpos\u001b[0m\u001b[1;33m+\u001b[0m\u001b[1;36m1\u001b[0m\u001b[1;33m)\u001b[0m\u001b[1;33m\u001b[0m\u001b[1;33m\u001b[0m\u001b[0m\n\u001b[0;32m     26\u001b[0m \u001b[1;32melse\u001b[0m\u001b[1;33m:\u001b[0m\u001b[1;33m\u001b[0m\u001b[1;33m\u001b[0m\u001b[0m\n",
      "\u001b[1;32m<ipython-input-11-81f42aea28a3>\u001b[0m in \u001b[0;36mbinsearch\u001b[1;34m(lst, n)\u001b[0m\n\u001b[0;32m     16\u001b[0m                 \u001b[0ml\u001b[0m\u001b[1;33m=\u001b[0m\u001b[0mmid\u001b[0m\u001b[1;33m+\u001b[0m\u001b[1;36m1\u001b[0m\u001b[1;33m\u001b[0m\u001b[1;33m\u001b[0m\u001b[0m\n\u001b[0;32m     17\u001b[0m             \u001b[1;32melse\u001b[0m\u001b[1;33m:\u001b[0m\u001b[1;33m\u001b[0m\u001b[1;33m\u001b[0m\u001b[0m\n\u001b[1;32m---> 18\u001b[1;33m                 \u001b[0ml\u001b[0m\u001b[1;33m=\u001b[0m\u001b[0mmid\u001b[0m\u001b[1;33m-\u001b[0m\u001b[1;36m1\u001b[0m\u001b[1;33m\u001b[0m\u001b[1;33m\u001b[0m\u001b[0m\n\u001b[0m\u001b[0;32m     19\u001b[0m     \u001b[1;32mreturn\u001b[0m \u001b[1;32mFalse\u001b[0m\u001b[1;33m\u001b[0m\u001b[1;33m\u001b[0m\u001b[0m\n\u001b[0;32m     20\u001b[0m \u001b[1;33m\u001b[0m\u001b[0m\n",
      "\u001b[1;31mKeyboardInterrupt\u001b[0m: "
     ]
    }
   ],
   "source": [
    "pos=-1\n",
    "\n",
    "def binsearch(lst, n):\n",
    "    l=0\n",
    "    u=len(lst)-1\n",
    "    \n",
    "    while l<=u:\n",
    "        \n",
    "        mid=(l+u)//2\n",
    "        \n",
    "        if lst[mid]==n:\n",
    "            globals()[pos]=mid;\n",
    "            return True\n",
    "        else:\n",
    "            if lst[mid]<n:\n",
    "                l=mid+1\n",
    "            else:\n",
    "                l=mid-1\n",
    "    return False\n",
    "\n",
    "lst=[4,7,8,12,45,99]\n",
    "n=7\n",
    "\n",
    "if binsearch(lst, n):\n",
    "    print('Fount at:', pos+1)\n",
    "else:\n",
    "    print('Not Found')\n",
    "                "
   ]
  },
  {
   "cell_type": "code",
   "execution_count": 17,
   "metadata": {},
   "outputs": [
    {
     "name": "stdout",
     "output_type": "stream",
     "text": [
      "Element is present at index 3\n"
     ]
    }
   ],
   "source": [
    "# Returns index of x in arr if present, else -1 \n",
    "def binarySearch (arr, l, r, x): \n",
    "  \n",
    "    # Check base case \n",
    "    if r >= l: \n",
    "  \n",
    "        mid = l + (r - l)//2\n",
    "  \n",
    "        # If element is present at the middle itself \n",
    "        if arr[mid] == x: \n",
    "            return mid \n",
    "          \n",
    "        # If element is smaller than mid, then it can only \n",
    "        # be present in left subarray \n",
    "        elif arr[mid] > x: \n",
    "            return binarySearch(arr, l, mid-1, x) \n",
    "  \n",
    "        # Else the element can only be present in right subarray \n",
    "        else: \n",
    "            return binarySearch(arr, mid+1, r, x) \n",
    "  \n",
    "    else: \n",
    "        # Element is not present in the array \n",
    "        return -1\n",
    "    \n",
    "# Test array \n",
    "arr = [ 2, 3, 4, 10, 40 ] \n",
    "x = 10\n",
    "  \n",
    "# Function call \n",
    "result = binarySearch(arr, 0, len(arr)-1, x) \n",
    "  \n",
    "if result != -1: \n",
    "    print (\"Element is present at index\",result )\n",
    "else: \n",
    "    print (\"Element is not present in array\")"
   ]
  },
  {
   "cell_type": "code",
   "execution_count": 23,
   "metadata": {},
   "outputs": [
    {
     "name": "stdout",
     "output_type": "stream",
     "text": [
      "value present at 5\n"
     ]
    }
   ],
   "source": [
    "def binary_search(list1, n):\n",
    "    l=0\n",
    "    u=len(list1)-1\n",
    "    \n",
    "    while l<=u:\n",
    "        \n",
    "        mid=(l+u)//2\n",
    "        if list1[mid]==n:\n",
    "            return mid\n",
    "        \n",
    "        else:\n",
    "            if list1[mid]<n:\n",
    "                l=mid+1\n",
    "            else:\n",
    "                u=mid-1\n",
    "    return False\n",
    "\n",
    "arr = [ 2, 3, 4, 10, 40 ] \n",
    "x = 0\n",
    "result=binary_search(arr,x)\n",
    "\n",
    "if result!=-1:\n",
    "    print('value present at', result+1)\n",
    "else:\n",
    "    print('value does not present in list')"
   ]
  },
  {
   "cell_type": "code",
   "execution_count": 42,
   "metadata": {},
   "outputs": [],
   "source": [
    "def bin_search_recursive(arr, l, u, n):\n",
    "    \n",
    "    if l<=u:\n",
    "        mid=(l+u)//2\n",
    "        \n",
    "        if arr[mid]==n:\n",
    "            return mid+1\n",
    "        \n",
    "        elif arr[mid]<n:\n",
    "            return bin_search_recursive(arr, mid+1, u,n)\n",
    "    \n",
    "        else:\n",
    "            return bin_search_recursive(arr, l, mid-1,n)\n",
    "    \n",
    "    else:\n",
    "        return -1"
   ]
  },
  {
   "cell_type": "code",
   "execution_count": 47,
   "metadata": {},
   "outputs": [
    {
     "name": "stdout",
     "output_type": "stream",
     "text": [
      "value present at 2\n"
     ]
    }
   ],
   "source": [
    "arr = [ 2, 3, 4, 10, 40 ] \n",
    "x = 3\n",
    "result=bin_search_recursive(arr,0, len(arr)-1,x)\n",
    "\n",
    "if result!=-1:\n",
    "    print('value present at', result)\n",
    "else:\n",
    "    print('value does not present in list')"
   ]
  },
  {
   "cell_type": "code",
   "execution_count": 59,
   "metadata": {},
   "outputs": [
    {
     "name": "stdout",
     "output_type": "stream",
     "text": [
      "720\n"
     ]
    }
   ],
   "source": [
    "# Python Program for factorial of a number\n",
    "\n",
    "n=6\n",
    "fact=1\n",
    "if n==1 or n==0:\n",
    "    print(1)\n",
    "else:\n",
    "    for i in range(1,n+1):\n",
    "        fact=fact*i\n",
    "    print(fact)"
   ]
  },
  {
   "cell_type": "code",
   "execution_count": 60,
   "metadata": {},
   "outputs": [
    {
     "data": {
      "text/plain": [
       "720"
      ]
     },
     "execution_count": 60,
     "metadata": {},
     "output_type": "execute_result"
    }
   ],
   "source": [
    "def fact(n):\n",
    "    return 1 if (n==1 or n==0) else n*fact(n-1)\n",
    "\n",
    "fact(6)"
   ]
  },
  {
   "cell_type": "code",
   "execution_count": null,
   "metadata": {},
   "outputs": [],
   "source": []
  },
  {
   "cell_type": "code",
   "execution_count": null,
   "metadata": {},
   "outputs": [],
   "source": []
  },
  {
   "cell_type": "code",
   "execution_count": null,
   "metadata": {},
   "outputs": [],
   "source": []
  },
  {
   "cell_type": "code",
   "execution_count": null,
   "metadata": {},
   "outputs": [],
   "source": []
  },
  {
   "cell_type": "code",
   "execution_count": null,
   "metadata": {},
   "outputs": [],
   "source": []
  },
  {
   "cell_type": "code",
   "execution_count": null,
   "metadata": {},
   "outputs": [],
   "source": []
  },
  {
   "cell_type": "code",
   "execution_count": null,
   "metadata": {},
   "outputs": [],
   "source": []
  },
  {
   "cell_type": "code",
   "execution_count": null,
   "metadata": {},
   "outputs": [],
   "source": []
  },
  {
   "cell_type": "code",
   "execution_count": null,
   "metadata": {},
   "outputs": [],
   "source": []
  },
  {
   "cell_type": "code",
   "execution_count": null,
   "metadata": {},
   "outputs": [],
   "source": []
  }
 ],
 "metadata": {
  "kernelspec": {
   "display_name": "Python 3",
   "language": "python",
   "name": "python3"
  },
  "language_info": {
   "codemirror_mode": {
    "name": "ipython",
    "version": 3
   },
   "file_extension": ".py",
   "mimetype": "text/x-python",
   "name": "python",
   "nbconvert_exporter": "python",
   "pygments_lexer": "ipython3",
   "version": "3.7.3"
  }
 },
 "nbformat": 4,
 "nbformat_minor": 2
}
