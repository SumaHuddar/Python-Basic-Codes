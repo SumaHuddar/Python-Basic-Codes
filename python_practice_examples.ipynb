{
 "cells": [
  {
   "cell_type": "code",
   "execution_count": 1,
   "metadata": {},
   "outputs": [
    {
     "name": "stdout",
     "output_type": "stream",
     "text": [
      "['False', 'None', 'True', 'and', 'as', 'assert', 'async', 'await', 'break', 'class', 'continue', 'def', 'del', 'elif', 'else', 'except', 'finally', 'for', 'from', 'global', 'if', 'import', 'in', 'is', 'lambda', 'nonlocal', 'not', 'or', 'pass', 'raise', 'return', 'try', 'while', 'with', 'yield']\n",
      "total number of keywords: 35\n"
     ]
    }
   ],
   "source": [
    "#KEYWORDS\n",
    "import keyword\n",
    "print(keyword.kwlist)\n",
    "print(\"total number of keywords:\", len(keyword.kwlist))"
   ]
  },
  {
   "cell_type": "code",
   "execution_count": null,
   "metadata": {},
   "outputs": [],
   "source": [
    "#comments-indentation-and-statements\n",
    "#comment\n",
    "\"\"\" triple quotes\"\"\" #or\n",
    "\"\"\"\""
   ]
  },
  {
   "cell_type": "code",
   "execution_count": 6,
   "metadata": {},
   "outputs": [
    {
     "ename": "SyntaxError",
     "evalue": "Missing parentheses in call to 'print'. Did you mean print(double.__doc__)? (<ipython-input-6-fad663bcab85>, line 6)",
     "output_type": "error",
     "traceback": [
      "\u001b[1;36m  File \u001b[1;32m\"<ipython-input-6-fad663bcab85>\"\u001b[1;36m, line \u001b[1;32m6\u001b[0m\n\u001b[1;33m    print double.__doc__\u001b[0m\n\u001b[1;37m               ^\u001b[0m\n\u001b[1;31mSyntaxError\u001b[0m\u001b[1;31m:\u001b[0m Missing parentheses in call to 'print'. Did you mean print(double.__doc__)?\n"
     ]
    }
   ],
   "source": [
    "# DocString in python\n",
    "def double(num):\n",
    "    \"\"\"double the num\"\"\"\n",
    "    return 2*num\n",
    "\n"
   ]
  },
  {
   "cell_type": "code",
   "execution_count": null,
   "metadata": {},
   "outputs": [],
   "source": [
    "print double.__doc__"
   ]
  },
  {
   "cell_type": "code",
   "execution_count": 14,
   "metadata": {},
   "outputs": [
    {
     "name": "stdout",
     "output_type": "stream",
     "text": [
      "0\n",
      "1\n",
      "2\n",
      "3\n",
      "4\n",
      "5\n",
      "6\n",
      "7\n",
      "8\n",
      "9\n",
      "yes\n",
      "42\n"
     ]
    }
   ],
   "source": [
    "#indentation\n",
    "for i in range (10):\n",
    "    print (i)\n",
    "if True:\n",
    "    print(\"yes\")\n",
    "a=1+3+5+\\\n",
    "7+9+\\\n",
    "8+9\n",
    "print(a)"
   ]
  },
  {
   "cell_type": "code",
   "execution_count": 18,
   "metadata": {},
   "outputs": [
    {
     "name": "stdout",
     "output_type": "stream",
     "text": [
      "10 is of type <class 'int'>\n",
      "(1+2j) is of type <class 'complex'>\n",
      "(1+2j) is a complex nuber?\n",
      "True\n"
     ]
    }
   ],
   "source": [
    "#variables-and-data-types-in-python\n",
    "a=10\n",
    "print(a, \"is of type\", type(a))\n",
    "b=1+2j\n",
    "print(b, \"is of type\", type(b))\n",
    "print(b,\"is a complex nuber?\")\n",
    "print(isinstance(1+2j, complex))"
   ]
  },
  {
   "cell_type": "code",
   "execution_count": 22,
   "metadata": {},
   "outputs": [
    {
     "name": "stdout",
     "output_type": "stream",
     "text": [
      "suma\n"
     ]
    }
   ],
   "source": [
    "#Python Dictionary\n",
    "d={'s1':'suma', 's2':'santosh', 's3':'sakshar'}\n",
    "print (d['s1'])"
   ]
  },
  {
   "cell_type": "code",
   "execution_count": 27,
   "metadata": {},
   "outputs": [
    {
     "name": "stdout",
     "output_type": "stream",
     "text": [
      "5.0\n",
      "5\n",
      "<class 'list'>\n",
      "<class 'set'>\n"
     ]
    }
   ],
   "source": [
    "#Conversion between Datatypes\n",
    "a=5\n",
    "a1=float(a)\n",
    "print(a1)\n",
    "a2=str(a)\n",
    "print(a2)\n",
    "b=[1,2,3,4]\n",
    "b1=type(b)\n",
    "print(b1)\n",
    "c=set(b)\n",
    "c1=type(c)\n",
    "print(c1)"
   ]
  },
  {
   "cell_type": "markdown",
   "metadata": {},
   "source": [
    "# OUTPUT"
   ]
  },
  {
   "cell_type": "code",
   "execution_count": null,
   "metadata": {},
   "outputs": [],
   "source": [
    "# Python Input and Output\n",
    "print(\"hello world\")"
   ]
  },
  {
   "cell_type": "code",
   "execution_count": 5,
   "metadata": {},
   "outputs": [
    {
     "name": "stdout",
     "output_type": "stream",
     "text": [
      "the value of a is 10\n",
      "thevalue of a is 10\n"
     ]
    }
   ],
   "source": [
    "a=10\n",
    "print(\"the value of a is\",a)\n",
    "print(\"thevalue of a is \"+ str(a))"
   ]
  },
  {
   "cell_type": "code",
   "execution_count": 7,
   "metadata": {},
   "outputs": [
    {
     "name": "stdout",
     "output_type": "stream",
     "text": [
      "the value of a is 30 and value of b is 40\n"
     ]
    }
   ],
   "source": [
    "a=30; b=40\n",
    "print(\"the value of a is {} and value of b is {}\".format(a,b))"
   ]
  },
  {
   "cell_type": "code",
   "execution_count": 9,
   "metadata": {},
   "outputs": [
    {
     "name": "stdout",
     "output_type": "stream",
     "text": [
      "hello santhu, Good morning\n"
     ]
    }
   ],
   "source": [
    "print(\"hello {name}, {greetings}\".format(name=\"santhu\", greetings=\"Good morning\"))"
   ]
  },
  {
   "cell_type": "code",
   "execution_count": 10,
   "metadata": {},
   "outputs": [
    {
     "name": "stdout",
     "output_type": "stream",
     "text": [
      "suma,saksha,Huddar\n"
     ]
    }
   ],
   "source": [
    "print(\"{0},{1},{other}\".format(\"suma\", \"saksha\", other=\"Huddar\"))"
   ]
  },
  {
   "cell_type": "code",
   "execution_count": 11,
   "metadata": {},
   "outputs": [
    {
     "name": "stdout",
     "output_type": "stream",
     "text": [
      "Enter a name:suma\n",
      "suma\n"
     ]
    }
   ],
   "source": [
    "name=input(\"Enter a name:\")\n",
    "print(name)"
   ]
  },
  {
   "cell_type": "code",
   "execution_count": 24,
   "metadata": {},
   "outputs": [
    {
     "name": "stdout",
     "output_type": "stream",
     "text": [
      "2417851639229258349412352\n"
     ]
    }
   ],
   "source": [
    "print(2**3**4)\n",
    "\n"
   ]
  },
  {
   "cell_type": "code",
   "execution_count": 23,
   "metadata": {},
   "outputs": [
    {
     "name": "stdout",
     "output_type": "stream",
     "text": [
      "8\n",
      "4096\n"
     ]
    }
   ],
   "source": [
    "print(2**3)\n",
    "print(8**4)"
   ]
  },
  {
   "cell_type": "code",
   "execution_count": 14,
   "metadata": {},
   "outputs": [
    {
     "data": {
      "text/plain": [
       "8"
      ]
     },
     "execution_count": 14,
     "metadata": {},
     "output_type": "execute_result"
    }
   ],
   "source": [
    "2**3"
   ]
  },
  {
   "cell_type": "code",
   "execution_count": 15,
   "metadata": {},
   "outputs": [
    {
     "data": {
      "text/plain": [
       "8"
      ]
     },
     "execution_count": 15,
     "metadata": {},
     "output_type": "execute_result"
    }
   ],
   "source": [
    "2**3"
   ]
  },
  {
   "cell_type": "code",
   "execution_count": 16,
   "metadata": {},
   "outputs": [
    {
     "data": {
      "text/plain": [
       "81"
      ]
     },
     "execution_count": 16,
     "metadata": {},
     "output_type": "execute_result"
    }
   ],
   "source": [
    "3**4"
   ]
  },
  {
   "cell_type": "code",
   "execution_count": 17,
   "metadata": {},
   "outputs": [
    {
     "data": {
      "text/plain": [
       "6561"
      ]
     },
     "execution_count": 17,
     "metadata": {},
     "output_type": "execute_result"
    }
   ],
   "source": [
    "81**2"
   ]
  },
  {
   "cell_type": "code",
   "execution_count": 25,
   "metadata": {},
   "outputs": [
    {
     "data": {
      "text/plain": [
       "81"
      ]
     },
     "execution_count": 25,
     "metadata": {},
     "output_type": "execute_result"
    }
   ],
   "source": [
    "3**4"
   ]
  },
  {
   "cell_type": "code",
   "execution_count": 26,
   "metadata": {},
   "outputs": [
    {
     "data": {
      "text/plain": [
       "2417851639229258349412352"
      ]
     },
     "execution_count": 26,
     "metadata": {},
     "output_type": "execute_result"
    }
   ],
   "source": [
    "2**81"
   ]
  },
  {
   "cell_type": "code",
   "execution_count": 28,
   "metadata": {},
   "outputs": [
    {
     "name": "stdout",
     "output_type": "stream",
     "text": [
      "enter your name:suma\n",
      "suma\n"
     ]
    }
   ],
   "source": [
    "# INPUT\n",
    "name=input(\"enter your name:\")\n",
    "print(name)"
   ]
  },
  {
   "cell_type": "code",
   "execution_count": 31,
   "metadata": {},
   "outputs": [
    {
     "name": "stdout",
     "output_type": "stream",
     "text": [
      "30\n",
      "-10\n",
      "200\n",
      "10\n",
      "100\n",
      "3\n"
     ]
    }
   ],
   "source": [
    "# operators\n",
    "a=10;b=20\n",
    "print(a+b)\n",
    "print(a-b)\n",
    "print(a*b)\n",
    "print(a%b)\n",
    "print(a**2)\n",
    "print(a//3) #floor operator \n"
   ]
  },
  {
   "cell_type": "code",
   "execution_count": 51,
   "metadata": {},
   "outputs": [
    {
     "name": "stdout",
     "output_type": "stream",
     "text": [
      "30\n",
      "20\n",
      "200\n",
      "20.0\n",
      "10240000000000.0\n",
      "1\n",
      "2\n"
     ]
    },
    {
     "data": {
      "text/plain": [
       "8"
      ]
     },
     "execution_count": 51,
     "metadata": {},
     "output_type": "execute_result"
    }
   ],
   "source": [
    "a=20\n",
    "a +=10\n",
    "print(a)\n",
    "a -=10\n",
    "print(a)\n",
    "a *=10\n",
    "print(a)\n",
    "a /=10\n",
    "print(a)\n",
    "a **=10\n",
    "print(a)\n",
    "a=27\n",
    "a %=2\n",
    "print(a)\n",
    "a=22\n",
    "a //=10\n",
    "print(a)\n",
    "a==a\n",
    "a>a\n",
    "a<a\n",
    "a<<a"
   ]
  },
  {
   "cell_type": "code",
   "execution_count": 58,
   "metadata": {},
   "outputs": [
    {
     "name": "stdout",
     "output_type": "stream",
     "text": [
      "True\n",
      "False\n",
      "True\n",
      "False\n",
      "True\n"
     ]
    }
   ],
   "source": [
    "#Special Operators\n",
    "#Identity Operators\n",
    "# is #is not\n",
    "a=2\n",
    "b=2\n",
    "print(a is b)\n",
    "l1=[1,2,3]\n",
    "l2=[1,2,3]\n",
    "print(l1 is l2)\n",
    "c1=\"suma\"\n",
    "c2=\"suma\"\n",
    "print(c1 is c2)\n",
    "print(c1!=c2)\n",
    "print(c1==c2)"
   ]
  },
  {
   "cell_type": "code",
   "execution_count": 59,
   "metadata": {},
   "outputs": [
    {
     "name": "stdout",
     "output_type": "stream",
     "text": [
      "True\n"
     ]
    }
   ],
   "source": [
    "#MemberShip Operators\n",
    "#in and not in are the membership operators in Python.\n",
    "#They are used to test whether a value or variable is found in a sequence (string, list, tuple, set and dictionary).\n",
    "a=[1,2,3,4]\n",
    "print(1 in a)"
   ]
  },
  {
   "cell_type": "code",
   "execution_count": 65,
   "metadata": {},
   "outputs": [
    {
     "name": "stdout",
     "output_type": "stream",
     "text": [
      "True\n",
      "False\n",
      "True\n"
     ]
    }
   ],
   "source": [
    "c={1:\"a\", 2:\"b\", \"g\":\"h\"} #{key:value}\n",
    "print(1 in c )\n",
    "print(\"a\" in c)\n",
    "print(\"g\" in c)"
   ]
  },
  {
   "cell_type": "code",
   "execution_count": null,
   "metadata": {},
   "outputs": [],
   "source": []
  }
 ],
 "metadata": {
  "kernelspec": {
   "display_name": "Python 3",
   "language": "python",
   "name": "python3"
  },
  "language_info": {
   "codemirror_mode": {
    "name": "ipython",
    "version": 3
   },
   "file_extension": ".py",
   "mimetype": "text/x-python",
   "name": "python",
   "nbconvert_exporter": "python",
   "pygments_lexer": "ipython3",
   "version": "3.7.1"
  }
 },
 "nbformat": 4,
 "nbformat_minor": 2
}
